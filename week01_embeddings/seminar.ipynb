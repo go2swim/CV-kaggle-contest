{
  "cells": [
    {
      "cell_type": "markdown",
      "metadata": {
        "id": "VQi5yvN9MgZY"
      },
      "source": [
        "## Practice: Fun with Word Embeddings (4 points total)\n",
        "\n",
        "Today we gonna play with word embeddings: train our own little embeddings, load one from the gensim model zoo and use it to visualize text corpora.\n",
        "\n",
        "This whole thing is gonna happen on top of an embedding dataset.\n",
        "\n",
        "__Requirements:__  `pip install --upgrade nltk gensim bokeh`, but only if you're running locally.\n",
        "\n",
        "**Please submit this notebook as part of your homework!**"
      ]
    },
    {
      "cell_type": "code",
      "source": [
        "!pip install gensim"
      ],
      "metadata": {
        "id": "0aJ3J-3TTR9G",
        "outputId": "4f40783e-ee6f-4573-d4e6-3e867d78e33a",
        "colab": {
          "base_uri": "https://localhost:8080/"
        }
      },
      "execution_count": 1,
      "outputs": [
        {
          "output_type": "stream",
          "name": "stdout",
          "text": [
            "Requirement already satisfied: gensim in /usr/local/lib/python3.12/dist-packages (4.3.3)\n",
            "Requirement already satisfied: numpy<2.0,>=1.18.5 in /usr/local/lib/python3.12/dist-packages (from gensim) (1.26.4)\n",
            "Requirement already satisfied: scipy<1.14.0,>=1.7.0 in /usr/local/lib/python3.12/dist-packages (from gensim) (1.13.1)\n",
            "Requirement already satisfied: smart-open>=1.8.1 in /usr/local/lib/python3.12/dist-packages (from gensim) (7.3.1)\n",
            "Requirement already satisfied: wrapt in /usr/local/lib/python3.12/dist-packages (from smart-open>=1.8.1->gensim) (1.17.3)\n"
          ]
        }
      ]
    },
    {
      "cell_type": "code",
      "execution_count": 2,
      "metadata": {
        "colab": {
          "base_uri": "https://localhost:8080/"
        },
        "id": "4zofPZbiMgZZ",
        "outputId": "747366c3-2743-4bc3-e6d2-f320472e6b33"
      },
      "outputs": [
        {
          "output_type": "stream",
          "name": "stdout",
          "text": [
            "--2025-09-21 08:04:49--  https://www.dropbox.com/s/obaitrix9jyu84r/quora.txt?dl=1\n",
            "Resolving www.dropbox.com (www.dropbox.com)... 162.125.3.18, 2620:100:601b:18::a27d:812\n",
            "Connecting to www.dropbox.com (www.dropbox.com)|162.125.3.18|:443... connected.\n",
            "HTTP request sent, awaiting response... 302 Found\n",
            "Location: https://www.dropbox.com/scl/fi/p0t2dw6oqs6oxpd6zz534/quora.txt?rlkey=bjupppwua4zmd4elz8octecy9&dl=1 [following]\n",
            "--2025-09-21 08:04:50--  https://www.dropbox.com/scl/fi/p0t2dw6oqs6oxpd6zz534/quora.txt?rlkey=bjupppwua4zmd4elz8octecy9&dl=1\n",
            "Reusing existing connection to www.dropbox.com:443.\n",
            "HTTP request sent, awaiting response... 302 Found\n",
            "Location: https://uc45bec31f8b95f74718453224b4.dl.dropboxusercontent.com/cd/0/inline/CxxgvJWEqFI6B46Swa5DG-NJA-mgdG302TJEPIvOFxnifv3jTn9yuCs9heqXROj7ioUpLeG49XRfXuxvjjKrHelZGsJMqYorX9IQDT4yTEG3rN-yjnWhzVRRLKzZwhni-fc/file?dl=1# [following]\n",
            "--2025-09-21 08:04:50--  https://uc45bec31f8b95f74718453224b4.dl.dropboxusercontent.com/cd/0/inline/CxxgvJWEqFI6B46Swa5DG-NJA-mgdG302TJEPIvOFxnifv3jTn9yuCs9heqXROj7ioUpLeG49XRfXuxvjjKrHelZGsJMqYorX9IQDT4yTEG3rN-yjnWhzVRRLKzZwhni-fc/file?dl=1\n",
            "Resolving uc45bec31f8b95f74718453224b4.dl.dropboxusercontent.com (uc45bec31f8b95f74718453224b4.dl.dropboxusercontent.com)... 162.125.3.15, 2620:100:601b:15::a27d:80f\n",
            "Connecting to uc45bec31f8b95f74718453224b4.dl.dropboxusercontent.com (uc45bec31f8b95f74718453224b4.dl.dropboxusercontent.com)|162.125.3.15|:443... connected.\n",
            "HTTP request sent, awaiting response... 200 OK\n",
            "Length: 33813903 (32M) [application/binary]\n",
            "Saving to: ‘./quora.txt’\n",
            "\n",
            "./quora.txt         100%[===================>]  32.25M  43.7MB/s    in 0.7s    \n",
            "\n",
            "2025-09-21 08:04:51 (43.7 MB/s) - ‘./quora.txt’ saved [33813903/33813903]\n",
            "\n"
          ]
        }
      ],
      "source": [
        "# download the data:\n",
        "!wget https://www.dropbox.com/s/obaitrix9jyu84r/quora.txt?dl=1 -O ./quora.txt\n",
        "# alternative download link: https://yadi.sk/i/BPQrUu1NaTduEw"
      ]
    },
    {
      "cell_type": "code",
      "execution_count": 3,
      "metadata": {
        "colab": {
          "base_uri": "https://localhost:8080/",
          "height": 35
        },
        "id": "2AVz14hXMgZa",
        "outputId": "d2ac00ed-4969-47e6-ec3e-f50aed92b460"
      },
      "outputs": [
        {
          "output_type": "execute_result",
          "data": {
            "text/plain": [
              "\"What TV shows or books help you read people's body language?\\n\""
            ],
            "application/vnd.google.colaboratory.intrinsic+json": {
              "type": "string"
            }
          },
          "metadata": {},
          "execution_count": 3
        }
      ],
      "source": [
        "import numpy as np\n",
        "\n",
        "with open(\"./quora.txt\", encoding=\"utf-8\") as file:\n",
        "    data = list(file)\n",
        "\n",
        "data[50]"
      ]
    },
    {
      "cell_type": "markdown",
      "metadata": {
        "id": "9YgmlFUyMgZb"
      },
      "source": [
        "__Tokenization:__ a typical first step for an NLP task is to split raw data into words.\n",
        "The text we're working with is in raw format: with all the punctuation and emojis attached to some words, so a simple str.split won't do.\n",
        "\n",
        "Let's use __`nltk`__ - a library that handles many NLP tasks like tokenization, stemming, or part-of-speech tagging."
      ]
    },
    {
      "cell_type": "code",
      "execution_count": 4,
      "metadata": {
        "colab": {
          "base_uri": "https://localhost:8080/"
        },
        "id": "FkSZbuvuMgZb",
        "outputId": "a43bb765-9c96-4c0d-fd3d-6aebd15ac5eb"
      },
      "outputs": [
        {
          "output_type": "stream",
          "name": "stdout",
          "text": [
            "['What', 'TV', 'shows', 'or', 'books', 'help', 'you', 'read', 'people', \"'\", 's', 'body', 'language', '?']\n"
          ]
        }
      ],
      "source": [
        "from nltk.tokenize import WordPunctTokenizer\n",
        "tokenizer = WordPunctTokenizer()\n",
        "\n",
        "print(tokenizer.tokenize(data[50]))"
      ]
    },
    {
      "cell_type": "code",
      "execution_count": 5,
      "metadata": {
        "id": "EUhwyhk3MgZc"
      },
      "outputs": [],
      "source": [
        "# TASK: lowercase everything and extract tokens with tokenizer.\n",
        "# data_tok should be a list of lists of tokens for each line in data.\n",
        "\n",
        "def sent_to_lower(sent: list) -> list:\n",
        "  return list(map(str.lower, sent))\n",
        "\n",
        "\n",
        "data_tok = [sent_to_lower(tokenizer.tokenize(sent)) for sent in data]  # YOUR CODE"
      ]
    },
    {
      "cell_type": "code",
      "execution_count": 6,
      "metadata": {
        "id": "Qs4cC1itMgZc"
      },
      "outputs": [],
      "source": [
        "assert all(isinstance(row, (list, tuple)) for row in data_tok), \"please convert each line into a list of tokens (strings)\"\n",
        "assert all(all(isinstance(tok, str) for tok in row) for row in data_tok), \"please convert each line into a list of tokens (strings)\"\n",
        "is_latin = lambda tok: all('a' <= x.lower() <= 'z' for x in tok)\n",
        "assert all(map(lambda l: not is_latin(l) or l.islower(), map(' '.join, data_tok))), \"please make sure to lowercase the data\""
      ]
    },
    {
      "cell_type": "code",
      "execution_count": 7,
      "metadata": {
        "colab": {
          "base_uri": "https://localhost:8080/"
        },
        "id": "pITzTyP1MgZc",
        "outputId": "a52399d6-732e-4523-f044-45d9b21188ff"
      },
      "outputs": [
        {
          "output_type": "stream",
          "name": "stdout",
          "text": [
            "[\"can i get back with my ex even though she is pregnant with another guy ' s baby ?\", 'what are some ways to overcome a fast food addiction ?']\n"
          ]
        }
      ],
      "source": [
        "print([' '.join(row) for row in data_tok[:2]])"
      ]
    },
    {
      "cell_type": "markdown",
      "metadata": {
        "id": "nLrdtWDmMgZd"
      },
      "source": [
        "__Word vectors:__ as the saying goes, there's more than one way to train word embeddings. There's Word2Vec and GloVe with different objective functions. Then there's fastText that uses character-level models to train word embeddings.\n",
        "\n",
        "The choice is huge, so let's start someplace small: __gensim__ is another NLP library that features many vector-based models including word2vec."
      ]
    },
    {
      "cell_type": "code",
      "source": [
        "# !python3 -m venv gensim_env\n",
        "# !source gensim_env/bin/activate\n",
        "# !.\\gensim_env\\Scripts\\activate\n",
        "!pip install gensim"
      ],
      "metadata": {
        "id": "0MdG2QVJPvjy",
        "outputId": "8522ded4-496f-4576-dbd1-616b6c4fc2a7",
        "colab": {
          "base_uri": "https://localhost:8080/"
        }
      },
      "execution_count": 8,
      "outputs": [
        {
          "output_type": "stream",
          "name": "stdout",
          "text": [
            "Requirement already satisfied: gensim in /usr/local/lib/python3.12/dist-packages (4.3.3)\n",
            "Requirement already satisfied: numpy<2.0,>=1.18.5 in /usr/local/lib/python3.12/dist-packages (from gensim) (1.26.4)\n",
            "Requirement already satisfied: scipy<1.14.0,>=1.7.0 in /usr/local/lib/python3.12/dist-packages (from gensim) (1.13.1)\n",
            "Requirement already satisfied: smart-open>=1.8.1 in /usr/local/lib/python3.12/dist-packages (from gensim) (7.3.1)\n",
            "Requirement already satisfied: wrapt in /usr/local/lib/python3.12/dist-packages (from smart-open>=1.8.1->gensim) (1.17.3)\n"
          ]
        }
      ]
    },
    {
      "cell_type": "code",
      "execution_count": 9,
      "metadata": {
        "id": "YPVUsGbvMgZd"
      },
      "outputs": [],
      "source": [
        "from gensim.models import Word2Vec\n",
        "model = Word2Vec(data_tok,\n",
        "                 vector_size=32,      # embedding vector size\n",
        "                 min_count=5,         # consider words that occurred at least 5 times\n",
        "                 window=5).wv         # define context as a 5-word window around the target word\n",
        "\n",
        "# From gensim docs\n",
        "# wv: This object essentially contains the mapping between words and embeddings.\n",
        "# After training, it can be used directly to query those embeddings in various ways."
      ]
    },
    {
      "cell_type": "code",
      "execution_count": 10,
      "metadata": {
        "colab": {
          "base_uri": "https://localhost:8080/"
        },
        "id": "PiQsRjzHMgZe",
        "outputId": "64749585-aee3-4f2d-8e63-37f3eb6f474c"
      },
      "outputs": [
        {
          "output_type": "execute_result",
          "data": {
            "text/plain": [
              "array([-3.225154  , -0.69454575,  2.0437322 ,  1.4140933 ,  2.296505  ,\n",
              "        2.1562922 ,  0.410769  , -5.141857  ,  1.3154455 ,  2.7625608 ,\n",
              "       -2.0253487 ,  1.951056  ,  2.926357  ,  0.60827905,  2.6858044 ,\n",
              "        0.54905504, -0.02901801,  0.43097067, -0.9441059 , -2.6650517 ,\n",
              "       -1.5388807 ,  0.8503393 , -1.1695423 , -2.6121335 ,  1.8542143 ,\n",
              "       -3.47167   ,  2.037958  , -0.67028415, -0.09814013,  0.2779767 ,\n",
              "       -0.99007905,  0.37484583], dtype=float32)"
            ]
          },
          "metadata": {},
          "execution_count": 10
        }
      ],
      "source": [
        "# now you can get word vectors !\n",
        "model.get_vector('anything')"
      ]
    },
    {
      "cell_type": "code",
      "execution_count": 11,
      "metadata": {
        "colab": {
          "base_uri": "https://localhost:8080/"
        },
        "id": "yASsPEcwMgZe",
        "outputId": "a76a5a70-967b-48ac-b485-4400089ef08d"
      },
      "outputs": [
        {
          "output_type": "execute_result",
          "data": {
            "text/plain": [
              "[('rice', 0.957752525806427),\n",
              " ('pasta', 0.952307403087616),\n",
              " ('fruit', 0.9376028180122375),\n",
              " ('butter', 0.9314557313919067),\n",
              " ('cheese', 0.9276126623153687),\n",
              " ('wine', 0.9212733507156372),\n",
              " ('sauce', 0.9205247163772583),\n",
              " ('chocolate', 0.9156935214996338),\n",
              " ('vodka', 0.9065364599227905),\n",
              " ('honey', 0.9035701155662537)]"
            ]
          },
          "metadata": {},
          "execution_count": 11
        }
      ],
      "source": [
        "# or query similar words directly. Go play with it!\n",
        "model.most_similar('bread')"
      ]
    },
    {
      "cell_type": "markdown",
      "metadata": {
        "id": "smfRRw8mMgZe"
      },
      "source": [
        "### Using pre-trained model\n",
        "\n",
        "Took it a while, huh? Now imagine training life-sized (100~300D) word embeddings on gigabytes of text: Wikipedia articles or Twitter posts.\n",
        "\n",
        "Thankfully, nowadays you can get a pre-trained word embedding model in 2 lines of code (no SMS required, promise).\n",
        "\n",
        "After being downloaded for the first time (or if you manually delete it), the model is saved in the `~/gensim_data` or `%USER_PATH%/gensim_data` directory. This can be checked by setting the return_path parameter to True."
      ]
    },
    {
      "cell_type": "code",
      "execution_count": 12,
      "metadata": {
        "colab": {
          "base_uri": "https://localhost:8080/"
        },
        "id": "DOJGmoMdMgZe",
        "outputId": "cfe13b6a-14d1-4914-f768-746cdfd1ae74"
      },
      "outputs": [
        {
          "output_type": "stream",
          "name": "stdout",
          "text": [
            "[==================================================] 100.0% 387.1/387.1MB downloaded\n"
          ]
        }
      ],
      "source": [
        "import gensim.downloader as api\n",
        "model = api.load('glove-twitter-100')"
      ]
    },
    {
      "cell_type": "code",
      "execution_count": 13,
      "metadata": {
        "colab": {
          "base_uri": "https://localhost:8080/"
        },
        "id": "aBNL9TOBMgZe",
        "outputId": "d83c09b4-5b4f-41f4-dfea-c4ca6e0282b1"
      },
      "outputs": [
        {
          "output_type": "execute_result",
          "data": {
            "text/plain": [
              "[('broker', 0.5820155739784241),\n",
              " ('bonuses', 0.5424473285675049),\n",
              " ('banker', 0.5385112762451172),\n",
              " ('designer', 0.5197198390960693),\n",
              " ('merchandising', 0.4964233338832855),\n",
              " ('treet', 0.4922019839286804),\n",
              " ('shopper', 0.4920562207698822),\n",
              " ('part-time', 0.4912828207015991),\n",
              " ('freelance', 0.4843311905860901),\n",
              " ('aupair', 0.4796452522277832)]"
            ]
          },
          "metadata": {},
          "execution_count": 13
        }
      ],
      "source": [
        "model.most_similar(positive=[\"coder\", \"money\"], negative=[\"brain\"])"
      ]
    },
    {
      "cell_type": "markdown",
      "metadata": {
        "id": "TmFvKDLlMgZe"
      },
      "source": [
        "```\n",
        "\n",
        "```\n",
        "\n",
        "```\n",
        "\n",
        "```\n",
        "\n",
        "```\n",
        "\n",
        "```\n",
        "\n",
        "```\n",
        "\n",
        "```\n",
        "\n",
        "\n",
        "# Visualizing data with word embeddings (1 point)"
      ]
    },
    {
      "cell_type": "markdown",
      "metadata": {
        "id": "B6HH8NbsMgZf"
      },
      "source": [
        "One way to see if our vectors are any good is to plot them. Thing is, those vectors are in 30D+ space and we humans are more used to 2-3D.\n",
        "\n",
        "Luckily, we machine learners know about __dimensionality reduction__ methods.\n",
        "\n",
        "Let's use that to plot 1000 most frequent words"
      ]
    },
    {
      "cell_type": "code",
      "execution_count": 14,
      "metadata": {
        "colab": {
          "base_uri": "https://localhost:8080/"
        },
        "id": "wNDJ6ZLaMgZf",
        "outputId": "bcc31ee3-f2ef-4bdb-c0cd-9a0df4fc4f94"
      },
      "outputs": [
        {
          "output_type": "stream",
          "name": "stdout",
          "text": [
            "['<user>', '_', 'please', 'apa', 'justin', 'text', 'hari', 'playing', 'once', 'sei']\n"
          ]
        }
      ],
      "source": [
        "words = model.index_to_key[:1000]\n",
        "\n",
        "print(words[::100])"
      ]
    },
    {
      "cell_type": "code",
      "execution_count": 15,
      "metadata": {
        "id": "J8mGt3g4MgZf"
      },
      "outputs": [],
      "source": [
        "# for each word, compute its vector with model\n",
        "\n",
        "word_vectors = np.array([model.get_vector(word) for word in words])  # YOUR CODE"
      ]
    },
    {
      "cell_type": "code",
      "execution_count": 16,
      "metadata": {
        "id": "fej0KxCMMgZf"
      },
      "outputs": [],
      "source": [
        "assert isinstance(word_vectors, np.ndarray)\n",
        "assert word_vectors.shape == (len(words), 100)\n",
        "assert np.isfinite(word_vectors).all()"
      ]
    },
    {
      "cell_type": "markdown",
      "metadata": {
        "id": "xRzHKFaBMgZf"
      },
      "source": [
        "#### Linear projection: PCA\n",
        "\n",
        "The simplest linear dimensionality reduction method is **P**rincipal **C**omponent **A**nalysis.\n",
        "\n",
        "In geometric terms, PCA tries to find axes along which most of the variance occurs. The \"natural\" axes, if you wish.\n",
        "\n",
        "<img src=\"https://github.com/yandexdataschool/Practical_RL/raw/master/yet_another_week/_resource/pca_fish.png\" style=\"width:30%\">\n",
        "\n",
        "\n",
        "Under the hood, it attempts to decompose object-feature matrix $X$ into two smaller matrices: $W$ and $\\hat W$ minimizing _mean squared error_:\n",
        "\n",
        "$$\\|(X W) \\hat{W} - X\\|^2_2 \\to_{W, \\hat{W}} \\min$$\n",
        "- $X \\in \\mathbb{R}^{n \\times m}$ - object matrix (**centered**);\n",
        "- $W \\in \\mathbb{R}^{m \\times d}$ - matrix of direct transformation;\n",
        "- $\\hat{W} \\in \\mathbb{R}^{d \\times m}$ - matrix of reverse transformation;\n",
        "- $n$ samples, $m$ original dimensions and $d$ target dimensions;\n",
        "\n"
      ]
    },
    {
      "cell_type": "code",
      "execution_count": 17,
      "metadata": {
        "id": "BD0Unl8EMgZf"
      },
      "outputs": [],
      "source": [
        "from sklearn.decomposition import PCA\n",
        "from sklearn.preprocessing import StandardScaler\n",
        "\n",
        "# map word vectors onto 2d plane with PCA. Use good old sklearn API (fit, transform)\n",
        "# after that, normalize vectors to make sure they have zero mean and unit variance\n",
        "word_vectors_pca = PCA(n_components=2).fit_transform(word_vectors)\n",
        "word_vectors_pca = StandardScaler().fit_transform(word_vectors_pca)\n",
        "\n",
        "# and maybe MORE OF YOUR CODE here :)"
      ]
    },
    {
      "cell_type": "code",
      "execution_count": 18,
      "metadata": {
        "id": "CMHznZMBMgZg"
      },
      "outputs": [],
      "source": [
        "assert word_vectors_pca.shape == (len(word_vectors), 2), \"there must be a 2d vector for each word\"\n",
        "assert max(abs(word_vectors_pca.mean(0))) < 1e-5, \"points must be zero-centered\"\n",
        "assert max(abs(1.0 - word_vectors_pca.std(0))) < 1e-2, \"points must have unit variance\""
      ]
    },
    {
      "cell_type": "markdown",
      "metadata": {
        "id": "h40oofPlMgZg"
      },
      "source": [
        "#### Let's draw it!"
      ]
    },
    {
      "cell_type": "code",
      "execution_count": 19,
      "metadata": {
        "id": "Jc9j_Sq-MgZg"
      },
      "outputs": [],
      "source": [
        "import bokeh.models as bm, bokeh.plotting as pl\n",
        "from bokeh.io import output_notebook\n",
        "output_notebook()\n",
        "\n",
        "def draw_vectors(x, y, radius=10, alpha=0.25, color='blue',\n",
        "                 width=600, height=400, show=True, **kwargs):\n",
        "    \"\"\" draws an interactive plot for data points with auxilirary info on hover \"\"\"\n",
        "    if isinstance(color, str): color = [color] * len(x)\n",
        "    data_source = bm.ColumnDataSource({ 'x' : x, 'y' : y, 'color': color, **kwargs })\n",
        "\n",
        "    fig = pl.figure(active_scroll='wheel_zoom', width=width, height=height)\n",
        "    fig.scatter('x', 'y', size=radius, color='color', alpha=alpha, source=data_source)\n",
        "\n",
        "    fig.add_tools(bm.HoverTool(tooltips=[(key, \"@\" + key) for key in kwargs.keys()]))\n",
        "    if show: pl.show(fig)\n",
        "    return fig"
      ]
    },
    {
      "cell_type": "code",
      "execution_count": 20,
      "metadata": {
        "colab": {
          "base_uri": "https://localhost:8080/",
          "height": 434
        },
        "id": "N6S3oD_4MgZg",
        "outputId": "06d209ff-a826-416d-9b52-552047a33b67"
      },
      "outputs": [
        {
          "output_type": "display_data",
          "data": {
            "application/javascript": [
              "'use strict';\n",
              "(function(root) {\n",
              "  function now() {\n",
              "    return new Date();\n",
              "  }\n",
              "\n",
              "  const force = true;\n",
              "\n",
              "  if (typeof root._bokeh_onload_callbacks === \"undefined\" || force === true) {\n",
              "    root._bokeh_onload_callbacks = [];\n",
              "    root._bokeh_is_loading = undefined;\n",
              "  }\n",
              "\n",
              "const JS_MIME_TYPE = 'application/javascript';\n",
              "  const HTML_MIME_TYPE = 'text/html';\n",
              "  const EXEC_MIME_TYPE = 'application/vnd.bokehjs_exec.v0+json';\n",
              "  const CLASS_NAME = 'output_bokeh rendered_html';\n",
              "\n",
              "  /**\n",
              "   * Render data to the DOM node\n",
              "   */\n",
              "  function render(props, node) {\n",
              "    const script = document.createElement(\"script\");\n",
              "    node.appendChild(script);\n",
              "  }\n",
              "\n",
              "  /**\n",
              "   * Handle when an output is cleared or removed\n",
              "   */\n",
              "  function handleClearOutput(event, handle) {\n",
              "    function drop(id) {\n",
              "      const view = Bokeh.index.get_by_id(id)\n",
              "      if (view != null) {\n",
              "        view.model.document.clear()\n",
              "        Bokeh.index.delete(view)\n",
              "      }\n",
              "    }\n",
              "\n",
              "    const cell = handle.cell;\n",
              "\n",
              "    const id = cell.output_area._bokeh_element_id;\n",
              "    const server_id = cell.output_area._bokeh_server_id;\n",
              "\n",
              "    // Clean up Bokeh references\n",
              "    if (id != null) {\n",
              "      drop(id)\n",
              "    }\n",
              "\n",
              "    if (server_id !== undefined) {\n",
              "      // Clean up Bokeh references\n",
              "      const cmd_clean = \"from bokeh.io.state import curstate; print(curstate().uuid_to_server['\" + server_id + \"'].get_sessions()[0].document.roots[0]._id)\";\n",
              "      cell.notebook.kernel.execute(cmd_clean, {\n",
              "        iopub: {\n",
              "          output: function(msg) {\n",
              "            const id = msg.content.text.trim()\n",
              "            drop(id)\n",
              "          }\n",
              "        }\n",
              "      });\n",
              "      // Destroy server and session\n",
              "      const cmd_destroy = \"import bokeh.io.notebook as ion; ion.destroy_server('\" + server_id + \"')\";\n",
              "      cell.notebook.kernel.execute(cmd_destroy);\n",
              "    }\n",
              "  }\n",
              "\n",
              "  /**\n",
              "   * Handle when a new output is added\n",
              "   */\n",
              "  function handleAddOutput(event, handle) {\n",
              "    const output_area = handle.output_area;\n",
              "    const output = handle.output;\n",
              "\n",
              "    // limit handleAddOutput to display_data with EXEC_MIME_TYPE content only\n",
              "    if ((output.output_type != \"display_data\") || (!Object.prototype.hasOwnProperty.call(output.data, EXEC_MIME_TYPE))) {\n",
              "      return\n",
              "    }\n",
              "\n",
              "    const toinsert = output_area.element.find(\".\" + CLASS_NAME.split(' ')[0]);\n",
              "\n",
              "    if (output.metadata[EXEC_MIME_TYPE][\"id\"] !== undefined) {\n",
              "      toinsert[toinsert.length - 1].firstChild.textContent = output.data[JS_MIME_TYPE];\n",
              "      // store reference to embed id on output_area\n",
              "      output_area._bokeh_element_id = output.metadata[EXEC_MIME_TYPE][\"id\"];\n",
              "    }\n",
              "    if (output.metadata[EXEC_MIME_TYPE][\"server_id\"] !== undefined) {\n",
              "      const bk_div = document.createElement(\"div\");\n",
              "      bk_div.innerHTML = output.data[HTML_MIME_TYPE];\n",
              "      const script_attrs = bk_div.children[0].attributes;\n",
              "      for (let i = 0; i < script_attrs.length; i++) {\n",
              "        toinsert[toinsert.length - 1].firstChild.setAttribute(script_attrs[i].name, script_attrs[i].value);\n",
              "        toinsert[toinsert.length - 1].firstChild.textContent = bk_div.children[0].textContent\n",
              "      }\n",
              "      // store reference to server id on output_area\n",
              "      output_area._bokeh_server_id = output.metadata[EXEC_MIME_TYPE][\"server_id\"];\n",
              "    }\n",
              "  }\n",
              "\n",
              "  function register_renderer(events, OutputArea) {\n",
              "\n",
              "    function append_mime(data, metadata, element) {\n",
              "      // create a DOM node to render to\n",
              "      const toinsert = this.create_output_subarea(\n",
              "        metadata,\n",
              "        CLASS_NAME,\n",
              "        EXEC_MIME_TYPE\n",
              "      );\n",
              "      this.keyboard_manager.register_events(toinsert);\n",
              "      // Render to node\n",
              "      const props = {data: data, metadata: metadata[EXEC_MIME_TYPE]};\n",
              "      render(props, toinsert[toinsert.length - 1]);\n",
              "      element.append(toinsert);\n",
              "      return toinsert\n",
              "    }\n",
              "\n",
              "    /* Handle when an output is cleared or removed */\n",
              "    events.on('clear_output.CodeCell', handleClearOutput);\n",
              "    events.on('delete.Cell', handleClearOutput);\n",
              "\n",
              "    /* Handle when a new output is added */\n",
              "    events.on('output_added.OutputArea', handleAddOutput);\n",
              "\n",
              "    /**\n",
              "     * Register the mime type and append_mime function with output_area\n",
              "     */\n",
              "    OutputArea.prototype.register_mime_type(EXEC_MIME_TYPE, append_mime, {\n",
              "      /* Is output safe? */\n",
              "      safe: true,\n",
              "      /* Index of renderer in `output_area.display_order` */\n",
              "      index: 0\n",
              "    });\n",
              "  }\n",
              "\n",
              "  // register the mime type if in Jupyter Notebook environment and previously unregistered\n",
              "  if (root.Jupyter !== undefined) {\n",
              "    const events = require('base/js/events');\n",
              "    const OutputArea = require('notebook/js/outputarea').OutputArea;\n",
              "\n",
              "    if (OutputArea.prototype.mime_types().indexOf(EXEC_MIME_TYPE) == -1) {\n",
              "      register_renderer(events, OutputArea);\n",
              "    }\n",
              "  }\n",
              "  if (typeof (root._bokeh_timeout) === \"undefined\" || force === true) {\n",
              "    root._bokeh_timeout = Date.now() + 5000;\n",
              "    root._bokeh_failed_load = false;\n",
              "  }\n",
              "\n",
              "  const NB_LOAD_WARNING = {'data': {'text/html':\n",
              "     \"<div style='background-color: #fdd'>\\n\"+\n",
              "     \"<p>\\n\"+\n",
              "     \"BokehJS does not appear to have successfully loaded. If loading BokehJS from CDN, this \\n\"+\n",
              "     \"may be due to a slow or bad network connection. Possible fixes:\\n\"+\n",
              "     \"</p>\\n\"+\n",
              "     \"<ul>\\n\"+\n",
              "     \"<li>re-rerun `output_notebook()` to attempt to load from CDN again, or</li>\\n\"+\n",
              "     \"<li>use INLINE resources instead, as so:</li>\\n\"+\n",
              "     \"</ul>\\n\"+\n",
              "     \"<code>\\n\"+\n",
              "     \"from bokeh.resources import INLINE\\n\"+\n",
              "     \"output_notebook(resources=INLINE)\\n\"+\n",
              "     \"</code>\\n\"+\n",
              "     \"</div>\"}};\n",
              "\n",
              "  function display_loaded(error = null) {\n",
              "    const el = document.getElementById(null);\n",
              "    if (el != null) {\n",
              "      const html = (() => {\n",
              "        if (typeof root.Bokeh === \"undefined\") {\n",
              "          if (error == null) {\n",
              "            return \"BokehJS is loading ...\";\n",
              "          } else {\n",
              "            return \"BokehJS failed to load.\";\n",
              "          }\n",
              "        } else {\n",
              "          const prefix = `BokehJS ${root.Bokeh.version}`;\n",
              "          if (error == null) {\n",
              "            return `${prefix} successfully loaded.`;\n",
              "          } else {\n",
              "            return `${prefix} <b>encountered errors</b> while loading and may not function as expected.`;\n",
              "          }\n",
              "        }\n",
              "      })();\n",
              "      el.innerHTML = html;\n",
              "\n",
              "      if (error != null) {\n",
              "        const wrapper = document.createElement(\"div\");\n",
              "        wrapper.style.overflow = \"auto\";\n",
              "        wrapper.style.height = \"5em\";\n",
              "        wrapper.style.resize = \"vertical\";\n",
              "        const content = document.createElement(\"div\");\n",
              "        content.style.fontFamily = \"monospace\";\n",
              "        content.style.whiteSpace = \"pre-wrap\";\n",
              "        content.style.backgroundColor = \"rgb(255, 221, 221)\";\n",
              "        content.textContent = error.stack ?? error.toString();\n",
              "        wrapper.append(content);\n",
              "        el.append(wrapper);\n",
              "      }\n",
              "    } else if (Date.now() < root._bokeh_timeout) {\n",
              "      setTimeout(() => display_loaded(error), 100);\n",
              "    }\n",
              "  }\n",
              "\n",
              "  function run_callbacks() {\n",
              "    try {\n",
              "      root._bokeh_onload_callbacks.forEach(function(callback) {\n",
              "        if (callback != null)\n",
              "          callback();\n",
              "      });\n",
              "    } finally {\n",
              "      delete root._bokeh_onload_callbacks\n",
              "    }\n",
              "    console.debug(\"Bokeh: all callbacks have finished\");\n",
              "  }\n",
              "\n",
              "  function load_libs(css_urls, js_urls, callback) {\n",
              "    if (css_urls == null) css_urls = [];\n",
              "    if (js_urls == null) js_urls = [];\n",
              "\n",
              "    root._bokeh_onload_callbacks.push(callback);\n",
              "    if (root._bokeh_is_loading > 0) {\n",
              "      console.debug(\"Bokeh: BokehJS is being loaded, scheduling callback at\", now());\n",
              "      return null;\n",
              "    }\n",
              "    if (js_urls == null || js_urls.length === 0) {\n",
              "      run_callbacks();\n",
              "      return null;\n",
              "    }\n",
              "    console.debug(\"Bokeh: BokehJS not loaded, scheduling load and callback at\", now());\n",
              "    root._bokeh_is_loading = css_urls.length + js_urls.length;\n",
              "\n",
              "    function on_load() {\n",
              "      root._bokeh_is_loading--;\n",
              "      if (root._bokeh_is_loading === 0) {\n",
              "        console.debug(\"Bokeh: all BokehJS libraries/stylesheets loaded\");\n",
              "        run_callbacks()\n",
              "      }\n",
              "    }\n",
              "\n",
              "    function on_error(url) {\n",
              "      console.error(\"failed to load \" + url);\n",
              "    }\n",
              "\n",
              "    for (let i = 0; i < css_urls.length; i++) {\n",
              "      const url = css_urls[i];\n",
              "      const element = document.createElement(\"link\");\n",
              "      element.onload = on_load;\n",
              "      element.onerror = on_error.bind(null, url);\n",
              "      element.rel = \"stylesheet\";\n",
              "      element.type = \"text/css\";\n",
              "      element.href = url;\n",
              "      console.debug(\"Bokeh: injecting link tag for BokehJS stylesheet: \", url);\n",
              "      document.body.appendChild(element);\n",
              "    }\n",
              "\n",
              "    for (let i = 0; i < js_urls.length; i++) {\n",
              "      const url = js_urls[i];\n",
              "      const element = document.createElement('script');\n",
              "      element.onload = on_load;\n",
              "      element.onerror = on_error.bind(null, url);\n",
              "      element.async = false;\n",
              "      element.src = url;\n",
              "      console.debug(\"Bokeh: injecting script tag for BokehJS library: \", url);\n",
              "      document.head.appendChild(element);\n",
              "    }\n",
              "  };\n",
              "\n",
              "  function inject_raw_css(css) {\n",
              "    const element = document.createElement(\"style\");\n",
              "    element.appendChild(document.createTextNode(css));\n",
              "    document.body.appendChild(element);\n",
              "  }\n",
              "\n",
              "  const js_urls = [\"https://cdn.bokeh.org/bokeh/release/bokeh-3.7.3.min.js\", \"https://cdn.bokeh.org/bokeh/release/bokeh-gl-3.7.3.min.js\", \"https://cdn.bokeh.org/bokeh/release/bokeh-widgets-3.7.3.min.js\", \"https://cdn.bokeh.org/bokeh/release/bokeh-tables-3.7.3.min.js\", \"https://cdn.bokeh.org/bokeh/release/bokeh-mathjax-3.7.3.min.js\"];\n",
              "  const css_urls = [];\n",
              "\n",
              "  const inline_js = [    function(Bokeh) {\n",
              "      Bokeh.set_log_level(\"info\");\n",
              "    },\n",
              "function(Bokeh) {\n",
              "    }\n",
              "  ];\n",
              "\n",
              "  function run_inline_js() {\n",
              "    if (root.Bokeh !== undefined || force === true) {\n",
              "      try {\n",
              "            for (let i = 0; i < inline_js.length; i++) {\n",
              "      inline_js[i].call(root, root.Bokeh);\n",
              "    }\n",
              "\n",
              "      } catch (error) {throw error;\n",
              "      }} else if (Date.now() < root._bokeh_timeout) {\n",
              "      setTimeout(run_inline_js, 100);\n",
              "    } else if (!root._bokeh_failed_load) {\n",
              "      console.log(\"Bokeh: BokehJS failed to load within specified timeout.\");\n",
              "      root._bokeh_failed_load = true;\n",
              "    } else if (force !== true) {\n",
              "      const cell = $(document.getElementById(null)).parents('.cell').data().cell;\n",
              "      cell.output_area.append_execute_result(NB_LOAD_WARNING)\n",
              "    }\n",
              "  }\n",
              "\n",
              "  if (root._bokeh_is_loading === 0) {\n",
              "    console.debug(\"Bokeh: BokehJS loaded, going straight to plotting\");\n",
              "    run_inline_js();\n",
              "  } else {\n",
              "    load_libs(css_urls, js_urls, function() {\n",
              "      console.debug(\"Bokeh: BokehJS plotting callback run at\", now());\n",
              "      run_inline_js();\n",
              "    });\n",
              "  }\n",
              "}(window));"
            ],
            "application/vnd.bokehjs_load.v0+json": "'use strict';\n(function(root) {\n  function now() {\n    return new Date();\n  }\n\n  const force = true;\n\n  if (typeof root._bokeh_onload_callbacks === \"undefined\" || force === true) {\n    root._bokeh_onload_callbacks = [];\n    root._bokeh_is_loading = undefined;\n  }\n\n\n  if (typeof (root._bokeh_timeout) === \"undefined\" || force === true) {\n    root._bokeh_timeout = Date.now() + 5000;\n    root._bokeh_failed_load = false;\n  }\n\n  const NB_LOAD_WARNING = {'data': {'text/html':\n     \"<div style='background-color: #fdd'>\\n\"+\n     \"<p>\\n\"+\n     \"BokehJS does not appear to have successfully loaded. If loading BokehJS from CDN, this \\n\"+\n     \"may be due to a slow or bad network connection. Possible fixes:\\n\"+\n     \"</p>\\n\"+\n     \"<ul>\\n\"+\n     \"<li>re-rerun `output_notebook()` to attempt to load from CDN again, or</li>\\n\"+\n     \"<li>use INLINE resources instead, as so:</li>\\n\"+\n     \"</ul>\\n\"+\n     \"<code>\\n\"+\n     \"from bokeh.resources import INLINE\\n\"+\n     \"output_notebook(resources=INLINE)\\n\"+\n     \"</code>\\n\"+\n     \"</div>\"}};\n\n  function display_loaded(error = null) {\n    const el = document.getElementById(null);\n    if (el != null) {\n      const html = (() => {\n        if (typeof root.Bokeh === \"undefined\") {\n          if (error == null) {\n            return \"BokehJS is loading ...\";\n          } else {\n            return \"BokehJS failed to load.\";\n          }\n        } else {\n          const prefix = `BokehJS ${root.Bokeh.version}`;\n          if (error == null) {\n            return `${prefix} successfully loaded.`;\n          } else {\n            return `${prefix} <b>encountered errors</b> while loading and may not function as expected.`;\n          }\n        }\n      })();\n      el.innerHTML = html;\n\n      if (error != null) {\n        const wrapper = document.createElement(\"div\");\n        wrapper.style.overflow = \"auto\";\n        wrapper.style.height = \"5em\";\n        wrapper.style.resize = \"vertical\";\n        const content = document.createElement(\"div\");\n        content.style.fontFamily = \"monospace\";\n        content.style.whiteSpace = \"pre-wrap\";\n        content.style.backgroundColor = \"rgb(255, 221, 221)\";\n        content.textContent = error.stack ?? error.toString();\n        wrapper.append(content);\n        el.append(wrapper);\n      }\n    } else if (Date.now() < root._bokeh_timeout) {\n      setTimeout(() => display_loaded(error), 100);\n    }\n  }\n\n  function run_callbacks() {\n    try {\n      root._bokeh_onload_callbacks.forEach(function(callback) {\n        if (callback != null)\n          callback();\n      });\n    } finally {\n      delete root._bokeh_onload_callbacks\n    }\n    console.debug(\"Bokeh: all callbacks have finished\");\n  }\n\n  function load_libs(css_urls, js_urls, callback) {\n    if (css_urls == null) css_urls = [];\n    if (js_urls == null) js_urls = [];\n\n    root._bokeh_onload_callbacks.push(callback);\n    if (root._bokeh_is_loading > 0) {\n      console.debug(\"Bokeh: BokehJS is being loaded, scheduling callback at\", now());\n      return null;\n    }\n    if (js_urls == null || js_urls.length === 0) {\n      run_callbacks();\n      return null;\n    }\n    console.debug(\"Bokeh: BokehJS not loaded, scheduling load and callback at\", now());\n    root._bokeh_is_loading = css_urls.length + js_urls.length;\n\n    function on_load() {\n      root._bokeh_is_loading--;\n      if (root._bokeh_is_loading === 0) {\n        console.debug(\"Bokeh: all BokehJS libraries/stylesheets loaded\");\n        run_callbacks()\n      }\n    }\n\n    function on_error(url) {\n      console.error(\"failed to load \" + url);\n    }\n\n    for (let i = 0; i < css_urls.length; i++) {\n      const url = css_urls[i];\n      const element = document.createElement(\"link\");\n      element.onload = on_load;\n      element.onerror = on_error.bind(null, url);\n      element.rel = \"stylesheet\";\n      element.type = \"text/css\";\n      element.href = url;\n      console.debug(\"Bokeh: injecting link tag for BokehJS stylesheet: \", url);\n      document.body.appendChild(element);\n    }\n\n    for (let i = 0; i < js_urls.length; i++) {\n      const url = js_urls[i];\n      const element = document.createElement('script');\n      element.onload = on_load;\n      element.onerror = on_error.bind(null, url);\n      element.async = false;\n      element.src = url;\n      console.debug(\"Bokeh: injecting script tag for BokehJS library: \", url);\n      document.head.appendChild(element);\n    }\n  };\n\n  function inject_raw_css(css) {\n    const element = document.createElement(\"style\");\n    element.appendChild(document.createTextNode(css));\n    document.body.appendChild(element);\n  }\n\n  const js_urls = [\"https://cdn.bokeh.org/bokeh/release/bokeh-3.7.3.min.js\", \"https://cdn.bokeh.org/bokeh/release/bokeh-gl-3.7.3.min.js\", \"https://cdn.bokeh.org/bokeh/release/bokeh-widgets-3.7.3.min.js\", \"https://cdn.bokeh.org/bokeh/release/bokeh-tables-3.7.3.min.js\", \"https://cdn.bokeh.org/bokeh/release/bokeh-mathjax-3.7.3.min.js\"];\n  const css_urls = [];\n\n  const inline_js = [    function(Bokeh) {\n      Bokeh.set_log_level(\"info\");\n    },\nfunction(Bokeh) {\n    }\n  ];\n\n  function run_inline_js() {\n    if (root.Bokeh !== undefined || force === true) {\n      try {\n            for (let i = 0; i < inline_js.length; i++) {\n      inline_js[i].call(root, root.Bokeh);\n    }\n\n      } catch (error) {throw error;\n      }} else if (Date.now() < root._bokeh_timeout) {\n      setTimeout(run_inline_js, 100);\n    } else if (!root._bokeh_failed_load) {\n      console.log(\"Bokeh: BokehJS failed to load within specified timeout.\");\n      root._bokeh_failed_load = true;\n    } else if (force !== true) {\n      const cell = $(document.getElementById(null)).parents('.cell').data().cell;\n      cell.output_area.append_execute_result(NB_LOAD_WARNING)\n    }\n  }\n\n  if (root._bokeh_is_loading === 0) {\n    console.debug(\"Bokeh: BokehJS loaded, going straight to plotting\");\n    run_inline_js();\n  } else {\n    load_libs(css_urls, js_urls, function() {\n      console.debug(\"Bokeh: BokehJS plotting callback run at\", now());\n      run_inline_js();\n    });\n  }\n}(window));"
          },
          "metadata": {}
        },
        {
          "output_type": "display_data",
          "data": {
            "text/html": [
              "\n",
              "  <div id=\"ebdc0997-f6f3-4f6a-a26d-eabcdb2d2c7f\" data-root-id=\"p1006\" style=\"display: contents;\"></div>\n"
            ]
          },
          "metadata": {}
        },
        {
          "output_type": "display_data",
          "data": {
            "application/javascript": [
              "(function(root) {\n",
              "  function embed_document(root) {\n",
              "  const docs_json = {\"66e8f7da-3014-48b0-9009-aad4a9951e5e\":{\"version\":\"3.7.3\",\"title\":\"Bokeh Application\",\"roots\":[{\"type\":\"object\",\"name\":\"Figure\",\"id\":\"p1006\",\"attributes\":{\"height\":400,\"x_range\":{\"type\":\"object\",\"name\":\"DataRange1d\",\"id\":\"p1007\"},\"y_range\":{\"type\":\"object\",\"name\":\"DataRange1d\",\"id\":\"p1008\"},\"x_scale\":{\"type\":\"object\",\"name\":\"LinearScale\",\"id\":\"p1015\"},\"y_scale\":{\"type\":\"object\",\"name\":\"LinearScale\",\"id\":\"p1016\"},\"title\":{\"type\":\"object\",\"name\":\"Title\",\"id\":\"p1013\"},\"renderers\":[{\"type\":\"object\",\"name\":\"GlyphRenderer\",\"id\":\"p1046\",\"attributes\":{\"data_source\":{\"type\":\"object\",\"name\":\"ColumnDataSource\",\"id\":\"p1003\",\"attributes\":{\"selected\":{\"type\":\"object\",\"name\":\"Selection\",\"id\":\"p1004\",\"attributes\":{\"indices\":[],\"line_indices\":[]}},\"selection_policy\":{\"type\":\"object\",\"name\":\"UnionRenderers\",\"id\":\"p1005\"},\"data\":{\"type\":\"map\",\"entries\":[[\"x\",{\"type\":\"ndarray\",\"array\":{\"type\":\"bytes\",\"data\":\"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\"},\"shape\":[1000],\"dtype\":\"float32\",\"order\":\"little\"}],[\"y\",{\"type\":\"ndarray\",\"array\":{\"type\":\"bytes\",\"data\":\"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\"},\"shape\":[1000],\"dtype\":\"float32\",\"order\":\"little\"}],[\"color\",[\"blue\",\"blue\",\"blue\",\"blue\",\"blue\",\"blue\",\"blue\",\"blue\",\"blue\",\"blue\",\"blue\",\"blue\",\"blue\",\"blue\",\"blue\",\"blue\",\"blue\",\"blue\",\"blue\",\"blue\",\"blue\",\"blue\",\"blue\",\"blue\",\"blue\",\"blue\",\"blue\",\"blue\",\"blue\",\"blue\",\"blue\",\"blue\",\"blue\",\"blue\",\"blue\",\"blue\",\"blue\",\"blue\",\"blue\",\"blue\",\"blue\",\"blue\",\"blue\",\"blue\",\"blue\",\"blue\",\"blue\",\"blue\",\"blue\",\"blue\",\"blue\",\"blue\",\"blue\",\"blue\",\"blue\",\"blue\",\"blue\",\"blue\",\"blue\",\"blue\",\"blue\",\"blue\",\"blue\",\"blue\",\"blue\",\"blue\",\"blue\",\"blue\",\"blue\",\"blue\",\"blue\",\"blue\",\"blue\",\"blue\",\"blue\",\"blue\",\"blue\",\"blue\",\"blue\",\"blue\",\"blue\",\"blue\",\"blue\",\"blue\",\"blue\",\"blue\",\"blue\",\"blue\",\"blue\",\"blue\",\"blue\",\"blue\",\"blue\",\"blue\",\"blue\",\"blue\",\"blue\",\"blue\",\"blue\",\"blue\",\"blue\",\"blue\",\"blue\",\"blue\",\"blue\",\"blue\",\"blue\",\"blue\",\"blue\",\"blue\",\"blue\",\"blue\",\"blue\",\"blue\",\"blue\",\"blue\",\"blue\",\"blue\",\"blue\",\"blue\",\"blue\",\"blue\",\"blue\",\"blue\",\"blue\",\"blue\",\"blue\",\"blue\",\"blue\",\"blue\",\"blue\",\"blue\",\"blue\",\"blue\",\"blue\",\"blue\",\"blue\",\"blue\",\"blue\",\"blue\",\"blue\",\"blue\",\"blue\",\"blue\",\"blue\",\"blue\",\"blue\",\"blue\",\"blue\",\"blue\",\"blue\",\"blue\",\"blue\",\"blue\",\"blue\",\"blue\",\"blue\",\"blue\",\"blue\",\"blue\",\"blue\",\"blue\",\"blue\",\"blue\",\"blue\",\"blue\",\"blue\",\"blue\",\"blue\",\"blue\",\"blue\",\"blue\",\"blue\",\"blue\",\"blue\",\"blue\",\"blue\",\"blue\",\"blue\",\"blue\",\"blue\",\"blue\",\"blue\",\"blue\",\"blue\",\"blue\",\"blue\",\"blue\",\"blue\",\"blue\",\"blue\",\"blue\",\"blue\",\"blue\",\"blue\",\"blue\",\"blue\",\"blue\",\"blue\",\"blue\",\"blue\",\"blue\",\"blue\",\"blue\",\"blue\",\"blue\",\"blue\",\"blue\",\"blue\",\"blue\",\"blue\",\"blue\",\"blue\",\"blue\",\"blue\",\"blue\",\"blue\",\"blue\",\"blue\",\"blue\",\"blue\",\"blue\",\"blue\",\"blue\",\"blue\",\"blue\",\"blue\",\"blue\",\"blue\",\"blue\",\"blue\",\"blue\",\"blue\",\"blue\",\"blue\",\"blue\",\"blue\",\"blue\",\"blue\",\"blue\",\"blue\",\"blue\",\"blue\",\"blue\",\"blue\",\"blue\",\"blue\",\"blue\",\"blue\",\"blue\",\"blue\",\"blue\",\"blue\",\"blue\",\"blue\",\"blue\",\"blue\",\"blue\",\"blue\",\"blue\",\"blue\",\"blue\",\"blue\",\"blue\",\"blue\",\"blue\",\"blue\",\"blue\",\"blue\",\"blue\",\"blue\",\"blue\",\"blue\",\"blue\",\"blue\",\"blue\",\"blue\",\"blue\",\"blue\",\"blue\",\"blue\",\"blue\",\"blue\",\"blue\",\"blue\",\"blue\",\"blue\",\"blue\",\"blue\",\"blue\",\"blue\",\"blue\",\"blue\",\"blue\",\"blue\",\"blue\",\"blue\",\"blue\",\"blue\",\"blue\",\"blue\",\"blue\",\"blue\",\"blue\",\"blue\",\"blue\",\"blue\",\"blue\",\"blue\",\"blue\",\"blue\",\"blue\",\"blue\",\"blue\",\"blue\",\"blue\",\"blue\",\"blue\",\"blue\",\"blue\",\"blue\",\"blue\",\"blue\",\"blue\",\"blue\",\"blue\",\"blue\",\"blue\",\"blue\",\"blue\",\"blue\",\"blue\",\"blue\",\"blue\",\"blue\",\"blue\",\"blue\",\"blue\",\"blue\",\"blue\",\"blue\",\"blue\",\"blue\",\"blue\",\"blue\",\"blue\",\"blue\",\"blue\",\"blue\",\"blue\",\"blue\",\"blue\",\"blue\",\"blue\",\"blue\",\"blue\",\"blue\",\"blue\",\"blue\",\"blue\",\"blue\",\"blue\",\"blue\",\"blue\",\"blue\",\"blue\",\"blue\",\"blue\",\"blue\",\"blue\",\"blue\",\"blue\",\"blue\",\"blue\",\"blue\",\"blue\",\"blue\",\"blue\",\"blue\",\"blue\",\"blue\",\"blue\",\"blue\",\"blue\",\"blue\",\"blue\",\"blue\",\"blue\",\"blue\",\"blue\",\"blue\",\"blue\",\"blue\",\"blue\",\"blue\",\"blue\",\"blue\",\"blue\",\"blue\",\"blue\",\"blue\",\"blue\",\"blue\",\"blue\",\"blue\",\"blue\",\"blue\",\"blue\",\"blue\",\"blue\",\"blue\",\"blue\",\"blue\",\"blue\",\"blue\",\"blue\",\"blue\",\"blue\",\"blue\",\"blue\",\"blue\",\"blue\",\"blue\",\"blue\",\"blue\",\"blue\",\"blue\",\"blue\",\"blue\",\"blue\",\"blue\",\"blue\",\"blue\",\"blue\",\"blue\",\"blue\",\"blue\",\"blue\",\"blue\",\"blue\",\"blue\",\"blue\",\"blue\",\"blue\",\"blue\",\"blue\",\"blue\",\"blue\",\"blue\",\"blue\",\"blue\",\"blue\",\"blue\",\"blue\",\"blue\",\"blue\",\"blue\",\"blue\",\"blue\",\"blue\",\"blue\",\"blue\",\"blue\",\"blue\",\"blue\",\"blue\",\"blue\",\"blue\",\"blue\",\"blue\",\"blue\",\"blue\",\"blue\",\"blue\",\"blue\",\"blue\",\"blue\",\"blue\",\"blue\",\"blue\",\"blue\",\"blue\",\"blue\",\"blue\",\"blue\",\"blue\",\"blue\",\"blue\",\"blue\",\"blue\",\"blue\",\"blue\",\"blue\",\"blue\",\"blue\",\"blue\",\"blue\",\"blue\",\"blue\",\"blue\",\"blue\",\"blue\",\"blue\",\"blue\",\"blue\",\"blue\",\"blue\",\"blue\",\"blue\",\"blue\",\"blue\",\"blue\",\"blue\",\"blue\",\"blue\",\"blue\",\"blue\",\"blue\",\"blue\",\"blue\",\"blue\",\"blue\",\"blue\",\"blue\",\"blue\",\"blue\",\"blue\",\"blue\",\"blue\",\"blue\",\"blue\",\"blue\",\"blue\",\"blue\",\"blue\",\"blue\",\"blue\",\"blue\",\"blue\",\"blue\",\"blue\",\"blue\",\"blue\",\"blue\",\"blue\",\"blue\",\"blue\",\"blue\",\"blue\",\"blue\",\"blue\",\"blue\",\"blue\",\"blue\",\"blue\",\"blue\",\"blue\",\"blue\",\"blue\",\"blue\",\"blue\",\"blue\",\"blue\",\"blue\",\"blue\",\"blue\",\"blue\",\"blue\",\"blue\",\"blue\",\"blue\",\"blue\",\"blue\",\"blue\",\"blue\",\"blue\",\"blue\",\"blue\",\"blue\",\"blue\",\"blue\",\"blue\",\"blue\",\"blue\",\"blue\",\"blue\",\"blue\",\"blue\",\"blue\",\"blue\",\"blue\",\"blue\",\"blue\",\"blue\",\"blue\",\"blue\",\"blue\",\"blue\",\"blue\",\"blue\",\"blue\",\"blue\",\"blue\",\"blue\",\"blue\",\"blue\",\"blue\",\"blue\",\"blue\",\"blue\",\"blue\",\"blue\",\"blue\",\"blue\",\"blue\",\"blue\",\"blue\",\"blue\",\"blue\",\"blue\",\"blue\",\"blue\",\"blue\",\"blue\",\"blue\",\"blue\",\"blue\",\"blue\",\"blue\",\"blue\",\"blue\",\"blue\",\"blue\",\"blue\",\"blue\",\"blue\",\"blue\",\"blue\",\"blue\",\"blue\",\"blue\",\"blue\",\"blue\",\"blue\",\"blue\",\"blue\",\"blue\",\"blue\",\"blue\",\"blue\",\"blue\",\"blue\",\"blue\",\"blue\",\"blue\",\"blue\",\"blue\",\"blue\",\"blue\",\"blue\",\"blue\",\"blue\",\"blue\",\"blue\",\"blue\",\"blue\",\"blue\",\"blue\",\"blue\",\"blue\",\"blue\",\"blue\",\"blue\",\"blue\",\"blue\",\"blue\",\"blue\",\"blue\",\"blue\",\"blue\",\"blue\",\"blue\",\"blue\",\"blue\",\"blue\",\"blue\",\"blue\",\"blue\",\"blue\",\"blue\",\"blue\",\"blue\",\"blue\",\"blue\",\"blue\",\"blue\",\"blue\",\"blue\",\"blue\",\"blue\",\"blue\",\"blue\",\"blue\",\"blue\",\"blue\",\"blue\",\"blue\",\"blue\",\"blue\",\"blue\",\"blue\",\"blue\",\"blue\",\"blue\",\"blue\",\"blue\",\"blue\",\"blue\",\"blue\",\"blue\",\"blue\",\"blue\",\"blue\",\"blue\",\"blue\",\"blue\",\"blue\",\"blue\",\"blue\",\"blue\",\"blue\",\"blue\",\"blue\",\"blue\",\"blue\",\"blue\",\"blue\",\"blue\",\"blue\",\"blue\",\"blue\",\"blue\",\"blue\",\"blue\",\"blue\",\"blue\",\"blue\",\"blue\",\"blue\",\"blue\",\"blue\",\"blue\",\"blue\",\"blue\",\"blue\",\"blue\",\"blue\",\"blue\",\"blue\",\"blue\",\"blue\",\"blue\",\"blue\",\"blue\",\"blue\",\"blue\",\"blue\",\"blue\",\"blue\",\"blue\",\"blue\",\"blue\",\"blue\",\"blue\",\"blue\",\"blue\",\"blue\",\"blue\",\"blue\",\"blue\",\"blue\",\"blue\",\"blue\",\"blue\",\"blue\",\"blue\",\"blue\",\"blue\",\"blue\",\"blue\",\"blue\",\"blue\",\"blue\",\"blue\",\"blue\",\"blue\",\"blue\",\"blue\",\"blue\",\"blue\",\"blue\",\"blue\",\"blue\",\"blue\",\"blue\",\"blue\",\"blue\",\"blue\",\"blue\",\"blue\",\"blue\",\"blue\",\"blue\",\"blue\",\"blue\",\"blue\",\"blue\",\"blue\",\"blue\",\"blue\",\"blue\",\"blue\",\"blue\",\"blue\",\"blue\",\"blue\",\"blue\",\"blue\",\"blue\",\"blue\",\"blue\",\"blue\",\"blue\",\"blue\",\"blue\",\"blue\",\"blue\",\"blue\",\"blue\",\"blue\",\"blue\",\"blue\",\"blue\",\"blue\",\"blue\",\"blue\",\"blue\",\"blue\",\"blue\",\"blue\",\"blue\",\"blue\",\"blue\",\"blue\",\"blue\",\"blue\",\"blue\",\"blue\",\"blue\",\"blue\",\"blue\",\"blue\",\"blue\",\"blue\",\"blue\",\"blue\",\"blue\",\"blue\",\"blue\",\"blue\",\"blue\",\"blue\",\"blue\",\"blue\",\"blue\",\"blue\",\"blue\",\"blue\",\"blue\",\"blue\",\"blue\",\"blue\",\"blue\",\"blue\",\"blue\",\"blue\",\"blue\",\"blue\",\"blue\",\"blue\",\"blue\",\"blue\",\"blue\",\"blue\",\"blue\",\"blue\",\"blue\",\"blue\",\"blue\",\"blue\",\"blue\",\"blue\",\"blue\",\"blue\",\"blue\",\"blue\",\"blue\",\"blue\",\"blue\",\"blue\",\"blue\",\"blue\",\"blue\",\"blue\",\"blue\",\"blue\",\"blue\",\"blue\",\"blue\",\"blue\",\"blue\",\"blue\",\"blue\",\"blue\",\"blue\",\"blue\",\"blue\",\"blue\",\"blue\",\"blue\",\"blue\",\"blue\",\"blue\",\"blue\",\"blue\",\"blue\",\"blue\",\"blue\",\"blue\",\"blue\",\"blue\",\"blue\",\"blue\",\"blue\",\"blue\",\"blue\",\"blue\",\"blue\",\"blue\",\"blue\",\"blue\",\"blue\",\"blue\",\"blue\",\"blue\",\"blue\",\"blue\",\"blue\",\"blue\",\"blue\",\"blue\",\"blue\",\"blue\",\"blue\",\"blue\",\"blue\",\"blue\",\"blue\",\"blue\",\"blue\",\"blue\",\"blue\",\"blue\",\"blue\",\"blue\",\"blue\",\"blue\",\"blue\",\"blue\",\"blue\",\"blue\",\"blue\",\"blue\",\"blue\",\"blue\",\"blue\",\"blue\",\"blue\",\"blue\",\"blue\",\"blue\",\"blue\",\"blue\",\"blue\",\"blue\",\"blue\",\"blue\",\"blue\",\"blue\",\"blue\"]],[\"token\",[\"<user>\",\".\",\":\",\"rt\",\",\",\"<repeat>\",\"<hashtag>\",\"<number>\",\"<url>\",\"!\",\"i\",\"a\",\"\\\"\",\"the\",\"?\",\"you\",\"to\",\"(\",\"<allcaps>\",\"<elong>\",\")\",\"me\",\"de\",\"<smile>\",\"\\uff01\",\"que\",\"and\",\"\\u3002\",\"-\",\"my\",\"no\",\"\\u3001\",\"is\",\"it\",\"\\u2026\",\"in\",\"n\",\"for\",\"/\",\"of\",\"la\",\"'s\",\"*\",\"do\",\"n't\",\"that\",\"on\",\"y\",\"'\",\"e\",\"o\",\"u\",\"en\",\"this\",\"el\",\"so\",\"be\",\"'m\",\"with\",\"just\",\">\",\"your\",\"^\",\"like\",\"have\",\"te\",\"at\",\"\\uff1f\",\"love\",\"se\",\"are\",\"<\",\"m\",\"r\",\"if\",\"all\",\"b\",\"\\u30fb\",\"not\",\"but\",\"we\",\"es\",\"ya\",\"&\",\"follow\",\"up\",\"what\",\"get\",\"lol\",\"un\",\"\\u2665\",\"lo\",\"when\",\"was\",\"\\u201c\",\"\\u201d\",\"one\",\"por\",\"si\",\"out\",\"_\",\"mi\",\"can\",\"<sadface>\",\"\\u0645\\u0646\",\"\\u2661\",\"\\u00b4\",\"he\",\"con\",\"they\",\"now\",\"go\",\"\\u060c\",\"para\",\"los\",\"know\",\"haha\",\"good\",\"tu\",\"back\",\"~\",\"about\",\"new\",\";\",\"as\",\"day\",\"how\",\"who\",\"will\",\"want\",\"people\",\"yo\",\"eu\",\"from\",\"di\",\"time\",\"<heart>\",\"s\",\"aku\",\"da\",\"'re\",\"<lolface>\",\"una\",\"got\",\"las\",\"more\",\"x\",\"she\",\"today\",\"\\uff08\",\">>\",\"k\",\"by\",\"or\",\"\\u0641\\u064a\",\"\\uff65\",\"too\",\"le\",\"\\u00e9\",\"|\",\"[\",\"\\uff09\",\"]\",\"see\",\"why\",\"yg\",\"ca\",\"como\",\"her\",\"\\u2014\",\"q\",\"need\",\"an\",\"na\",\"\\u7b11\",\"there\",\"\\u03c9\",\"happy\",\"im\",\"mas\",\"je\",\"life\",\"really\",\"make\",\"yang\",\"shit\",\"think\",\"t\",\"\\u2764\",\"n\\u00e3o\",\"never\",\"some\",\"\\uff5e\",\"oh\",\"\\u2605\",\"did\",\"would\",\"del\",\"`\",\"d\",\"please\",\"via\",\"much\",\"fuck\",\"al\",\"dia\",\"$\",\"\\u0648\",\"right\",\"best\",\"c\",\"going\",\"\\u0627\\u0644\\u0644\\u0647\",\"pero\",\"only\",\"has\",\"\\u266a\",\"'ll\",\"twitter\",\"=\",\"hahaha\",\"its\",\"nn\",\"\\uff40\",\"\\u00bf\",\"am\",\"say\",\"<neutralface>\",\"them\",\"here\",\"\\u0644\\u0627\",\"off\",\"still\",\"dan\",\"+\",\"night\",\"w\",\"ada\",\"someone\",\"even\",\"then\",\"\\u2606\",\"ni\",\"come\",\"com\",\"always\",\"man\",\"'ve\",\"been\",\"his\",\"itu\",\"\\u0639\\u0644\\u0649\",\"-_-\",\"\\u263a\",\"over\",\"um\",\"\\u0645\\u0627\",\"hate\",\"girl\",\"ai\",\"had\",\"pra\",\"todo\",\"mais\",\"feel\",\"let\",\"ini\",\"because\",\"\\uff9f\",\"thanks\",\"ah\",\"way\",\"ever\",\"look\",\"tweet\",\"followers\",\"should\",\"our\",\"xd\",\"aja\",\"esta\",\"school\",\"him\",\"ser\",\"take\",\"than\",\"video\",\"em\",\"last\",\"wanna\",\"does\",\"us\",\"miss\",\"l\",\"ga\",\"better\",\"well\",\"could\",\"\\u25bd\",\"%\",\"apa\",\"cuando\",\"team\",\"\\u2714\",\"@\",\"ok\",\"\\u061f\",\"\\u2022\",\"vida\",\"quiero\",\"les\",\"being\",\"real\",\"down\",\"kamu\",\"everyone\",\"gonna\",\"live\",\"tonight\",\"yes\",\"work\",\"ass\",\"retweet\",\"nada\",\"sama\",\"first\",\"<<\",\"photo\",\"tomorrow\",\"where\",\"god\",\"son\",\"ke\",\"ta\",\"f\",\"home\",\"lagi\",\"thank\",\"birthday\",\"\\u2588\",\"ha\",\"great\",\"lmao\",\"omg\",\"morning\",\"m\\u00e1s\",\"mau\",\"baby\",\"dont\",\"\\uff61\",\"their\",\"p\",\"things\",\"game\",\"pas\",\"bad\",\"year\",\"yeah\",\"su\",\"bitch\",\"\\u0432\",\"stop\",\"hoy\",\"something\",\"meu\",\"tak\",\"gak\",\"world\",\"amor\",\"h\",\"\\\\\",\"ver\",\"\\uff1b\",\"porque\",\"give\",\"these\",\"\\u0627\\u0644\\u0644\\u0647\\u0645\",\"were\",\"hay\",\"sleep\",\"gue\",\"every\",\"friends\",\"uma\",\"tell\",\"amo\",\"vou\",\"bien\",\"\\u00a1\",\"again\",\"\\uff3e\",\"\\uff0f\",\"done\",\"after\",\"todos\",\"girls\",\"guys\",\"getting\",\"big\",\"wait\",\"justin\",\"eh\",\"\\u2192\",\"kan\",\"kita\",\"jajaja\",\"wish\",\"said\",\"fucking\",\"show\",\"thing\",\"next\",\"voc\\u00ea\",\"nos\",\"little\",\"tengo\",\"keep\",\"person\",\"''\",\"\\u2200\",\"hope\",\"\\u0643\\u0644\",\"hey\",\"bisa\",\"free\",\"made\",\"foto\",\"va\",\"everything\",\"iya\",\"nigga\",\"eso\",\"et\",\"watch\",\"music\",\"week\",\"talk\",\"ne\",\"solo\",\"gente\",\"udah\",\"\\uff1a\",\"--\",\"\\uff3c\",\"mejor\",\"facebook\",\"ma\",\"v\",\"phone\",\"most\",\"same\",\"okay\",\"ik\",\"before\",\"minha\",\"days\",\"g\",\"ti\",\"damn\",\"nice\",\"voy\",\"vai\",\"call\",\"long\",\"tapi\",\"http\",\"sin\",\"nunca\",\"doing\",\"other\",\"find\",\"il\",\"sa\",\"sorry\",\"nya\",\"orang\",\"\\u00b0\",\"hard\",\"mean\",\"die\",\"\\u0627\\u0644\\u0644\\u064a\",\"tem\",\"soy\",\"este\",\"kalo\",\"s\\u00f3\",\"th\",\"win\",\"nothing\",\"into\",\"face\",\"cute\",\"'d\",\"gracias\",\"lah\",\"\\u0438\",\"any\",\"play\",\"\\u2190\",\"ko\",\"text\",\"\\u2323\",\"estoy\",\"tau\",\"ur\",\"buat\",\"#\",\"cause\",\"\\u044f\",\"put\",\"kau\",\"siempre\",\"juga\",\"casa\",\"\\u0623\\u0646\",\"help\",\"start\",\"feliz\",\"old\",\"ir\",\"very\",\"care\",\"bir\",\"makes\",\"song\",\"check\",\"watching\",\"ahora\",\"jadi\",\"os\",\"may\",\"friend\",\"beautiful\",\"heart\",\"ka\",\"vc\",\"mundo\",\"\\u043d\\u0430\",\"sure\",\"tan\",\"pretty\",\"aqui\",\"\\u043d\\u0435\",\"house\",\"\\u0631\\u062a\\u0648\\u064a\\u062a\",\"\\u064a\\u0627\",\"ja\",\"true\",\"muy\",\"away\",\"already\",\"actually\",\"believe\",\"try\",\"many\",\"ma\\u00f1ana\",\"mis\",\"lu\",\"those\",\"hot\",\"qu\\u00e9\",\"mal\",\"\\u0639\\u0646\",\"though\",\"ask\",\"amazing\",\"bed\",\"}\",\"two\",\"mom\",\"d\\u00eda\",\"ve\",\"dari\",\"gameinsight\",\"stay\",\"fun\",\"around\",\"van\",\"cont\",\"ready\",\"money\",\"bu\",\"funny\",\"cool\",\"hair\",\"\\u00e0\",\"tho\",\"{\",\"wo\",\"hi\",\"name\",\"tiene\",\"hahahaha\",\"pa\",\"algo\",\"gotta\",\"\\u0648\\u0644\\u0627\",\"boy\",\"another\",\"c'est\",\"hari\",\"jajajaja\",\"having\",\"cara\",\"jaja\",\"dm\",\"looking\",\"top\",\"android\",\"dah\",\"wow\",\"\\u2591\",\"eres\",\"ben\",\"must\",\"news\",\"met\",\"est\\u00e1\",\"nih\",\"family\",\"black\",\"thought\",\"nak\",\"super\",\"end\",\"hace\",\"remember\",\"ama\",\"party\",\"cant\",\"vamos\",\"anything\",\"anyone\",\"\\u0641\\u0648\\u0644\\u0648\",\"perfect\",\"guy\",\"vez\",\"christmas\",\"dos\",\"bueno\",\"nao\",\"years\",\"vote\",\"dormir\",\"bro\",\"else\",\"quien\",\"untuk\",\"jangan\",\"myself\",\"head\",\"mind\",\"gua\",\"talking\",\"while\",\"dat\",\"food\",\"\\u0434\",\"coming\",\"wkwk\",\"trying\",\"saya\",\"mucho\",\"without\",\"wrong\",\"\\u2019s\",\"baru\",\"__\",\"hehe\",\"hacer\",\"lot\",\"followed\",\"crazy\",\"hell\",\"feeling\",\"des\",\"kok\",\"j\",\"stats\",\"j'\",\"\\u0627\\u0646\",\"tweets\",\"non\",\"cosas\",\"era\",\"high\",\"niggas\",\"change\",\"movie\",\"xx\",\"mad\",\"sih\",\"sometimes\",\"deh\",\"allah\",\"through\",\"pour\",\"ela\",\"soon\",\"gone\",\"playing\",\"smile\",\"bukan\",\"tv\",\"fans\",\"hasta\",\"akan\",\"y'\",\"looks\",\"isso\",\"\\u270c\",\"tired\",\"boys\",\"might\",\"dong\",\"lg\",\"use\",\"maybe\",\"until\",\"menos\",\"own\",\"dengan\",\"eat\",\"ou\",\"weekend\",\"\\u02d8\",\"class\",\"ele\",\"harry\",\"iphone\",\"friday\",\"single\",\"ff\",\"awesome\",\"bout\",\"muito\",\"hoje\",\"\\u00ac\",\"dios\",\"such\",\"estar\",\"j\\u00e1\",\"quando\",\"esa\",\"making\",\"\\u2501\",\"times\",\"lmfao\",\"gw\",\"moment\",\"yet\",\"aw\",\"smh\",\"banget\",\"masih\",\"qui\",\"quem\",\"\\u2013\",\"leave\",\"du\",\"une\",\"guess\",\"hit\",\"\\u0441\",\"pm\",\"since\",\"pues\",\"est\",\"job\",\"\\uff89\",\"mana\",\"bom\",\"siapa\",\"suka\",\"bieber\",\"mention\",\"lebih\",\"favorite\",\"bitches\",\"forever\",\"\\u0644\\u064a\",\"final\",\"read\",\"alguien\",\"open\",\"yourself\",\"ese\",\"che\",\"sex\",\"yaa\",\"car\",\"direction\",\"tidak\",\"seu\",\"gets\",\"left\",\"re\",\"jam\",\"enough\",\"\\u0625\\u0644\\u0627\",\"once\",\"\\u2019\",\"part\",\"cada\",\"\\u5b9a\\u671f\",\"\\u0644\\u0643\",\"een\",\"seen\",\"kak\",\"as\\u00ed\",\"nem\",\"\\u0639\\u0645\\u0644\",\"white\",\"told\",\"says\",\"esto\",\"sad\",\"mo\",\"fue\",\"yah\",\"summer\",\"\\u0647\",\"\\u2b55\",\"\\u00bb\",\"thats\",\"\\u0645\\u0639\",\"posted\",\"wants\",\"agora\",\"together\",\"fan\",\"men\",\"hear\",\"full\",\"\\u2600\",\"sigo\",\"pq\",\"dulu\",\"plus\",\"foi\",\"tudo\",\"\\u0647\\u0648\",\"ill\",\"\\u3042\",\"thinking\",\"wtf\",\"pagi\",\"mama\",\"kalau\",\"hati\",\"sexy\",\"sayang\",\"baik\",\"semua\",\"hola\",\"went\",\"vos\",\"tanto\",\"finally\",\"fb\",\"sea\",\"stupid\",\"tus\",\"seriously\",\"hora\",\"min\",\"pic\",\"estas\",\"turn\",\"hours\",\"excited\",\"nah\",\"buy\",\"saying\",\"mah\",\"break\",\"needs\",\"ce\",\"room\",\"choice\",\"far\",\"dead\",\"quero\",\"saw\",\"kids\",\"lil\",\"whole\",\"puede\",\"fall\",\"sus\",\"lost\",\"asi\",\"word\",\"\\u2639\",\"also\",\"\\u0631\\u064a\\u062a\\u0648\\u064a\\u062a\",\"probably\",\"everybody\",\"tarde\",\"run\",\"sei\",\"follback\",\"forget\",\"sweet\",\"welcome\",\"selamat\",\"\\uff3f\",\"sur\",\"place\",\"gusta\",\"sabe\",\"androidgames\",\"tp\",\"tiempo\",\"\\u0628\\u0633\",\"sou\",\"tuh\",\"vs\",\"eyes\",\"\\u0627\\u0646\\u0627\",\"picture\",\"das\",\"meet\",\"anak\",\"persona\",\"essa\",\"bored\",\"following\",\"nadie\",\"nobody\",\"dice\",\"alone\",\"sick\",\"red\",\"city\",\"cinta\",\"\\u6708\",\"linda\",\"dream\",\"story\",\"km\",\"het\",\"waiting\",\"^_^\",\"mine\",\"\\u0447\\u0442\\u043e\",\"reason\",\"kk\",\"\\u0644\\u0648\",\"online\",\"fast\",\"udh\",\"wanted\",\"op\",\"others\",\"gay\",\"n\\u2019t\",\"used\",\"sem\",\"understand\",\"moi\",\"sm\",\"aint\",\"donde\",\"bem\",\"which\",\"ng\",\"followback\",\"punya\",\"late\",\"anda\",\"tidur\",\"puedo\",\"early\",\"nd\",\"personas\",\"banyak\",\"\\u2705\",\"\\u278a\",\"trust\",\"noche\",\"tl\",\"\\uff1e\",\"\\u00ab\",\"af\",\"move\",\"pro\",\"bring\",\"ku\",\"called\",\"relationship\",\"idk\",\"hurt\",\"st\",\"pernah\",\"pessoas\",\"hello\",\"uno\",\"unfollowers\",\"cry\"]]]}}},\"view\":{\"type\":\"object\",\"name\":\"CDSView\",\"id\":\"p1047\",\"attributes\":{\"filter\":{\"type\":\"object\",\"name\":\"AllIndices\",\"id\":\"p1048\"}}},\"glyph\":{\"type\":\"object\",\"name\":\"Scatter\",\"id\":\"p1043\",\"attributes\":{\"x\":{\"type\":\"field\",\"field\":\"x\"},\"y\":{\"type\":\"field\",\"field\":\"y\"},\"size\":{\"type\":\"value\",\"value\":10},\"line_color\":{\"type\":\"field\",\"field\":\"color\"},\"line_alpha\":{\"type\":\"value\",\"value\":0.25},\"fill_color\":{\"type\":\"field\",\"field\":\"color\"},\"fill_alpha\":{\"type\":\"value\",\"value\":0.25},\"hatch_color\":{\"type\":\"field\",\"field\":\"color\"},\"hatch_alpha\":{\"type\":\"value\",\"value\":0.25}}},\"nonselection_glyph\":{\"type\":\"object\",\"name\":\"Scatter\",\"id\":\"p1044\",\"attributes\":{\"x\":{\"type\":\"field\",\"field\":\"x\"},\"y\":{\"type\":\"field\",\"field\":\"y\"},\"size\":{\"type\":\"value\",\"value\":10},\"line_color\":{\"type\":\"field\",\"field\":\"color\"},\"line_alpha\":{\"type\":\"value\",\"value\":0.1},\"fill_color\":{\"type\":\"field\",\"field\":\"color\"},\"fill_alpha\":{\"type\":\"value\",\"value\":0.1},\"hatch_color\":{\"type\":\"field\",\"field\":\"color\"},\"hatch_alpha\":{\"type\":\"value\",\"value\":0.1}}},\"muted_glyph\":{\"type\":\"object\",\"name\":\"Scatter\",\"id\":\"p1045\",\"attributes\":{\"x\":{\"type\":\"field\",\"field\":\"x\"},\"y\":{\"type\":\"field\",\"field\":\"y\"},\"size\":{\"type\":\"value\",\"value\":10},\"line_color\":{\"type\":\"field\",\"field\":\"color\"},\"line_alpha\":{\"type\":\"value\",\"value\":0.2},\"fill_color\":{\"type\":\"field\",\"field\":\"color\"},\"fill_alpha\":{\"type\":\"value\",\"value\":0.2},\"hatch_color\":{\"type\":\"field\",\"field\":\"color\"},\"hatch_alpha\":{\"type\":\"value\",\"value\":0.2}}}}}],\"toolbar\":{\"type\":\"object\",\"name\":\"Toolbar\",\"id\":\"p1014\",\"attributes\":{\"tools\":[{\"type\":\"object\",\"name\":\"PanTool\",\"id\":\"p1027\"},{\"type\":\"object\",\"name\":\"WheelZoomTool\",\"id\":\"p1028\",\"attributes\":{\"renderers\":\"auto\"}},{\"type\":\"object\",\"name\":\"BoxZoomTool\",\"id\":\"p1029\",\"attributes\":{\"dimensions\":\"both\",\"overlay\":{\"type\":\"object\",\"name\":\"BoxAnnotation\",\"id\":\"p1030\",\"attributes\":{\"syncable\":false,\"line_color\":\"black\",\"line_alpha\":1.0,\"line_width\":2,\"line_dash\":[4,4],\"fill_color\":\"lightgrey\",\"fill_alpha\":0.5,\"level\":\"overlay\",\"visible\":false,\"left\":{\"type\":\"number\",\"value\":\"nan\"},\"right\":{\"type\":\"number\",\"value\":\"nan\"},\"top\":{\"type\":\"number\",\"value\":\"nan\"},\"bottom\":{\"type\":\"number\",\"value\":\"nan\"},\"left_units\":\"canvas\",\"right_units\":\"canvas\",\"top_units\":\"canvas\",\"bottom_units\":\"canvas\",\"handles\":{\"type\":\"object\",\"name\":\"BoxInteractionHandles\",\"id\":\"p1036\",\"attributes\":{\"all\":{\"type\":\"object\",\"name\":\"AreaVisuals\",\"id\":\"p1035\",\"attributes\":{\"fill_color\":\"white\",\"hover_fill_color\":\"lightgray\"}}}}}}}},{\"type\":\"object\",\"name\":\"SaveTool\",\"id\":\"p1037\"},{\"type\":\"object\",\"name\":\"ResetTool\",\"id\":\"p1038\"},{\"type\":\"object\",\"name\":\"HelpTool\",\"id\":\"p1039\"},{\"type\":\"object\",\"name\":\"HoverTool\",\"id\":\"p1049\",\"attributes\":{\"renderers\":\"auto\",\"tooltips\":[[\"token\",\"@token\"]]}}],\"active_scroll\":{\"id\":\"p1028\"}}},\"left\":[{\"type\":\"object\",\"name\":\"LinearAxis\",\"id\":\"p1022\",\"attributes\":{\"ticker\":{\"type\":\"object\",\"name\":\"BasicTicker\",\"id\":\"p1023\",\"attributes\":{\"mantissas\":[1,2,5]}},\"formatter\":{\"type\":\"object\",\"name\":\"BasicTickFormatter\",\"id\":\"p1024\"},\"major_label_policy\":{\"type\":\"object\",\"name\":\"AllLabels\",\"id\":\"p1025\"}}}],\"below\":[{\"type\":\"object\",\"name\":\"LinearAxis\",\"id\":\"p1017\",\"attributes\":{\"ticker\":{\"type\":\"object\",\"name\":\"BasicTicker\",\"id\":\"p1018\",\"attributes\":{\"mantissas\":[1,2,5]}},\"formatter\":{\"type\":\"object\",\"name\":\"BasicTickFormatter\",\"id\":\"p1019\"},\"major_label_policy\":{\"type\":\"object\",\"name\":\"AllLabels\",\"id\":\"p1020\"}}}],\"center\":[{\"type\":\"object\",\"name\":\"Grid\",\"id\":\"p1021\",\"attributes\":{\"axis\":{\"id\":\"p1017\"}}},{\"type\":\"object\",\"name\":\"Grid\",\"id\":\"p1026\",\"attributes\":{\"dimension\":1,\"axis\":{\"id\":\"p1022\"}}}]}}]}};\n",
              "  const render_items = [{\"docid\":\"66e8f7da-3014-48b0-9009-aad4a9951e5e\",\"roots\":{\"p1006\":\"ebdc0997-f6f3-4f6a-a26d-eabcdb2d2c7f\"},\"root_ids\":[\"p1006\"]}];\n",
              "  void root.Bokeh.embed.embed_items_notebook(docs_json, render_items);\n",
              "  }\n",
              "  if (root.Bokeh !== undefined) {\n",
              "    embed_document(root);\n",
              "  } else {\n",
              "    let attempts = 0;\n",
              "    const timer = setInterval(function(root) {\n",
              "      if (root.Bokeh !== undefined) {\n",
              "        clearInterval(timer);\n",
              "        embed_document(root);\n",
              "      } else {\n",
              "        attempts++;\n",
              "        if (attempts > 100) {\n",
              "          clearInterval(timer);\n",
              "          console.log(\"Bokeh: ERROR: Unable to run BokehJS code because BokehJS library is missing\");\n",
              "        }\n",
              "      }\n",
              "    }, 10, root)\n",
              "  }\n",
              "})(window);"
            ],
            "application/vnd.bokehjs_exec.v0+json": ""
          },
          "metadata": {
            "application/vnd.bokehjs_exec.v0+json": {
              "id": "p1006"
            }
          }
        },
        {
          "output_type": "execute_result",
          "data": {
            "text/plain": [
              "figure(id='p1006', ...)"
            ],
            "text/html": [
              "<div style=\"display: table;\"><div style=\"display: table-row;\"><div style=\"display: table-cell;\"><b title=\"bokeh.plotting._figure.figure\">figure</b>(</div><div style=\"display: table-cell;\">id&nbsp;=&nbsp;'p1006', <span id=\"p1053\" style=\"cursor: pointer;\">&hellip;)</span></div></div><div class=\"p1052\" style=\"display: none;\"><div style=\"display: table-cell;\"></div><div style=\"display: table-cell;\">above&nbsp;=&nbsp;[],</div></div><div class=\"p1052\" style=\"display: none;\"><div style=\"display: table-cell;\"></div><div style=\"display: table-cell;\">align&nbsp;=&nbsp;'auto',</div></div><div class=\"p1052\" style=\"display: none;\"><div style=\"display: table-cell;\"></div><div style=\"display: table-cell;\">aspect_ratio&nbsp;=&nbsp;None,</div></div><div class=\"p1052\" style=\"display: none;\"><div style=\"display: table-cell;\"></div><div style=\"display: table-cell;\">aspect_scale&nbsp;=&nbsp;1,</div></div><div class=\"p1052\" style=\"display: none;\"><div style=\"display: table-cell;\"></div><div style=\"display: table-cell;\">attribution&nbsp;=&nbsp;[],</div></div><div class=\"p1052\" style=\"display: none;\"><div style=\"display: table-cell;\"></div><div style=\"display: table-cell;\">background_fill_alpha&nbsp;=&nbsp;1.0,</div></div><div class=\"p1052\" style=\"display: none;\"><div style=\"display: table-cell;\"></div><div style=\"display: table-cell;\">background_fill_color&nbsp;=&nbsp;'#ffffff',</div></div><div class=\"p1052\" style=\"display: none;\"><div style=\"display: table-cell;\"></div><div style=\"display: table-cell;\">background_hatch_alpha&nbsp;=&nbsp;1.0,</div></div><div class=\"p1052\" style=\"display: none;\"><div style=\"display: table-cell;\"></div><div style=\"display: table-cell;\">background_hatch_color&nbsp;=&nbsp;'black',</div></div><div class=\"p1052\" style=\"display: none;\"><div style=\"display: table-cell;\"></div><div style=\"display: table-cell;\">background_hatch_extra&nbsp;=&nbsp;{},</div></div><div class=\"p1052\" style=\"display: none;\"><div style=\"display: table-cell;\"></div><div style=\"display: table-cell;\">background_hatch_pattern&nbsp;=&nbsp;None,</div></div><div class=\"p1052\" style=\"display: none;\"><div style=\"display: table-cell;\"></div><div style=\"display: table-cell;\">background_hatch_scale&nbsp;=&nbsp;12.0,</div></div><div class=\"p1052\" style=\"display: none;\"><div style=\"display: table-cell;\"></div><div style=\"display: table-cell;\">background_hatch_weight&nbsp;=&nbsp;1.0,</div></div><div class=\"p1052\" style=\"display: none;\"><div style=\"display: table-cell;\"></div><div style=\"display: table-cell;\">below&nbsp;=&nbsp;[LinearAxis(id='p1017', ...)],</div></div><div class=\"p1052\" style=\"display: none;\"><div style=\"display: table-cell;\"></div><div style=\"display: table-cell;\">border_fill_alpha&nbsp;=&nbsp;1.0,</div></div><div class=\"p1052\" style=\"display: none;\"><div style=\"display: table-cell;\"></div><div style=\"display: table-cell;\">border_fill_color&nbsp;=&nbsp;'#ffffff',</div></div><div class=\"p1052\" style=\"display: none;\"><div style=\"display: table-cell;\"></div><div style=\"display: table-cell;\">border_hatch_alpha&nbsp;=&nbsp;1.0,</div></div><div class=\"p1052\" style=\"display: none;\"><div style=\"display: table-cell;\"></div><div style=\"display: table-cell;\">border_hatch_color&nbsp;=&nbsp;'black',</div></div><div class=\"p1052\" style=\"display: none;\"><div style=\"display: table-cell;\"></div><div style=\"display: table-cell;\">border_hatch_extra&nbsp;=&nbsp;{},</div></div><div class=\"p1052\" style=\"display: none;\"><div style=\"display: table-cell;\"></div><div style=\"display: table-cell;\">border_hatch_pattern&nbsp;=&nbsp;None,</div></div><div class=\"p1052\" style=\"display: none;\"><div style=\"display: table-cell;\"></div><div style=\"display: table-cell;\">border_hatch_scale&nbsp;=&nbsp;12.0,</div></div><div class=\"p1052\" style=\"display: none;\"><div style=\"display: table-cell;\"></div><div style=\"display: table-cell;\">border_hatch_weight&nbsp;=&nbsp;1.0,</div></div><div class=\"p1052\" style=\"display: none;\"><div style=\"display: table-cell;\"></div><div style=\"display: table-cell;\">center&nbsp;=&nbsp;[Grid(id='p1021', ...), Grid(id='p1026', ...)],</div></div><div class=\"p1052\" style=\"display: none;\"><div style=\"display: table-cell;\"></div><div style=\"display: table-cell;\">context_menu&nbsp;=&nbsp;'auto',</div></div><div class=\"p1052\" style=\"display: none;\"><div style=\"display: table-cell;\"></div><div style=\"display: table-cell;\">css_classes&nbsp;=&nbsp;[],</div></div><div class=\"p1052\" style=\"display: none;\"><div style=\"display: table-cell;\"></div><div style=\"display: table-cell;\">css_variables&nbsp;=&nbsp;{},</div></div><div class=\"p1052\" style=\"display: none;\"><div style=\"display: table-cell;\"></div><div style=\"display: table-cell;\">disabled&nbsp;=&nbsp;False,</div></div><div class=\"p1052\" style=\"display: none;\"><div style=\"display: table-cell;\"></div><div style=\"display: table-cell;\">elements&nbsp;=&nbsp;[],</div></div><div class=\"p1052\" style=\"display: none;\"><div style=\"display: table-cell;\"></div><div style=\"display: table-cell;\">extra_x_ranges&nbsp;=&nbsp;{},</div></div><div class=\"p1052\" style=\"display: none;\"><div style=\"display: table-cell;\"></div><div style=\"display: table-cell;\">extra_x_scales&nbsp;=&nbsp;{},</div></div><div class=\"p1052\" style=\"display: none;\"><div style=\"display: table-cell;\"></div><div style=\"display: table-cell;\">extra_y_ranges&nbsp;=&nbsp;{},</div></div><div class=\"p1052\" style=\"display: none;\"><div style=\"display: table-cell;\"></div><div style=\"display: table-cell;\">extra_y_scales&nbsp;=&nbsp;{},</div></div><div class=\"p1052\" style=\"display: none;\"><div style=\"display: table-cell;\"></div><div style=\"display: table-cell;\">flow_mode&nbsp;=&nbsp;'block',</div></div><div class=\"p1052\" style=\"display: none;\"><div style=\"display: table-cell;\"></div><div style=\"display: table-cell;\">frame_align&nbsp;=&nbsp;True,</div></div><div class=\"p1052\" style=\"display: none;\"><div style=\"display: table-cell;\"></div><div style=\"display: table-cell;\">frame_height&nbsp;=&nbsp;None,</div></div><div class=\"p1052\" style=\"display: none;\"><div style=\"display: table-cell;\"></div><div style=\"display: table-cell;\">frame_width&nbsp;=&nbsp;None,</div></div><div class=\"p1052\" style=\"display: none;\"><div style=\"display: table-cell;\"></div><div style=\"display: table-cell;\">height&nbsp;=&nbsp;400,</div></div><div class=\"p1052\" style=\"display: none;\"><div style=\"display: table-cell;\"></div><div style=\"display: table-cell;\">height_policy&nbsp;=&nbsp;'auto',</div></div><div class=\"p1052\" style=\"display: none;\"><div style=\"display: table-cell;\"></div><div style=\"display: table-cell;\">hidpi&nbsp;=&nbsp;True,</div></div><div class=\"p1052\" style=\"display: none;\"><div style=\"display: table-cell;\"></div><div style=\"display: table-cell;\">hold_render&nbsp;=&nbsp;False,</div></div><div class=\"p1052\" style=\"display: none;\"><div style=\"display: table-cell;\"></div><div style=\"display: table-cell;\">html_attributes&nbsp;=&nbsp;{},</div></div><div class=\"p1052\" style=\"display: none;\"><div style=\"display: table-cell;\"></div><div style=\"display: table-cell;\">html_id&nbsp;=&nbsp;None,</div></div><div class=\"p1052\" style=\"display: none;\"><div style=\"display: table-cell;\"></div><div style=\"display: table-cell;\">js_event_callbacks&nbsp;=&nbsp;{},</div></div><div class=\"p1052\" style=\"display: none;\"><div style=\"display: table-cell;\"></div><div style=\"display: table-cell;\">js_property_callbacks&nbsp;=&nbsp;{},</div></div><div class=\"p1052\" style=\"display: none;\"><div style=\"display: table-cell;\"></div><div style=\"display: table-cell;\">left&nbsp;=&nbsp;[LinearAxis(id='p1022', ...)],</div></div><div class=\"p1052\" style=\"display: none;\"><div style=\"display: table-cell;\"></div><div style=\"display: table-cell;\">lod_factor&nbsp;=&nbsp;10,</div></div><div class=\"p1052\" style=\"display: none;\"><div style=\"display: table-cell;\"></div><div style=\"display: table-cell;\">lod_interval&nbsp;=&nbsp;300,</div></div><div class=\"p1052\" style=\"display: none;\"><div style=\"display: table-cell;\"></div><div style=\"display: table-cell;\">lod_threshold&nbsp;=&nbsp;2000,</div></div><div class=\"p1052\" style=\"display: none;\"><div style=\"display: table-cell;\"></div><div style=\"display: table-cell;\">lod_timeout&nbsp;=&nbsp;500,</div></div><div class=\"p1052\" style=\"display: none;\"><div style=\"display: table-cell;\"></div><div style=\"display: table-cell;\">margin&nbsp;=&nbsp;None,</div></div><div class=\"p1052\" style=\"display: none;\"><div style=\"display: table-cell;\"></div><div style=\"display: table-cell;\">match_aspect&nbsp;=&nbsp;False,</div></div><div class=\"p1052\" style=\"display: none;\"><div style=\"display: table-cell;\"></div><div style=\"display: table-cell;\">max_height&nbsp;=&nbsp;None,</div></div><div class=\"p1052\" style=\"display: none;\"><div style=\"display: table-cell;\"></div><div style=\"display: table-cell;\">max_width&nbsp;=&nbsp;None,</div></div><div class=\"p1052\" style=\"display: none;\"><div style=\"display: table-cell;\"></div><div style=\"display: table-cell;\">min_border&nbsp;=&nbsp;5,</div></div><div class=\"p1052\" style=\"display: none;\"><div style=\"display: table-cell;\"></div><div style=\"display: table-cell;\">min_border_bottom&nbsp;=&nbsp;None,</div></div><div class=\"p1052\" style=\"display: none;\"><div style=\"display: table-cell;\"></div><div style=\"display: table-cell;\">min_border_left&nbsp;=&nbsp;None,</div></div><div class=\"p1052\" style=\"display: none;\"><div style=\"display: table-cell;\"></div><div style=\"display: table-cell;\">min_border_right&nbsp;=&nbsp;None,</div></div><div class=\"p1052\" style=\"display: none;\"><div style=\"display: table-cell;\"></div><div style=\"display: table-cell;\">min_border_top&nbsp;=&nbsp;None,</div></div><div class=\"p1052\" style=\"display: none;\"><div style=\"display: table-cell;\"></div><div style=\"display: table-cell;\">min_height&nbsp;=&nbsp;None,</div></div><div class=\"p1052\" style=\"display: none;\"><div style=\"display: table-cell;\"></div><div style=\"display: table-cell;\">min_width&nbsp;=&nbsp;None,</div></div><div class=\"p1052\" style=\"display: none;\"><div style=\"display: table-cell;\"></div><div style=\"display: table-cell;\">name&nbsp;=&nbsp;None,</div></div><div class=\"p1052\" style=\"display: none;\"><div style=\"display: table-cell;\"></div><div style=\"display: table-cell;\">outline_line_alpha&nbsp;=&nbsp;1.0,</div></div><div class=\"p1052\" style=\"display: none;\"><div style=\"display: table-cell;\"></div><div style=\"display: table-cell;\">outline_line_cap&nbsp;=&nbsp;'butt',</div></div><div class=\"p1052\" style=\"display: none;\"><div style=\"display: table-cell;\"></div><div style=\"display: table-cell;\">outline_line_color&nbsp;=&nbsp;'#e5e5e5',</div></div><div class=\"p1052\" style=\"display: none;\"><div style=\"display: table-cell;\"></div><div style=\"display: table-cell;\">outline_line_dash&nbsp;=&nbsp;[],</div></div><div class=\"p1052\" style=\"display: none;\"><div style=\"display: table-cell;\"></div><div style=\"display: table-cell;\">outline_line_dash_offset&nbsp;=&nbsp;0,</div></div><div class=\"p1052\" style=\"display: none;\"><div style=\"display: table-cell;\"></div><div style=\"display: table-cell;\">outline_line_join&nbsp;=&nbsp;'bevel',</div></div><div class=\"p1052\" style=\"display: none;\"><div style=\"display: table-cell;\"></div><div style=\"display: table-cell;\">outline_line_width&nbsp;=&nbsp;1,</div></div><div class=\"p1052\" style=\"display: none;\"><div style=\"display: table-cell;\"></div><div style=\"display: table-cell;\">output_backend&nbsp;=&nbsp;'canvas',</div></div><div class=\"p1052\" style=\"display: none;\"><div style=\"display: table-cell;\"></div><div style=\"display: table-cell;\">renderers&nbsp;=&nbsp;[GlyphRenderer(id='p1046', ...)],</div></div><div class=\"p1052\" style=\"display: none;\"><div style=\"display: table-cell;\"></div><div style=\"display: table-cell;\">reset_policy&nbsp;=&nbsp;'standard',</div></div><div class=\"p1052\" style=\"display: none;\"><div style=\"display: table-cell;\"></div><div style=\"display: table-cell;\">resizable&nbsp;=&nbsp;False,</div></div><div class=\"p1052\" style=\"display: none;\"><div style=\"display: table-cell;\"></div><div style=\"display: table-cell;\">right&nbsp;=&nbsp;[],</div></div><div class=\"p1052\" style=\"display: none;\"><div style=\"display: table-cell;\"></div><div style=\"display: table-cell;\">sizing_mode&nbsp;=&nbsp;None,</div></div><div class=\"p1052\" style=\"display: none;\"><div style=\"display: table-cell;\"></div><div style=\"display: table-cell;\">styles&nbsp;=&nbsp;{},</div></div><div class=\"p1052\" style=\"display: none;\"><div style=\"display: table-cell;\"></div><div style=\"display: table-cell;\">stylesheets&nbsp;=&nbsp;[],</div></div><div class=\"p1052\" style=\"display: none;\"><div style=\"display: table-cell;\"></div><div style=\"display: table-cell;\">subscribed_events&nbsp;=&nbsp;PropertyValueSet(),</div></div><div class=\"p1052\" style=\"display: none;\"><div style=\"display: table-cell;\"></div><div style=\"display: table-cell;\">syncable&nbsp;=&nbsp;True,</div></div><div class=\"p1052\" style=\"display: none;\"><div style=\"display: table-cell;\"></div><div style=\"display: table-cell;\">tags&nbsp;=&nbsp;[],</div></div><div class=\"p1052\" style=\"display: none;\"><div style=\"display: table-cell;\"></div><div style=\"display: table-cell;\">title&nbsp;=&nbsp;Title(id='p1013', ...),</div></div><div class=\"p1052\" style=\"display: none;\"><div style=\"display: table-cell;\"></div><div style=\"display: table-cell;\">title_location&nbsp;=&nbsp;'above',</div></div><div class=\"p1052\" style=\"display: none;\"><div style=\"display: table-cell;\"></div><div style=\"display: table-cell;\">toolbar&nbsp;=&nbsp;Toolbar(id='p1014', ...),</div></div><div class=\"p1052\" style=\"display: none;\"><div style=\"display: table-cell;\"></div><div style=\"display: table-cell;\">toolbar_inner&nbsp;=&nbsp;False,</div></div><div class=\"p1052\" style=\"display: none;\"><div style=\"display: table-cell;\"></div><div style=\"display: table-cell;\">toolbar_location&nbsp;=&nbsp;'right',</div></div><div class=\"p1052\" style=\"display: none;\"><div style=\"display: table-cell;\"></div><div style=\"display: table-cell;\">toolbar_sticky&nbsp;=&nbsp;True,</div></div><div class=\"p1052\" style=\"display: none;\"><div style=\"display: table-cell;\"></div><div style=\"display: table-cell;\">visible&nbsp;=&nbsp;True,</div></div><div class=\"p1052\" style=\"display: none;\"><div style=\"display: table-cell;\"></div><div style=\"display: table-cell;\">width&nbsp;=&nbsp;600,</div></div><div class=\"p1052\" style=\"display: none;\"><div style=\"display: table-cell;\"></div><div style=\"display: table-cell;\">width_policy&nbsp;=&nbsp;'auto',</div></div><div class=\"p1052\" style=\"display: none;\"><div style=\"display: table-cell;\"></div><div style=\"display: table-cell;\">window_axis&nbsp;=&nbsp;'none',</div></div><div class=\"p1052\" style=\"display: none;\"><div style=\"display: table-cell;\"></div><div style=\"display: table-cell;\">x_range&nbsp;=&nbsp;DataRange1d(id='p1007', ...),</div></div><div class=\"p1052\" style=\"display: none;\"><div style=\"display: table-cell;\"></div><div style=\"display: table-cell;\">x_scale&nbsp;=&nbsp;LinearScale(id='p1015', ...),</div></div><div class=\"p1052\" style=\"display: none;\"><div style=\"display: table-cell;\"></div><div style=\"display: table-cell;\">y_range&nbsp;=&nbsp;DataRange1d(id='p1008', ...),</div></div><div class=\"p1052\" style=\"display: none;\"><div style=\"display: table-cell;\"></div><div style=\"display: table-cell;\">y_scale&nbsp;=&nbsp;LinearScale(id='p1016', ...))</div></div></div>\n",
              "<script>\n",
              "(function() {\n",
              "  let expanded = false;\n",
              "  const ellipsis = document.getElementById(\"p1053\");\n",
              "  ellipsis.addEventListener(\"click\", function() {\n",
              "    const rows = document.getElementsByClassName(\"p1052\");\n",
              "    for (let i = 0; i < rows.length; i++) {\n",
              "      const el = rows[i];\n",
              "      el.style.display = expanded ? \"none\" : \"table-row\";\n",
              "    }\n",
              "    ellipsis.innerHTML = expanded ? \"&hellip;)\" : \"&lsaquo;&lsaquo;&lsaquo;\";\n",
              "    expanded = !expanded;\n",
              "  });\n",
              "})();\n",
              "</script>\n"
            ]
          },
          "metadata": {},
          "execution_count": 20
        }
      ],
      "source": [
        "draw_vectors(word_vectors_pca[:, 0], word_vectors_pca[:, 1], token=words)\n",
        "\n",
        "# hover a mouse over there and see if you can identify the clusters"
      ]
    },
    {
      "cell_type": "markdown",
      "metadata": {
        "id": "2Imrg_AzMgZg"
      },
      "source": [
        "#### Visualizing neighbors with t-SNE\n",
        "PCA is nice but it's strictly linear and thus only able to capture coarse high-level structure of the data.\n",
        "\n",
        "If we instead want to focus on keeping neighboring points near, we could use TSNE, which is itself an embedding method. Here you can read __[more on TSNE](https://distill.pub/2016/misread-tsne/)__."
      ]
    },
    {
      "cell_type": "code",
      "execution_count": 21,
      "metadata": {
        "id": "BHgEi2HwMgZg"
      },
      "outputs": [],
      "source": [
        "from sklearn.manifold import TSNE\n",
        "\n",
        "# map word vectors onto 2d plane with TSNE. hint: don't panic, it may take a minute or two to fit.\n",
        "# normalize them as just like with PCA\n",
        "word_tsne = TSNE(n_components=2).fit_transform(word_vectors)\n",
        "word_tsne = StandardScaler().fit_transform(word_tsne)"
      ]
    },
    {
      "cell_type": "code",
      "execution_count": 22,
      "metadata": {
        "colab": {
          "base_uri": "https://localhost:8080/",
          "height": 434
        },
        "id": "YHJrMmsCMgZg",
        "outputId": "ae7746f9-f3ac-419d-d494-018878c90fb1"
      },
      "outputs": [
        {
          "output_type": "display_data",
          "data": {
            "application/javascript": [
              "'use strict';\n",
              "(function(root) {\n",
              "  function now() {\n",
              "    return new Date();\n",
              "  }\n",
              "\n",
              "  const force = true;\n",
              "\n",
              "  if (typeof root._bokeh_onload_callbacks === \"undefined\" || force === true) {\n",
              "    root._bokeh_onload_callbacks = [];\n",
              "    root._bokeh_is_loading = undefined;\n",
              "  }\n",
              "\n",
              "const JS_MIME_TYPE = 'application/javascript';\n",
              "  const HTML_MIME_TYPE = 'text/html';\n",
              "  const EXEC_MIME_TYPE = 'application/vnd.bokehjs_exec.v0+json';\n",
              "  const CLASS_NAME = 'output_bokeh rendered_html';\n",
              "\n",
              "  /**\n",
              "   * Render data to the DOM node\n",
              "   */\n",
              "  function render(props, node) {\n",
              "    const script = document.createElement(\"script\");\n",
              "    node.appendChild(script);\n",
              "  }\n",
              "\n",
              "  /**\n",
              "   * Handle when an output is cleared or removed\n",
              "   */\n",
              "  function handleClearOutput(event, handle) {\n",
              "    function drop(id) {\n",
              "      const view = Bokeh.index.get_by_id(id)\n",
              "      if (view != null) {\n",
              "        view.model.document.clear()\n",
              "        Bokeh.index.delete(view)\n",
              "      }\n",
              "    }\n",
              "\n",
              "    const cell = handle.cell;\n",
              "\n",
              "    const id = cell.output_area._bokeh_element_id;\n",
              "    const server_id = cell.output_area._bokeh_server_id;\n",
              "\n",
              "    // Clean up Bokeh references\n",
              "    if (id != null) {\n",
              "      drop(id)\n",
              "    }\n",
              "\n",
              "    if (server_id !== undefined) {\n",
              "      // Clean up Bokeh references\n",
              "      const cmd_clean = \"from bokeh.io.state import curstate; print(curstate().uuid_to_server['\" + server_id + \"'].get_sessions()[0].document.roots[0]._id)\";\n",
              "      cell.notebook.kernel.execute(cmd_clean, {\n",
              "        iopub: {\n",
              "          output: function(msg) {\n",
              "            const id = msg.content.text.trim()\n",
              "            drop(id)\n",
              "          }\n",
              "        }\n",
              "      });\n",
              "      // Destroy server and session\n",
              "      const cmd_destroy = \"import bokeh.io.notebook as ion; ion.destroy_server('\" + server_id + \"')\";\n",
              "      cell.notebook.kernel.execute(cmd_destroy);\n",
              "    }\n",
              "  }\n",
              "\n",
              "  /**\n",
              "   * Handle when a new output is added\n",
              "   */\n",
              "  function handleAddOutput(event, handle) {\n",
              "    const output_area = handle.output_area;\n",
              "    const output = handle.output;\n",
              "\n",
              "    // limit handleAddOutput to display_data with EXEC_MIME_TYPE content only\n",
              "    if ((output.output_type != \"display_data\") || (!Object.prototype.hasOwnProperty.call(output.data, EXEC_MIME_TYPE))) {\n",
              "      return\n",
              "    }\n",
              "\n",
              "    const toinsert = output_area.element.find(\".\" + CLASS_NAME.split(' ')[0]);\n",
              "\n",
              "    if (output.metadata[EXEC_MIME_TYPE][\"id\"] !== undefined) {\n",
              "      toinsert[toinsert.length - 1].firstChild.textContent = output.data[JS_MIME_TYPE];\n",
              "      // store reference to embed id on output_area\n",
              "      output_area._bokeh_element_id = output.metadata[EXEC_MIME_TYPE][\"id\"];\n",
              "    }\n",
              "    if (output.metadata[EXEC_MIME_TYPE][\"server_id\"] !== undefined) {\n",
              "      const bk_div = document.createElement(\"div\");\n",
              "      bk_div.innerHTML = output.data[HTML_MIME_TYPE];\n",
              "      const script_attrs = bk_div.children[0].attributes;\n",
              "      for (let i = 0; i < script_attrs.length; i++) {\n",
              "        toinsert[toinsert.length - 1].firstChild.setAttribute(script_attrs[i].name, script_attrs[i].value);\n",
              "        toinsert[toinsert.length - 1].firstChild.textContent = bk_div.children[0].textContent\n",
              "      }\n",
              "      // store reference to server id on output_area\n",
              "      output_area._bokeh_server_id = output.metadata[EXEC_MIME_TYPE][\"server_id\"];\n",
              "    }\n",
              "  }\n",
              "\n",
              "  function register_renderer(events, OutputArea) {\n",
              "\n",
              "    function append_mime(data, metadata, element) {\n",
              "      // create a DOM node to render to\n",
              "      const toinsert = this.create_output_subarea(\n",
              "        metadata,\n",
              "        CLASS_NAME,\n",
              "        EXEC_MIME_TYPE\n",
              "      );\n",
              "      this.keyboard_manager.register_events(toinsert);\n",
              "      // Render to node\n",
              "      const props = {data: data, metadata: metadata[EXEC_MIME_TYPE]};\n",
              "      render(props, toinsert[toinsert.length - 1]);\n",
              "      element.append(toinsert);\n",
              "      return toinsert\n",
              "    }\n",
              "\n",
              "    /* Handle when an output is cleared or removed */\n",
              "    events.on('clear_output.CodeCell', handleClearOutput);\n",
              "    events.on('delete.Cell', handleClearOutput);\n",
              "\n",
              "    /* Handle when a new output is added */\n",
              "    events.on('output_added.OutputArea', handleAddOutput);\n",
              "\n",
              "    /**\n",
              "     * Register the mime type and append_mime function with output_area\n",
              "     */\n",
              "    OutputArea.prototype.register_mime_type(EXEC_MIME_TYPE, append_mime, {\n",
              "      /* Is output safe? */\n",
              "      safe: true,\n",
              "      /* Index of renderer in `output_area.display_order` */\n",
              "      index: 0\n",
              "    });\n",
              "  }\n",
              "\n",
              "  // register the mime type if in Jupyter Notebook environment and previously unregistered\n",
              "  if (root.Jupyter !== undefined) {\n",
              "    const events = require('base/js/events');\n",
              "    const OutputArea = require('notebook/js/outputarea').OutputArea;\n",
              "\n",
              "    if (OutputArea.prototype.mime_types().indexOf(EXEC_MIME_TYPE) == -1) {\n",
              "      register_renderer(events, OutputArea);\n",
              "    }\n",
              "  }\n",
              "  if (typeof (root._bokeh_timeout) === \"undefined\" || force === true) {\n",
              "    root._bokeh_timeout = Date.now() + 5000;\n",
              "    root._bokeh_failed_load = false;\n",
              "  }\n",
              "\n",
              "  const NB_LOAD_WARNING = {'data': {'text/html':\n",
              "     \"<div style='background-color: #fdd'>\\n\"+\n",
              "     \"<p>\\n\"+\n",
              "     \"BokehJS does not appear to have successfully loaded. If loading BokehJS from CDN, this \\n\"+\n",
              "     \"may be due to a slow or bad network connection. Possible fixes:\\n\"+\n",
              "     \"</p>\\n\"+\n",
              "     \"<ul>\\n\"+\n",
              "     \"<li>re-rerun `output_notebook()` to attempt to load from CDN again, or</li>\\n\"+\n",
              "     \"<li>use INLINE resources instead, as so:</li>\\n\"+\n",
              "     \"</ul>\\n\"+\n",
              "     \"<code>\\n\"+\n",
              "     \"from bokeh.resources import INLINE\\n\"+\n",
              "     \"output_notebook(resources=INLINE)\\n\"+\n",
              "     \"</code>\\n\"+\n",
              "     \"</div>\"}};\n",
              "\n",
              "  function display_loaded(error = null) {\n",
              "    const el = document.getElementById(null);\n",
              "    if (el != null) {\n",
              "      const html = (() => {\n",
              "        if (typeof root.Bokeh === \"undefined\") {\n",
              "          if (error == null) {\n",
              "            return \"BokehJS is loading ...\";\n",
              "          } else {\n",
              "            return \"BokehJS failed to load.\";\n",
              "          }\n",
              "        } else {\n",
              "          const prefix = `BokehJS ${root.Bokeh.version}`;\n",
              "          if (error == null) {\n",
              "            return `${prefix} successfully loaded.`;\n",
              "          } else {\n",
              "            return `${prefix} <b>encountered errors</b> while loading and may not function as expected.`;\n",
              "          }\n",
              "        }\n",
              "      })();\n",
              "      el.innerHTML = html;\n",
              "\n",
              "      if (error != null) {\n",
              "        const wrapper = document.createElement(\"div\");\n",
              "        wrapper.style.overflow = \"auto\";\n",
              "        wrapper.style.height = \"5em\";\n",
              "        wrapper.style.resize = \"vertical\";\n",
              "        const content = document.createElement(\"div\");\n",
              "        content.style.fontFamily = \"monospace\";\n",
              "        content.style.whiteSpace = \"pre-wrap\";\n",
              "        content.style.backgroundColor = \"rgb(255, 221, 221)\";\n",
              "        content.textContent = error.stack ?? error.toString();\n",
              "        wrapper.append(content);\n",
              "        el.append(wrapper);\n",
              "      }\n",
              "    } else if (Date.now() < root._bokeh_timeout) {\n",
              "      setTimeout(() => display_loaded(error), 100);\n",
              "    }\n",
              "  }\n",
              "\n",
              "  function run_callbacks() {\n",
              "    try {\n",
              "      root._bokeh_onload_callbacks.forEach(function(callback) {\n",
              "        if (callback != null)\n",
              "          callback();\n",
              "      });\n",
              "    } finally {\n",
              "      delete root._bokeh_onload_callbacks\n",
              "    }\n",
              "    console.debug(\"Bokeh: all callbacks have finished\");\n",
              "  }\n",
              "\n",
              "  function load_libs(css_urls, js_urls, callback) {\n",
              "    if (css_urls == null) css_urls = [];\n",
              "    if (js_urls == null) js_urls = [];\n",
              "\n",
              "    root._bokeh_onload_callbacks.push(callback);\n",
              "    if (root._bokeh_is_loading > 0) {\n",
              "      console.debug(\"Bokeh: BokehJS is being loaded, scheduling callback at\", now());\n",
              "      return null;\n",
              "    }\n",
              "    if (js_urls == null || js_urls.length === 0) {\n",
              "      run_callbacks();\n",
              "      return null;\n",
              "    }\n",
              "    console.debug(\"Bokeh: BokehJS not loaded, scheduling load and callback at\", now());\n",
              "    root._bokeh_is_loading = css_urls.length + js_urls.length;\n",
              "\n",
              "    function on_load() {\n",
              "      root._bokeh_is_loading--;\n",
              "      if (root._bokeh_is_loading === 0) {\n",
              "        console.debug(\"Bokeh: all BokehJS libraries/stylesheets loaded\");\n",
              "        run_callbacks()\n",
              "      }\n",
              "    }\n",
              "\n",
              "    function on_error(url) {\n",
              "      console.error(\"failed to load \" + url);\n",
              "    }\n",
              "\n",
              "    for (let i = 0; i < css_urls.length; i++) {\n",
              "      const url = css_urls[i];\n",
              "      const element = document.createElement(\"link\");\n",
              "      element.onload = on_load;\n",
              "      element.onerror = on_error.bind(null, url);\n",
              "      element.rel = \"stylesheet\";\n",
              "      element.type = \"text/css\";\n",
              "      element.href = url;\n",
              "      console.debug(\"Bokeh: injecting link tag for BokehJS stylesheet: \", url);\n",
              "      document.body.appendChild(element);\n",
              "    }\n",
              "\n",
              "    for (let i = 0; i < js_urls.length; i++) {\n",
              "      const url = js_urls[i];\n",
              "      const element = document.createElement('script');\n",
              "      element.onload = on_load;\n",
              "      element.onerror = on_error.bind(null, url);\n",
              "      element.async = false;\n",
              "      element.src = url;\n",
              "      console.debug(\"Bokeh: injecting script tag for BokehJS library: \", url);\n",
              "      document.head.appendChild(element);\n",
              "    }\n",
              "  };\n",
              "\n",
              "  function inject_raw_css(css) {\n",
              "    const element = document.createElement(\"style\");\n",
              "    element.appendChild(document.createTextNode(css));\n",
              "    document.body.appendChild(element);\n",
              "  }\n",
              "\n",
              "  const js_urls = [\"https://cdn.bokeh.org/bokeh/release/bokeh-3.7.3.min.js\", \"https://cdn.bokeh.org/bokeh/release/bokeh-gl-3.7.3.min.js\", \"https://cdn.bokeh.org/bokeh/release/bokeh-widgets-3.7.3.min.js\", \"https://cdn.bokeh.org/bokeh/release/bokeh-tables-3.7.3.min.js\", \"https://cdn.bokeh.org/bokeh/release/bokeh-mathjax-3.7.3.min.js\"];\n",
              "  const css_urls = [];\n",
              "\n",
              "  const inline_js = [    function(Bokeh) {\n",
              "      Bokeh.set_log_level(\"info\");\n",
              "    },\n",
              "function(Bokeh) {\n",
              "    }\n",
              "  ];\n",
              "\n",
              "  function run_inline_js() {\n",
              "    if (root.Bokeh !== undefined || force === true) {\n",
              "      try {\n",
              "            for (let i = 0; i < inline_js.length; i++) {\n",
              "      inline_js[i].call(root, root.Bokeh);\n",
              "    }\n",
              "\n",
              "      } catch (error) {throw error;\n",
              "      }} else if (Date.now() < root._bokeh_timeout) {\n",
              "      setTimeout(run_inline_js, 100);\n",
              "    } else if (!root._bokeh_failed_load) {\n",
              "      console.log(\"Bokeh: BokehJS failed to load within specified timeout.\");\n",
              "      root._bokeh_failed_load = true;\n",
              "    } else if (force !== true) {\n",
              "      const cell = $(document.getElementById(null)).parents('.cell').data().cell;\n",
              "      cell.output_area.append_execute_result(NB_LOAD_WARNING)\n",
              "    }\n",
              "  }\n",
              "\n",
              "  if (root._bokeh_is_loading === 0) {\n",
              "    console.debug(\"Bokeh: BokehJS loaded, going straight to plotting\");\n",
              "    run_inline_js();\n",
              "  } else {\n",
              "    load_libs(css_urls, js_urls, function() {\n",
              "      console.debug(\"Bokeh: BokehJS plotting callback run at\", now());\n",
              "      run_inline_js();\n",
              "    });\n",
              "  }\n",
              "}(window));"
            ],
            "application/vnd.bokehjs_load.v0+json": "'use strict';\n(function(root) {\n  function now() {\n    return new Date();\n  }\n\n  const force = true;\n\n  if (typeof root._bokeh_onload_callbacks === \"undefined\" || force === true) {\n    root._bokeh_onload_callbacks = [];\n    root._bokeh_is_loading = undefined;\n  }\n\n\n  if (typeof (root._bokeh_timeout) === \"undefined\" || force === true) {\n    root._bokeh_timeout = Date.now() + 5000;\n    root._bokeh_failed_load = false;\n  }\n\n  const NB_LOAD_WARNING = {'data': {'text/html':\n     \"<div style='background-color: #fdd'>\\n\"+\n     \"<p>\\n\"+\n     \"BokehJS does not appear to have successfully loaded. If loading BokehJS from CDN, this \\n\"+\n     \"may be due to a slow or bad network connection. Possible fixes:\\n\"+\n     \"</p>\\n\"+\n     \"<ul>\\n\"+\n     \"<li>re-rerun `output_notebook()` to attempt to load from CDN again, or</li>\\n\"+\n     \"<li>use INLINE resources instead, as so:</li>\\n\"+\n     \"</ul>\\n\"+\n     \"<code>\\n\"+\n     \"from bokeh.resources import INLINE\\n\"+\n     \"output_notebook(resources=INLINE)\\n\"+\n     \"</code>\\n\"+\n     \"</div>\"}};\n\n  function display_loaded(error = null) {\n    const el = document.getElementById(null);\n    if (el != null) {\n      const html = (() => {\n        if (typeof root.Bokeh === \"undefined\") {\n          if (error == null) {\n            return \"BokehJS is loading ...\";\n          } else {\n            return \"BokehJS failed to load.\";\n          }\n        } else {\n          const prefix = `BokehJS ${root.Bokeh.version}`;\n          if (error == null) {\n            return `${prefix} successfully loaded.`;\n          } else {\n            return `${prefix} <b>encountered errors</b> while loading and may not function as expected.`;\n          }\n        }\n      })();\n      el.innerHTML = html;\n\n      if (error != null) {\n        const wrapper = document.createElement(\"div\");\n        wrapper.style.overflow = \"auto\";\n        wrapper.style.height = \"5em\";\n        wrapper.style.resize = \"vertical\";\n        const content = document.createElement(\"div\");\n        content.style.fontFamily = \"monospace\";\n        content.style.whiteSpace = \"pre-wrap\";\n        content.style.backgroundColor = \"rgb(255, 221, 221)\";\n        content.textContent = error.stack ?? error.toString();\n        wrapper.append(content);\n        el.append(wrapper);\n      }\n    } else if (Date.now() < root._bokeh_timeout) {\n      setTimeout(() => display_loaded(error), 100);\n    }\n  }\n\n  function run_callbacks() {\n    try {\n      root._bokeh_onload_callbacks.forEach(function(callback) {\n        if (callback != null)\n          callback();\n      });\n    } finally {\n      delete root._bokeh_onload_callbacks\n    }\n    console.debug(\"Bokeh: all callbacks have finished\");\n  }\n\n  function load_libs(css_urls, js_urls, callback) {\n    if (css_urls == null) css_urls = [];\n    if (js_urls == null) js_urls = [];\n\n    root._bokeh_onload_callbacks.push(callback);\n    if (root._bokeh_is_loading > 0) {\n      console.debug(\"Bokeh: BokehJS is being loaded, scheduling callback at\", now());\n      return null;\n    }\n    if (js_urls == null || js_urls.length === 0) {\n      run_callbacks();\n      return null;\n    }\n    console.debug(\"Bokeh: BokehJS not loaded, scheduling load and callback at\", now());\n    root._bokeh_is_loading = css_urls.length + js_urls.length;\n\n    function on_load() {\n      root._bokeh_is_loading--;\n      if (root._bokeh_is_loading === 0) {\n        console.debug(\"Bokeh: all BokehJS libraries/stylesheets loaded\");\n        run_callbacks()\n      }\n    }\n\n    function on_error(url) {\n      console.error(\"failed to load \" + url);\n    }\n\n    for (let i = 0; i < css_urls.length; i++) {\n      const url = css_urls[i];\n      const element = document.createElement(\"link\");\n      element.onload = on_load;\n      element.onerror = on_error.bind(null, url);\n      element.rel = \"stylesheet\";\n      element.type = \"text/css\";\n      element.href = url;\n      console.debug(\"Bokeh: injecting link tag for BokehJS stylesheet: \", url);\n      document.body.appendChild(element);\n    }\n\n    for (let i = 0; i < js_urls.length; i++) {\n      const url = js_urls[i];\n      const element = document.createElement('script');\n      element.onload = on_load;\n      element.onerror = on_error.bind(null, url);\n      element.async = false;\n      element.src = url;\n      console.debug(\"Bokeh: injecting script tag for BokehJS library: \", url);\n      document.head.appendChild(element);\n    }\n  };\n\n  function inject_raw_css(css) {\n    const element = document.createElement(\"style\");\n    element.appendChild(document.createTextNode(css));\n    document.body.appendChild(element);\n  }\n\n  const js_urls = [\"https://cdn.bokeh.org/bokeh/release/bokeh-3.7.3.min.js\", \"https://cdn.bokeh.org/bokeh/release/bokeh-gl-3.7.3.min.js\", \"https://cdn.bokeh.org/bokeh/release/bokeh-widgets-3.7.3.min.js\", \"https://cdn.bokeh.org/bokeh/release/bokeh-tables-3.7.3.min.js\", \"https://cdn.bokeh.org/bokeh/release/bokeh-mathjax-3.7.3.min.js\"];\n  const css_urls = [];\n\n  const inline_js = [    function(Bokeh) {\n      Bokeh.set_log_level(\"info\");\n    },\nfunction(Bokeh) {\n    }\n  ];\n\n  function run_inline_js() {\n    if (root.Bokeh !== undefined || force === true) {\n      try {\n            for (let i = 0; i < inline_js.length; i++) {\n      inline_js[i].call(root, root.Bokeh);\n    }\n\n      } catch (error) {throw error;\n      }} else if (Date.now() < root._bokeh_timeout) {\n      setTimeout(run_inline_js, 100);\n    } else if (!root._bokeh_failed_load) {\n      console.log(\"Bokeh: BokehJS failed to load within specified timeout.\");\n      root._bokeh_failed_load = true;\n    } else if (force !== true) {\n      const cell = $(document.getElementById(null)).parents('.cell').data().cell;\n      cell.output_area.append_execute_result(NB_LOAD_WARNING)\n    }\n  }\n\n  if (root._bokeh_is_loading === 0) {\n    console.debug(\"Bokeh: BokehJS loaded, going straight to plotting\");\n    run_inline_js();\n  } else {\n    load_libs(css_urls, js_urls, function() {\n      console.debug(\"Bokeh: BokehJS plotting callback run at\", now());\n      run_inline_js();\n    });\n  }\n}(window));"
          },
          "metadata": {}
        },
        {
          "output_type": "display_data",
          "data": {
            "text/html": [
              "\n",
              "  <div id=\"d94b0e09-8a81-4331-b1eb-08ab0424c8c1\" data-root-id=\"p1057\" style=\"display: contents;\"></div>\n"
            ]
          },
          "metadata": {}
        },
        {
          "output_type": "display_data",
          "data": {
            "application/javascript": [
              "(function(root) {\n",
              "  function embed_document(root) {\n",
              "  const docs_json = {\"296f823a-1cd6-4a16-8f18-4e7c2b59ba63\":{\"version\":\"3.7.3\",\"title\":\"Bokeh Application\",\"roots\":[{\"type\":\"object\",\"name\":\"Figure\",\"id\":\"p1057\",\"attributes\":{\"height\":400,\"x_range\":{\"type\":\"object\",\"name\":\"DataRange1d\",\"id\":\"p1058\"},\"y_range\":{\"type\":\"object\",\"name\":\"DataRange1d\",\"id\":\"p1059\"},\"x_scale\":{\"type\":\"object\",\"name\":\"LinearScale\",\"id\":\"p1066\"},\"y_scale\":{\"type\":\"object\",\"name\":\"LinearScale\",\"id\":\"p1067\"},\"title\":{\"type\":\"object\",\"name\":\"Title\",\"id\":\"p1064\"},\"renderers\":[{\"type\":\"object\",\"name\":\"GlyphRenderer\",\"id\":\"p1097\",\"attributes\":{\"data_source\":{\"type\":\"object\",\"name\":\"ColumnDataSource\",\"id\":\"p1054\",\"attributes\":{\"selected\":{\"type\":\"object\",\"name\":\"Selection\",\"id\":\"p1055\",\"attributes\":{\"indices\":[],\"line_indices\":[]}},\"selection_policy\":{\"type\":\"object\",\"name\":\"UnionRenderers\",\"id\":\"p1056\"},\"data\":{\"type\":\"map\",\"entries\":[[\"x\",{\"type\":\"ndarray\",\"array\":{\"type\":\"bytes\",\"data\":\"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\"},\"shape\":[1000],\"dtype\":\"float32\",\"order\":\"little\"}],[\"y\",{\"type\":\"ndarray\",\"array\":{\"type\":\"bytes\",\"data\":\"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\"},\"shape\":[1000],\"dtype\":\"float32\",\"order\":\"little\"}],[\"color\",[\"green\",\"green\",\"green\",\"green\",\"green\",\"green\",\"green\",\"green\",\"green\",\"green\",\"green\",\"green\",\"green\",\"green\",\"green\",\"green\",\"green\",\"green\",\"green\",\"green\",\"green\",\"green\",\"green\",\"green\",\"green\",\"green\",\"green\",\"green\",\"green\",\"green\",\"green\",\"green\",\"green\",\"green\",\"green\",\"green\",\"green\",\"green\",\"green\",\"green\",\"green\",\"green\",\"green\",\"green\",\"green\",\"green\",\"green\",\"green\",\"green\",\"green\",\"green\",\"green\",\"green\",\"green\",\"green\",\"green\",\"green\",\"green\",\"green\",\"green\",\"green\",\"green\",\"green\",\"green\",\"green\",\"green\",\"green\",\"green\",\"green\",\"green\",\"green\",\"green\",\"green\",\"green\",\"green\",\"green\",\"green\",\"green\",\"green\",\"green\",\"green\",\"green\",\"green\",\"green\",\"green\",\"green\",\"green\",\"green\",\"green\",\"green\",\"green\",\"green\",\"green\",\"green\",\"green\",\"green\",\"green\",\"green\",\"green\",\"green\",\"green\",\"green\",\"green\",\"green\",\"green\",\"green\",\"green\",\"green\",\"green\",\"green\",\"green\",\"green\",\"green\",\"green\",\"green\",\"green\",\"green\",\"green\",\"green\",\"green\",\"green\",\"green\",\"green\",\"green\",\"green\",\"green\",\"green\",\"green\",\"green\",\"green\",\"green\",\"green\",\"green\",\"green\",\"green\",\"green\",\"green\",\"green\",\"green\",\"green\",\"green\",\"green\",\"green\",\"green\",\"green\",\"green\",\"green\",\"green\",\"green\",\"green\",\"green\",\"green\",\"green\",\"green\",\"green\",\"green\",\"green\",\"green\",\"green\",\"green\",\"green\",\"green\",\"green\",\"green\",\"green\",\"green\",\"green\",\"green\",\"green\",\"green\",\"green\",\"green\",\"green\",\"green\",\"green\",\"green\",\"green\",\"green\",\"green\",\"green\",\"green\",\"green\",\"green\",\"green\",\"green\",\"green\",\"green\",\"green\",\"green\",\"green\",\"green\",\"green\",\"green\",\"green\",\"green\",\"green\",\"green\",\"green\",\"green\",\"green\",\"green\",\"green\",\"green\",\"green\",\"green\",\"green\",\"green\",\"green\",\"green\",\"green\",\"green\",\"green\",\"green\",\"green\",\"green\",\"green\",\"green\",\"green\",\"green\",\"green\",\"green\",\"green\",\"green\",\"green\",\"green\",\"green\",\"green\",\"green\",\"green\",\"green\",\"green\",\"green\",\"green\",\"green\",\"green\",\"green\",\"green\",\"green\",\"green\",\"green\",\"green\",\"green\",\"green\",\"green\",\"green\",\"green\",\"green\",\"green\",\"green\",\"green\",\"green\",\"green\",\"green\",\"green\",\"green\",\"green\",\"green\",\"green\",\"green\",\"green\",\"green\",\"green\",\"green\",\"green\",\"green\",\"green\",\"green\",\"green\",\"green\",\"green\",\"green\",\"green\",\"green\",\"green\",\"green\",\"green\",\"green\",\"green\",\"green\",\"green\",\"green\",\"green\",\"green\",\"green\",\"green\",\"green\",\"green\",\"green\",\"green\",\"green\",\"green\",\"green\",\"green\",\"green\",\"green\",\"green\",\"green\",\"green\",\"green\",\"green\",\"green\",\"green\",\"green\",\"green\",\"green\",\"green\",\"green\",\"green\",\"green\",\"green\",\"green\",\"green\",\"green\",\"green\",\"green\",\"green\",\"green\",\"green\",\"green\",\"green\",\"green\",\"green\",\"green\",\"green\",\"green\",\"green\",\"green\",\"green\",\"green\",\"green\",\"green\",\"green\",\"green\",\"green\",\"green\",\"green\",\"green\",\"green\",\"green\",\"green\",\"green\",\"green\",\"green\",\"green\",\"green\",\"green\",\"green\",\"green\",\"green\",\"green\",\"green\",\"green\",\"green\",\"green\",\"green\",\"green\",\"green\",\"green\",\"green\",\"green\",\"green\",\"green\",\"green\",\"green\",\"green\",\"green\",\"green\",\"green\",\"green\",\"green\",\"green\",\"green\",\"green\",\"green\",\"green\",\"green\",\"green\",\"green\",\"green\",\"green\",\"green\",\"green\",\"green\",\"green\",\"green\",\"green\",\"green\",\"green\",\"green\",\"green\",\"green\",\"green\",\"green\",\"green\",\"green\",\"green\",\"green\",\"green\",\"green\",\"green\",\"green\",\"green\",\"green\",\"green\",\"green\",\"green\",\"green\",\"green\",\"green\",\"green\",\"green\",\"green\",\"green\",\"green\",\"green\",\"green\",\"green\",\"green\",\"green\",\"green\",\"green\",\"green\",\"green\",\"green\",\"green\",\"green\",\"green\",\"green\",\"green\",\"green\",\"green\",\"green\",\"green\",\"green\",\"green\",\"green\",\"green\",\"green\",\"green\",\"green\",\"green\",\"green\",\"green\",\"green\",\"green\",\"green\",\"green\",\"green\",\"green\",\"green\",\"green\",\"green\",\"green\",\"green\",\"green\",\"green\",\"green\",\"green\",\"green\",\"green\",\"green\",\"green\",\"green\",\"green\",\"green\",\"green\",\"green\",\"green\",\"green\",\"green\",\"green\",\"green\",\"green\",\"green\",\"green\",\"green\",\"green\",\"green\",\"green\",\"green\",\"green\",\"green\",\"green\",\"green\",\"green\",\"green\",\"green\",\"green\",\"green\",\"green\",\"green\",\"green\",\"green\",\"green\",\"green\",\"green\",\"green\",\"green\",\"green\",\"green\",\"green\",\"green\",\"green\",\"green\",\"green\",\"green\",\"green\",\"green\",\"green\",\"green\",\"green\",\"green\",\"green\",\"green\",\"green\",\"green\",\"green\",\"green\",\"green\",\"green\",\"green\",\"green\",\"green\",\"green\",\"green\",\"green\",\"green\",\"green\",\"green\",\"green\",\"green\",\"green\",\"green\",\"green\",\"green\",\"green\",\"green\",\"green\",\"green\",\"green\",\"green\",\"green\",\"green\",\"green\",\"green\",\"green\",\"green\",\"green\",\"green\",\"green\",\"green\",\"green\",\"green\",\"green\",\"green\",\"green\",\"green\",\"green\",\"green\",\"green\",\"green\",\"green\",\"green\",\"green\",\"green\",\"green\",\"green\",\"green\",\"green\",\"green\",\"green\",\"green\",\"green\",\"green\",\"green\",\"green\",\"green\",\"green\",\"green\",\"green\",\"green\",\"green\",\"green\",\"green\",\"green\",\"green\",\"green\",\"green\",\"green\",\"green\",\"green\",\"green\",\"green\",\"green\",\"green\",\"green\",\"green\",\"green\",\"green\",\"green\",\"green\",\"green\",\"green\",\"green\",\"green\",\"green\",\"green\",\"green\",\"green\",\"green\",\"green\",\"green\",\"green\",\"green\",\"green\",\"green\",\"green\",\"green\",\"green\",\"green\",\"green\",\"green\",\"green\",\"green\",\"green\",\"green\",\"green\",\"green\",\"green\",\"green\",\"green\",\"green\",\"green\",\"green\",\"green\",\"green\",\"green\",\"green\",\"green\",\"green\",\"green\",\"green\",\"green\",\"green\",\"green\",\"green\",\"green\",\"green\",\"green\",\"green\",\"green\",\"green\",\"green\",\"green\",\"green\",\"green\",\"green\",\"green\",\"green\",\"green\",\"green\",\"green\",\"green\",\"green\",\"green\",\"green\",\"green\",\"green\",\"green\",\"green\",\"green\",\"green\",\"green\",\"green\",\"green\",\"green\",\"green\",\"green\",\"green\",\"green\",\"green\",\"green\",\"green\",\"green\",\"green\",\"green\",\"green\",\"green\",\"green\",\"green\",\"green\",\"green\",\"green\",\"green\",\"green\",\"green\",\"green\",\"green\",\"green\",\"green\",\"green\",\"green\",\"green\",\"green\",\"green\",\"green\",\"green\",\"green\",\"green\",\"green\",\"green\",\"green\",\"green\",\"green\",\"green\",\"green\",\"green\",\"green\",\"green\",\"green\",\"green\",\"green\",\"green\",\"green\",\"green\",\"green\",\"green\",\"green\",\"green\",\"green\",\"green\",\"green\",\"green\",\"green\",\"green\",\"green\",\"green\",\"green\",\"green\",\"green\",\"green\",\"green\",\"green\",\"green\",\"green\",\"green\",\"green\",\"green\",\"green\",\"green\",\"green\",\"green\",\"green\",\"green\",\"green\",\"green\",\"green\",\"green\",\"green\",\"green\",\"green\",\"green\",\"green\",\"green\",\"green\",\"green\",\"green\",\"green\",\"green\",\"green\",\"green\",\"green\",\"green\",\"green\",\"green\",\"green\",\"green\",\"green\",\"green\",\"green\",\"green\",\"green\",\"green\",\"green\",\"green\",\"green\",\"green\",\"green\",\"green\",\"green\",\"green\",\"green\",\"green\",\"green\",\"green\",\"green\",\"green\",\"green\",\"green\",\"green\",\"green\",\"green\",\"green\",\"green\",\"green\",\"green\",\"green\",\"green\",\"green\",\"green\",\"green\",\"green\",\"green\",\"green\",\"green\",\"green\",\"green\",\"green\",\"green\",\"green\",\"green\",\"green\",\"green\",\"green\",\"green\",\"green\",\"green\",\"green\",\"green\",\"green\",\"green\",\"green\",\"green\",\"green\",\"green\",\"green\",\"green\",\"green\",\"green\",\"green\",\"green\",\"green\",\"green\",\"green\",\"green\",\"green\",\"green\",\"green\",\"green\",\"green\",\"green\",\"green\",\"green\",\"green\",\"green\",\"green\",\"green\",\"green\",\"green\",\"green\",\"green\",\"green\",\"green\",\"green\",\"green\",\"green\",\"green\",\"green\",\"green\",\"green\",\"green\",\"green\",\"green\",\"green\",\"green\",\"green\",\"green\",\"green\",\"green\",\"green\",\"green\",\"green\",\"green\",\"green\",\"green\",\"green\",\"green\",\"green\",\"green\",\"green\",\"green\",\"green\",\"green\",\"green\",\"green\",\"green\",\"green\",\"green\",\"green\",\"green\",\"green\",\"green\",\"green\",\"green\",\"green\",\"green\",\"green\",\"green\",\"green\",\"green\",\"green\",\"green\",\"green\",\"green\",\"green\",\"green\",\"green\",\"green\",\"green\",\"green\",\"green\",\"green\",\"green\",\"green\",\"green\",\"green\",\"green\",\"green\",\"green\",\"green\",\"green\",\"green\",\"green\",\"green\",\"green\",\"green\",\"green\",\"green\",\"green\",\"green\",\"green\",\"green\",\"green\",\"green\",\"green\",\"green\",\"green\",\"green\",\"green\",\"green\",\"green\",\"green\",\"green\",\"green\",\"green\",\"green\",\"green\",\"green\",\"green\",\"green\",\"green\",\"green\",\"green\",\"green\",\"green\",\"green\",\"green\",\"green\",\"green\",\"green\",\"green\",\"green\",\"green\",\"green\",\"green\",\"green\",\"green\",\"green\",\"green\",\"green\",\"green\",\"green\",\"green\",\"green\",\"green\",\"green\",\"green\",\"green\",\"green\",\"green\",\"green\",\"green\",\"green\",\"green\",\"green\",\"green\",\"green\",\"green\",\"green\",\"green\"]],[\"token\",[\"<user>\",\".\",\":\",\"rt\",\",\",\"<repeat>\",\"<hashtag>\",\"<number>\",\"<url>\",\"!\",\"i\",\"a\",\"\\\"\",\"the\",\"?\",\"you\",\"to\",\"(\",\"<allcaps>\",\"<elong>\",\")\",\"me\",\"de\",\"<smile>\",\"\\uff01\",\"que\",\"and\",\"\\u3002\",\"-\",\"my\",\"no\",\"\\u3001\",\"is\",\"it\",\"\\u2026\",\"in\",\"n\",\"for\",\"/\",\"of\",\"la\",\"'s\",\"*\",\"do\",\"n't\",\"that\",\"on\",\"y\",\"'\",\"e\",\"o\",\"u\",\"en\",\"this\",\"el\",\"so\",\"be\",\"'m\",\"with\",\"just\",\">\",\"your\",\"^\",\"like\",\"have\",\"te\",\"at\",\"\\uff1f\",\"love\",\"se\",\"are\",\"<\",\"m\",\"r\",\"if\",\"all\",\"b\",\"\\u30fb\",\"not\",\"but\",\"we\",\"es\",\"ya\",\"&\",\"follow\",\"up\",\"what\",\"get\",\"lol\",\"un\",\"\\u2665\",\"lo\",\"when\",\"was\",\"\\u201c\",\"\\u201d\",\"one\",\"por\",\"si\",\"out\",\"_\",\"mi\",\"can\",\"<sadface>\",\"\\u0645\\u0646\",\"\\u2661\",\"\\u00b4\",\"he\",\"con\",\"they\",\"now\",\"go\",\"\\u060c\",\"para\",\"los\",\"know\",\"haha\",\"good\",\"tu\",\"back\",\"~\",\"about\",\"new\",\";\",\"as\",\"day\",\"how\",\"who\",\"will\",\"want\",\"people\",\"yo\",\"eu\",\"from\",\"di\",\"time\",\"<heart>\",\"s\",\"aku\",\"da\",\"'re\",\"<lolface>\",\"una\",\"got\",\"las\",\"more\",\"x\",\"she\",\"today\",\"\\uff08\",\">>\",\"k\",\"by\",\"or\",\"\\u0641\\u064a\",\"\\uff65\",\"too\",\"le\",\"\\u00e9\",\"|\",\"[\",\"\\uff09\",\"]\",\"see\",\"why\",\"yg\",\"ca\",\"como\",\"her\",\"\\u2014\",\"q\",\"need\",\"an\",\"na\",\"\\u7b11\",\"there\",\"\\u03c9\",\"happy\",\"im\",\"mas\",\"je\",\"life\",\"really\",\"make\",\"yang\",\"shit\",\"think\",\"t\",\"\\u2764\",\"n\\u00e3o\",\"never\",\"some\",\"\\uff5e\",\"oh\",\"\\u2605\",\"did\",\"would\",\"del\",\"`\",\"d\",\"please\",\"via\",\"much\",\"fuck\",\"al\",\"dia\",\"$\",\"\\u0648\",\"right\",\"best\",\"c\",\"going\",\"\\u0627\\u0644\\u0644\\u0647\",\"pero\",\"only\",\"has\",\"\\u266a\",\"'ll\",\"twitter\",\"=\",\"hahaha\",\"its\",\"nn\",\"\\uff40\",\"\\u00bf\",\"am\",\"say\",\"<neutralface>\",\"them\",\"here\",\"\\u0644\\u0627\",\"off\",\"still\",\"dan\",\"+\",\"night\",\"w\",\"ada\",\"someone\",\"even\",\"then\",\"\\u2606\",\"ni\",\"come\",\"com\",\"always\",\"man\",\"'ve\",\"been\",\"his\",\"itu\",\"\\u0639\\u0644\\u0649\",\"-_-\",\"\\u263a\",\"over\",\"um\",\"\\u0645\\u0627\",\"hate\",\"girl\",\"ai\",\"had\",\"pra\",\"todo\",\"mais\",\"feel\",\"let\",\"ini\",\"because\",\"\\uff9f\",\"thanks\",\"ah\",\"way\",\"ever\",\"look\",\"tweet\",\"followers\",\"should\",\"our\",\"xd\",\"aja\",\"esta\",\"school\",\"him\",\"ser\",\"take\",\"than\",\"video\",\"em\",\"last\",\"wanna\",\"does\",\"us\",\"miss\",\"l\",\"ga\",\"better\",\"well\",\"could\",\"\\u25bd\",\"%\",\"apa\",\"cuando\",\"team\",\"\\u2714\",\"@\",\"ok\",\"\\u061f\",\"\\u2022\",\"vida\",\"quiero\",\"les\",\"being\",\"real\",\"down\",\"kamu\",\"everyone\",\"gonna\",\"live\",\"tonight\",\"yes\",\"work\",\"ass\",\"retweet\",\"nada\",\"sama\",\"first\",\"<<\",\"photo\",\"tomorrow\",\"where\",\"god\",\"son\",\"ke\",\"ta\",\"f\",\"home\",\"lagi\",\"thank\",\"birthday\",\"\\u2588\",\"ha\",\"great\",\"lmao\",\"omg\",\"morning\",\"m\\u00e1s\",\"mau\",\"baby\",\"dont\",\"\\uff61\",\"their\",\"p\",\"things\",\"game\",\"pas\",\"bad\",\"year\",\"yeah\",\"su\",\"bitch\",\"\\u0432\",\"stop\",\"hoy\",\"something\",\"meu\",\"tak\",\"gak\",\"world\",\"amor\",\"h\",\"\\\\\",\"ver\",\"\\uff1b\",\"porque\",\"give\",\"these\",\"\\u0627\\u0644\\u0644\\u0647\\u0645\",\"were\",\"hay\",\"sleep\",\"gue\",\"every\",\"friends\",\"uma\",\"tell\",\"amo\",\"vou\",\"bien\",\"\\u00a1\",\"again\",\"\\uff3e\",\"\\uff0f\",\"done\",\"after\",\"todos\",\"girls\",\"guys\",\"getting\",\"big\",\"wait\",\"justin\",\"eh\",\"\\u2192\",\"kan\",\"kita\",\"jajaja\",\"wish\",\"said\",\"fucking\",\"show\",\"thing\",\"next\",\"voc\\u00ea\",\"nos\",\"little\",\"tengo\",\"keep\",\"person\",\"''\",\"\\u2200\",\"hope\",\"\\u0643\\u0644\",\"hey\",\"bisa\",\"free\",\"made\",\"foto\",\"va\",\"everything\",\"iya\",\"nigga\",\"eso\",\"et\",\"watch\",\"music\",\"week\",\"talk\",\"ne\",\"solo\",\"gente\",\"udah\",\"\\uff1a\",\"--\",\"\\uff3c\",\"mejor\",\"facebook\",\"ma\",\"v\",\"phone\",\"most\",\"same\",\"okay\",\"ik\",\"before\",\"minha\",\"days\",\"g\",\"ti\",\"damn\",\"nice\",\"voy\",\"vai\",\"call\",\"long\",\"tapi\",\"http\",\"sin\",\"nunca\",\"doing\",\"other\",\"find\",\"il\",\"sa\",\"sorry\",\"nya\",\"orang\",\"\\u00b0\",\"hard\",\"mean\",\"die\",\"\\u0627\\u0644\\u0644\\u064a\",\"tem\",\"soy\",\"este\",\"kalo\",\"s\\u00f3\",\"th\",\"win\",\"nothing\",\"into\",\"face\",\"cute\",\"'d\",\"gracias\",\"lah\",\"\\u0438\",\"any\",\"play\",\"\\u2190\",\"ko\",\"text\",\"\\u2323\",\"estoy\",\"tau\",\"ur\",\"buat\",\"#\",\"cause\",\"\\u044f\",\"put\",\"kau\",\"siempre\",\"juga\",\"casa\",\"\\u0623\\u0646\",\"help\",\"start\",\"feliz\",\"old\",\"ir\",\"very\",\"care\",\"bir\",\"makes\",\"song\",\"check\",\"watching\",\"ahora\",\"jadi\",\"os\",\"may\",\"friend\",\"beautiful\",\"heart\",\"ka\",\"vc\",\"mundo\",\"\\u043d\\u0430\",\"sure\",\"tan\",\"pretty\",\"aqui\",\"\\u043d\\u0435\",\"house\",\"\\u0631\\u062a\\u0648\\u064a\\u062a\",\"\\u064a\\u0627\",\"ja\",\"true\",\"muy\",\"away\",\"already\",\"actually\",\"believe\",\"try\",\"many\",\"ma\\u00f1ana\",\"mis\",\"lu\",\"those\",\"hot\",\"qu\\u00e9\",\"mal\",\"\\u0639\\u0646\",\"though\",\"ask\",\"amazing\",\"bed\",\"}\",\"two\",\"mom\",\"d\\u00eda\",\"ve\",\"dari\",\"gameinsight\",\"stay\",\"fun\",\"around\",\"van\",\"cont\",\"ready\",\"money\",\"bu\",\"funny\",\"cool\",\"hair\",\"\\u00e0\",\"tho\",\"{\",\"wo\",\"hi\",\"name\",\"tiene\",\"hahahaha\",\"pa\",\"algo\",\"gotta\",\"\\u0648\\u0644\\u0627\",\"boy\",\"another\",\"c'est\",\"hari\",\"jajajaja\",\"having\",\"cara\",\"jaja\",\"dm\",\"looking\",\"top\",\"android\",\"dah\",\"wow\",\"\\u2591\",\"eres\",\"ben\",\"must\",\"news\",\"met\",\"est\\u00e1\",\"nih\",\"family\",\"black\",\"thought\",\"nak\",\"super\",\"end\",\"hace\",\"remember\",\"ama\",\"party\",\"cant\",\"vamos\",\"anything\",\"anyone\",\"\\u0641\\u0648\\u0644\\u0648\",\"perfect\",\"guy\",\"vez\",\"christmas\",\"dos\",\"bueno\",\"nao\",\"years\",\"vote\",\"dormir\",\"bro\",\"else\",\"quien\",\"untuk\",\"jangan\",\"myself\",\"head\",\"mind\",\"gua\",\"talking\",\"while\",\"dat\",\"food\",\"\\u0434\",\"coming\",\"wkwk\",\"trying\",\"saya\",\"mucho\",\"without\",\"wrong\",\"\\u2019s\",\"baru\",\"__\",\"hehe\",\"hacer\",\"lot\",\"followed\",\"crazy\",\"hell\",\"feeling\",\"des\",\"kok\",\"j\",\"stats\",\"j'\",\"\\u0627\\u0646\",\"tweets\",\"non\",\"cosas\",\"era\",\"high\",\"niggas\",\"change\",\"movie\",\"xx\",\"mad\",\"sih\",\"sometimes\",\"deh\",\"allah\",\"through\",\"pour\",\"ela\",\"soon\",\"gone\",\"playing\",\"smile\",\"bukan\",\"tv\",\"fans\",\"hasta\",\"akan\",\"y'\",\"looks\",\"isso\",\"\\u270c\",\"tired\",\"boys\",\"might\",\"dong\",\"lg\",\"use\",\"maybe\",\"until\",\"menos\",\"own\",\"dengan\",\"eat\",\"ou\",\"weekend\",\"\\u02d8\",\"class\",\"ele\",\"harry\",\"iphone\",\"friday\",\"single\",\"ff\",\"awesome\",\"bout\",\"muito\",\"hoje\",\"\\u00ac\",\"dios\",\"such\",\"estar\",\"j\\u00e1\",\"quando\",\"esa\",\"making\",\"\\u2501\",\"times\",\"lmfao\",\"gw\",\"moment\",\"yet\",\"aw\",\"smh\",\"banget\",\"masih\",\"qui\",\"quem\",\"\\u2013\",\"leave\",\"du\",\"une\",\"guess\",\"hit\",\"\\u0441\",\"pm\",\"since\",\"pues\",\"est\",\"job\",\"\\uff89\",\"mana\",\"bom\",\"siapa\",\"suka\",\"bieber\",\"mention\",\"lebih\",\"favorite\",\"bitches\",\"forever\",\"\\u0644\\u064a\",\"final\",\"read\",\"alguien\",\"open\",\"yourself\",\"ese\",\"che\",\"sex\",\"yaa\",\"car\",\"direction\",\"tidak\",\"seu\",\"gets\",\"left\",\"re\",\"jam\",\"enough\",\"\\u0625\\u0644\\u0627\",\"once\",\"\\u2019\",\"part\",\"cada\",\"\\u5b9a\\u671f\",\"\\u0644\\u0643\",\"een\",\"seen\",\"kak\",\"as\\u00ed\",\"nem\",\"\\u0639\\u0645\\u0644\",\"white\",\"told\",\"says\",\"esto\",\"sad\",\"mo\",\"fue\",\"yah\",\"summer\",\"\\u0647\",\"\\u2b55\",\"\\u00bb\",\"thats\",\"\\u0645\\u0639\",\"posted\",\"wants\",\"agora\",\"together\",\"fan\",\"men\",\"hear\",\"full\",\"\\u2600\",\"sigo\",\"pq\",\"dulu\",\"plus\",\"foi\",\"tudo\",\"\\u0647\\u0648\",\"ill\",\"\\u3042\",\"thinking\",\"wtf\",\"pagi\",\"mama\",\"kalau\",\"hati\",\"sexy\",\"sayang\",\"baik\",\"semua\",\"hola\",\"went\",\"vos\",\"tanto\",\"finally\",\"fb\",\"sea\",\"stupid\",\"tus\",\"seriously\",\"hora\",\"min\",\"pic\",\"estas\",\"turn\",\"hours\",\"excited\",\"nah\",\"buy\",\"saying\",\"mah\",\"break\",\"needs\",\"ce\",\"room\",\"choice\",\"far\",\"dead\",\"quero\",\"saw\",\"kids\",\"lil\",\"whole\",\"puede\",\"fall\",\"sus\",\"lost\",\"asi\",\"word\",\"\\u2639\",\"also\",\"\\u0631\\u064a\\u062a\\u0648\\u064a\\u062a\",\"probably\",\"everybody\",\"tarde\",\"run\",\"sei\",\"follback\",\"forget\",\"sweet\",\"welcome\",\"selamat\",\"\\uff3f\",\"sur\",\"place\",\"gusta\",\"sabe\",\"androidgames\",\"tp\",\"tiempo\",\"\\u0628\\u0633\",\"sou\",\"tuh\",\"vs\",\"eyes\",\"\\u0627\\u0646\\u0627\",\"picture\",\"das\",\"meet\",\"anak\",\"persona\",\"essa\",\"bored\",\"following\",\"nadie\",\"nobody\",\"dice\",\"alone\",\"sick\",\"red\",\"city\",\"cinta\",\"\\u6708\",\"linda\",\"dream\",\"story\",\"km\",\"het\",\"waiting\",\"^_^\",\"mine\",\"\\u0447\\u0442\\u043e\",\"reason\",\"kk\",\"\\u0644\\u0648\",\"online\",\"fast\",\"udh\",\"wanted\",\"op\",\"others\",\"gay\",\"n\\u2019t\",\"used\",\"sem\",\"understand\",\"moi\",\"sm\",\"aint\",\"donde\",\"bem\",\"which\",\"ng\",\"followback\",\"punya\",\"late\",\"anda\",\"tidur\",\"puedo\",\"early\",\"nd\",\"personas\",\"banyak\",\"\\u2705\",\"\\u278a\",\"trust\",\"noche\",\"tl\",\"\\uff1e\",\"\\u00ab\",\"af\",\"move\",\"pro\",\"bring\",\"ku\",\"called\",\"relationship\",\"idk\",\"hurt\",\"st\",\"pernah\",\"pessoas\",\"hello\",\"uno\",\"unfollowers\",\"cry\"]]]}}},\"view\":{\"type\":\"object\",\"name\":\"CDSView\",\"id\":\"p1098\",\"attributes\":{\"filter\":{\"type\":\"object\",\"name\":\"AllIndices\",\"id\":\"p1099\"}}},\"glyph\":{\"type\":\"object\",\"name\":\"Scatter\",\"id\":\"p1094\",\"attributes\":{\"x\":{\"type\":\"field\",\"field\":\"x\"},\"y\":{\"type\":\"field\",\"field\":\"y\"},\"size\":{\"type\":\"value\",\"value\":10},\"line_color\":{\"type\":\"field\",\"field\":\"color\"},\"line_alpha\":{\"type\":\"value\",\"value\":0.25},\"fill_color\":{\"type\":\"field\",\"field\":\"color\"},\"fill_alpha\":{\"type\":\"value\",\"value\":0.25},\"hatch_color\":{\"type\":\"field\",\"field\":\"color\"},\"hatch_alpha\":{\"type\":\"value\",\"value\":0.25}}},\"nonselection_glyph\":{\"type\":\"object\",\"name\":\"Scatter\",\"id\":\"p1095\",\"attributes\":{\"x\":{\"type\":\"field\",\"field\":\"x\"},\"y\":{\"type\":\"field\",\"field\":\"y\"},\"size\":{\"type\":\"value\",\"value\":10},\"line_color\":{\"type\":\"field\",\"field\":\"color\"},\"line_alpha\":{\"type\":\"value\",\"value\":0.1},\"fill_color\":{\"type\":\"field\",\"field\":\"color\"},\"fill_alpha\":{\"type\":\"value\",\"value\":0.1},\"hatch_color\":{\"type\":\"field\",\"field\":\"color\"},\"hatch_alpha\":{\"type\":\"value\",\"value\":0.1}}},\"muted_glyph\":{\"type\":\"object\",\"name\":\"Scatter\",\"id\":\"p1096\",\"attributes\":{\"x\":{\"type\":\"field\",\"field\":\"x\"},\"y\":{\"type\":\"field\",\"field\":\"y\"},\"size\":{\"type\":\"value\",\"value\":10},\"line_color\":{\"type\":\"field\",\"field\":\"color\"},\"line_alpha\":{\"type\":\"value\",\"value\":0.2},\"fill_color\":{\"type\":\"field\",\"field\":\"color\"},\"fill_alpha\":{\"type\":\"value\",\"value\":0.2},\"hatch_color\":{\"type\":\"field\",\"field\":\"color\"},\"hatch_alpha\":{\"type\":\"value\",\"value\":0.2}}}}}],\"toolbar\":{\"type\":\"object\",\"name\":\"Toolbar\",\"id\":\"p1065\",\"attributes\":{\"tools\":[{\"type\":\"object\",\"name\":\"PanTool\",\"id\":\"p1078\"},{\"type\":\"object\",\"name\":\"WheelZoomTool\",\"id\":\"p1079\",\"attributes\":{\"renderers\":\"auto\"}},{\"type\":\"object\",\"name\":\"BoxZoomTool\",\"id\":\"p1080\",\"attributes\":{\"dimensions\":\"both\",\"overlay\":{\"type\":\"object\",\"name\":\"BoxAnnotation\",\"id\":\"p1081\",\"attributes\":{\"syncable\":false,\"line_color\":\"black\",\"line_alpha\":1.0,\"line_width\":2,\"line_dash\":[4,4],\"fill_color\":\"lightgrey\",\"fill_alpha\":0.5,\"level\":\"overlay\",\"visible\":false,\"left\":{\"type\":\"number\",\"value\":\"nan\"},\"right\":{\"type\":\"number\",\"value\":\"nan\"},\"top\":{\"type\":\"number\",\"value\":\"nan\"},\"bottom\":{\"type\":\"number\",\"value\":\"nan\"},\"left_units\":\"canvas\",\"right_units\":\"canvas\",\"top_units\":\"canvas\",\"bottom_units\":\"canvas\",\"handles\":{\"type\":\"object\",\"name\":\"BoxInteractionHandles\",\"id\":\"p1087\",\"attributes\":{\"all\":{\"type\":\"object\",\"name\":\"AreaVisuals\",\"id\":\"p1086\",\"attributes\":{\"fill_color\":\"white\",\"hover_fill_color\":\"lightgray\"}}}}}}}},{\"type\":\"object\",\"name\":\"SaveTool\",\"id\":\"p1088\"},{\"type\":\"object\",\"name\":\"ResetTool\",\"id\":\"p1089\"},{\"type\":\"object\",\"name\":\"HelpTool\",\"id\":\"p1090\"},{\"type\":\"object\",\"name\":\"HoverTool\",\"id\":\"p1100\",\"attributes\":{\"renderers\":\"auto\",\"tooltips\":[[\"token\",\"@token\"]]}}],\"active_scroll\":{\"id\":\"p1079\"}}},\"left\":[{\"type\":\"object\",\"name\":\"LinearAxis\",\"id\":\"p1073\",\"attributes\":{\"ticker\":{\"type\":\"object\",\"name\":\"BasicTicker\",\"id\":\"p1074\",\"attributes\":{\"mantissas\":[1,2,5]}},\"formatter\":{\"type\":\"object\",\"name\":\"BasicTickFormatter\",\"id\":\"p1075\"},\"major_label_policy\":{\"type\":\"object\",\"name\":\"AllLabels\",\"id\":\"p1076\"}}}],\"below\":[{\"type\":\"object\",\"name\":\"LinearAxis\",\"id\":\"p1068\",\"attributes\":{\"ticker\":{\"type\":\"object\",\"name\":\"BasicTicker\",\"id\":\"p1069\",\"attributes\":{\"mantissas\":[1,2,5]}},\"formatter\":{\"type\":\"object\",\"name\":\"BasicTickFormatter\",\"id\":\"p1070\"},\"major_label_policy\":{\"type\":\"object\",\"name\":\"AllLabels\",\"id\":\"p1071\"}}}],\"center\":[{\"type\":\"object\",\"name\":\"Grid\",\"id\":\"p1072\",\"attributes\":{\"axis\":{\"id\":\"p1068\"}}},{\"type\":\"object\",\"name\":\"Grid\",\"id\":\"p1077\",\"attributes\":{\"dimension\":1,\"axis\":{\"id\":\"p1073\"}}}]}}]}};\n",
              "  const render_items = [{\"docid\":\"296f823a-1cd6-4a16-8f18-4e7c2b59ba63\",\"roots\":{\"p1057\":\"d94b0e09-8a81-4331-b1eb-08ab0424c8c1\"},\"root_ids\":[\"p1057\"]}];\n",
              "  void root.Bokeh.embed.embed_items_notebook(docs_json, render_items);\n",
              "  }\n",
              "  if (root.Bokeh !== undefined) {\n",
              "    embed_document(root);\n",
              "  } else {\n",
              "    let attempts = 0;\n",
              "    const timer = setInterval(function(root) {\n",
              "      if (root.Bokeh !== undefined) {\n",
              "        clearInterval(timer);\n",
              "        embed_document(root);\n",
              "      } else {\n",
              "        attempts++;\n",
              "        if (attempts > 100) {\n",
              "          clearInterval(timer);\n",
              "          console.log(\"Bokeh: ERROR: Unable to run BokehJS code because BokehJS library is missing\");\n",
              "        }\n",
              "      }\n",
              "    }, 10, root)\n",
              "  }\n",
              "})(window);"
            ],
            "application/vnd.bokehjs_exec.v0+json": ""
          },
          "metadata": {
            "application/vnd.bokehjs_exec.v0+json": {
              "id": "p1057"
            }
          }
        },
        {
          "output_type": "execute_result",
          "data": {
            "text/plain": [
              "figure(id='p1057', ...)"
            ],
            "text/html": [
              "<div style=\"display: table;\"><div style=\"display: table-row;\"><div style=\"display: table-cell;\"><b title=\"bokeh.plotting._figure.figure\">figure</b>(</div><div style=\"display: table-cell;\">id&nbsp;=&nbsp;'p1057', <span id=\"p1104\" style=\"cursor: pointer;\">&hellip;)</span></div></div><div class=\"p1103\" style=\"display: none;\"><div style=\"display: table-cell;\"></div><div style=\"display: table-cell;\">above&nbsp;=&nbsp;[],</div></div><div class=\"p1103\" style=\"display: none;\"><div style=\"display: table-cell;\"></div><div style=\"display: table-cell;\">align&nbsp;=&nbsp;'auto',</div></div><div class=\"p1103\" style=\"display: none;\"><div style=\"display: table-cell;\"></div><div style=\"display: table-cell;\">aspect_ratio&nbsp;=&nbsp;None,</div></div><div class=\"p1103\" style=\"display: none;\"><div style=\"display: table-cell;\"></div><div style=\"display: table-cell;\">aspect_scale&nbsp;=&nbsp;1,</div></div><div class=\"p1103\" style=\"display: none;\"><div style=\"display: table-cell;\"></div><div style=\"display: table-cell;\">attribution&nbsp;=&nbsp;[],</div></div><div class=\"p1103\" style=\"display: none;\"><div style=\"display: table-cell;\"></div><div style=\"display: table-cell;\">background_fill_alpha&nbsp;=&nbsp;1.0,</div></div><div class=\"p1103\" style=\"display: none;\"><div style=\"display: table-cell;\"></div><div style=\"display: table-cell;\">background_fill_color&nbsp;=&nbsp;'#ffffff',</div></div><div class=\"p1103\" style=\"display: none;\"><div style=\"display: table-cell;\"></div><div style=\"display: table-cell;\">background_hatch_alpha&nbsp;=&nbsp;1.0,</div></div><div class=\"p1103\" style=\"display: none;\"><div style=\"display: table-cell;\"></div><div style=\"display: table-cell;\">background_hatch_color&nbsp;=&nbsp;'black',</div></div><div class=\"p1103\" style=\"display: none;\"><div style=\"display: table-cell;\"></div><div style=\"display: table-cell;\">background_hatch_extra&nbsp;=&nbsp;{},</div></div><div class=\"p1103\" style=\"display: none;\"><div style=\"display: table-cell;\"></div><div style=\"display: table-cell;\">background_hatch_pattern&nbsp;=&nbsp;None,</div></div><div class=\"p1103\" style=\"display: none;\"><div style=\"display: table-cell;\"></div><div style=\"display: table-cell;\">background_hatch_scale&nbsp;=&nbsp;12.0,</div></div><div class=\"p1103\" style=\"display: none;\"><div style=\"display: table-cell;\"></div><div style=\"display: table-cell;\">background_hatch_weight&nbsp;=&nbsp;1.0,</div></div><div class=\"p1103\" style=\"display: none;\"><div style=\"display: table-cell;\"></div><div style=\"display: table-cell;\">below&nbsp;=&nbsp;[LinearAxis(id='p1068', ...)],</div></div><div class=\"p1103\" style=\"display: none;\"><div style=\"display: table-cell;\"></div><div style=\"display: table-cell;\">border_fill_alpha&nbsp;=&nbsp;1.0,</div></div><div class=\"p1103\" style=\"display: none;\"><div style=\"display: table-cell;\"></div><div style=\"display: table-cell;\">border_fill_color&nbsp;=&nbsp;'#ffffff',</div></div><div class=\"p1103\" style=\"display: none;\"><div style=\"display: table-cell;\"></div><div style=\"display: table-cell;\">border_hatch_alpha&nbsp;=&nbsp;1.0,</div></div><div class=\"p1103\" style=\"display: none;\"><div style=\"display: table-cell;\"></div><div style=\"display: table-cell;\">border_hatch_color&nbsp;=&nbsp;'black',</div></div><div class=\"p1103\" style=\"display: none;\"><div style=\"display: table-cell;\"></div><div style=\"display: table-cell;\">border_hatch_extra&nbsp;=&nbsp;{},</div></div><div class=\"p1103\" style=\"display: none;\"><div style=\"display: table-cell;\"></div><div style=\"display: table-cell;\">border_hatch_pattern&nbsp;=&nbsp;None,</div></div><div class=\"p1103\" style=\"display: none;\"><div style=\"display: table-cell;\"></div><div style=\"display: table-cell;\">border_hatch_scale&nbsp;=&nbsp;12.0,</div></div><div class=\"p1103\" style=\"display: none;\"><div style=\"display: table-cell;\"></div><div style=\"display: table-cell;\">border_hatch_weight&nbsp;=&nbsp;1.0,</div></div><div class=\"p1103\" style=\"display: none;\"><div style=\"display: table-cell;\"></div><div style=\"display: table-cell;\">center&nbsp;=&nbsp;[Grid(id='p1072', ...), Grid(id='p1077', ...)],</div></div><div class=\"p1103\" style=\"display: none;\"><div style=\"display: table-cell;\"></div><div style=\"display: table-cell;\">context_menu&nbsp;=&nbsp;'auto',</div></div><div class=\"p1103\" style=\"display: none;\"><div style=\"display: table-cell;\"></div><div style=\"display: table-cell;\">css_classes&nbsp;=&nbsp;[],</div></div><div class=\"p1103\" style=\"display: none;\"><div style=\"display: table-cell;\"></div><div style=\"display: table-cell;\">css_variables&nbsp;=&nbsp;{},</div></div><div class=\"p1103\" style=\"display: none;\"><div style=\"display: table-cell;\"></div><div style=\"display: table-cell;\">disabled&nbsp;=&nbsp;False,</div></div><div class=\"p1103\" style=\"display: none;\"><div style=\"display: table-cell;\"></div><div style=\"display: table-cell;\">elements&nbsp;=&nbsp;[],</div></div><div class=\"p1103\" style=\"display: none;\"><div style=\"display: table-cell;\"></div><div style=\"display: table-cell;\">extra_x_ranges&nbsp;=&nbsp;{},</div></div><div class=\"p1103\" style=\"display: none;\"><div style=\"display: table-cell;\"></div><div style=\"display: table-cell;\">extra_x_scales&nbsp;=&nbsp;{},</div></div><div class=\"p1103\" style=\"display: none;\"><div style=\"display: table-cell;\"></div><div style=\"display: table-cell;\">extra_y_ranges&nbsp;=&nbsp;{},</div></div><div class=\"p1103\" style=\"display: none;\"><div style=\"display: table-cell;\"></div><div style=\"display: table-cell;\">extra_y_scales&nbsp;=&nbsp;{},</div></div><div class=\"p1103\" style=\"display: none;\"><div style=\"display: table-cell;\"></div><div style=\"display: table-cell;\">flow_mode&nbsp;=&nbsp;'block',</div></div><div class=\"p1103\" style=\"display: none;\"><div style=\"display: table-cell;\"></div><div style=\"display: table-cell;\">frame_align&nbsp;=&nbsp;True,</div></div><div class=\"p1103\" style=\"display: none;\"><div style=\"display: table-cell;\"></div><div style=\"display: table-cell;\">frame_height&nbsp;=&nbsp;None,</div></div><div class=\"p1103\" style=\"display: none;\"><div style=\"display: table-cell;\"></div><div style=\"display: table-cell;\">frame_width&nbsp;=&nbsp;None,</div></div><div class=\"p1103\" style=\"display: none;\"><div style=\"display: table-cell;\"></div><div style=\"display: table-cell;\">height&nbsp;=&nbsp;400,</div></div><div class=\"p1103\" style=\"display: none;\"><div style=\"display: table-cell;\"></div><div style=\"display: table-cell;\">height_policy&nbsp;=&nbsp;'auto',</div></div><div class=\"p1103\" style=\"display: none;\"><div style=\"display: table-cell;\"></div><div style=\"display: table-cell;\">hidpi&nbsp;=&nbsp;True,</div></div><div class=\"p1103\" style=\"display: none;\"><div style=\"display: table-cell;\"></div><div style=\"display: table-cell;\">hold_render&nbsp;=&nbsp;False,</div></div><div class=\"p1103\" style=\"display: none;\"><div style=\"display: table-cell;\"></div><div style=\"display: table-cell;\">html_attributes&nbsp;=&nbsp;{},</div></div><div class=\"p1103\" style=\"display: none;\"><div style=\"display: table-cell;\"></div><div style=\"display: table-cell;\">html_id&nbsp;=&nbsp;None,</div></div><div class=\"p1103\" style=\"display: none;\"><div style=\"display: table-cell;\"></div><div style=\"display: table-cell;\">js_event_callbacks&nbsp;=&nbsp;{},</div></div><div class=\"p1103\" style=\"display: none;\"><div style=\"display: table-cell;\"></div><div style=\"display: table-cell;\">js_property_callbacks&nbsp;=&nbsp;{},</div></div><div class=\"p1103\" style=\"display: none;\"><div style=\"display: table-cell;\"></div><div style=\"display: table-cell;\">left&nbsp;=&nbsp;[LinearAxis(id='p1073', ...)],</div></div><div class=\"p1103\" style=\"display: none;\"><div style=\"display: table-cell;\"></div><div style=\"display: table-cell;\">lod_factor&nbsp;=&nbsp;10,</div></div><div class=\"p1103\" style=\"display: none;\"><div style=\"display: table-cell;\"></div><div style=\"display: table-cell;\">lod_interval&nbsp;=&nbsp;300,</div></div><div class=\"p1103\" style=\"display: none;\"><div style=\"display: table-cell;\"></div><div style=\"display: table-cell;\">lod_threshold&nbsp;=&nbsp;2000,</div></div><div class=\"p1103\" style=\"display: none;\"><div style=\"display: table-cell;\"></div><div style=\"display: table-cell;\">lod_timeout&nbsp;=&nbsp;500,</div></div><div class=\"p1103\" style=\"display: none;\"><div style=\"display: table-cell;\"></div><div style=\"display: table-cell;\">margin&nbsp;=&nbsp;None,</div></div><div class=\"p1103\" style=\"display: none;\"><div style=\"display: table-cell;\"></div><div style=\"display: table-cell;\">match_aspect&nbsp;=&nbsp;False,</div></div><div class=\"p1103\" style=\"display: none;\"><div style=\"display: table-cell;\"></div><div style=\"display: table-cell;\">max_height&nbsp;=&nbsp;None,</div></div><div class=\"p1103\" style=\"display: none;\"><div style=\"display: table-cell;\"></div><div style=\"display: table-cell;\">max_width&nbsp;=&nbsp;None,</div></div><div class=\"p1103\" style=\"display: none;\"><div style=\"display: table-cell;\"></div><div style=\"display: table-cell;\">min_border&nbsp;=&nbsp;5,</div></div><div class=\"p1103\" style=\"display: none;\"><div style=\"display: table-cell;\"></div><div style=\"display: table-cell;\">min_border_bottom&nbsp;=&nbsp;None,</div></div><div class=\"p1103\" style=\"display: none;\"><div style=\"display: table-cell;\"></div><div style=\"display: table-cell;\">min_border_left&nbsp;=&nbsp;None,</div></div><div class=\"p1103\" style=\"display: none;\"><div style=\"display: table-cell;\"></div><div style=\"display: table-cell;\">min_border_right&nbsp;=&nbsp;None,</div></div><div class=\"p1103\" style=\"display: none;\"><div style=\"display: table-cell;\"></div><div style=\"display: table-cell;\">min_border_top&nbsp;=&nbsp;None,</div></div><div class=\"p1103\" style=\"display: none;\"><div style=\"display: table-cell;\"></div><div style=\"display: table-cell;\">min_height&nbsp;=&nbsp;None,</div></div><div class=\"p1103\" style=\"display: none;\"><div style=\"display: table-cell;\"></div><div style=\"display: table-cell;\">min_width&nbsp;=&nbsp;None,</div></div><div class=\"p1103\" style=\"display: none;\"><div style=\"display: table-cell;\"></div><div style=\"display: table-cell;\">name&nbsp;=&nbsp;None,</div></div><div class=\"p1103\" style=\"display: none;\"><div style=\"display: table-cell;\"></div><div style=\"display: table-cell;\">outline_line_alpha&nbsp;=&nbsp;1.0,</div></div><div class=\"p1103\" style=\"display: none;\"><div style=\"display: table-cell;\"></div><div style=\"display: table-cell;\">outline_line_cap&nbsp;=&nbsp;'butt',</div></div><div class=\"p1103\" style=\"display: none;\"><div style=\"display: table-cell;\"></div><div style=\"display: table-cell;\">outline_line_color&nbsp;=&nbsp;'#e5e5e5',</div></div><div class=\"p1103\" style=\"display: none;\"><div style=\"display: table-cell;\"></div><div style=\"display: table-cell;\">outline_line_dash&nbsp;=&nbsp;[],</div></div><div class=\"p1103\" style=\"display: none;\"><div style=\"display: table-cell;\"></div><div style=\"display: table-cell;\">outline_line_dash_offset&nbsp;=&nbsp;0,</div></div><div class=\"p1103\" style=\"display: none;\"><div style=\"display: table-cell;\"></div><div style=\"display: table-cell;\">outline_line_join&nbsp;=&nbsp;'bevel',</div></div><div class=\"p1103\" style=\"display: none;\"><div style=\"display: table-cell;\"></div><div style=\"display: table-cell;\">outline_line_width&nbsp;=&nbsp;1,</div></div><div class=\"p1103\" style=\"display: none;\"><div style=\"display: table-cell;\"></div><div style=\"display: table-cell;\">output_backend&nbsp;=&nbsp;'canvas',</div></div><div class=\"p1103\" style=\"display: none;\"><div style=\"display: table-cell;\"></div><div style=\"display: table-cell;\">renderers&nbsp;=&nbsp;[GlyphRenderer(id='p1097', ...)],</div></div><div class=\"p1103\" style=\"display: none;\"><div style=\"display: table-cell;\"></div><div style=\"display: table-cell;\">reset_policy&nbsp;=&nbsp;'standard',</div></div><div class=\"p1103\" style=\"display: none;\"><div style=\"display: table-cell;\"></div><div style=\"display: table-cell;\">resizable&nbsp;=&nbsp;False,</div></div><div class=\"p1103\" style=\"display: none;\"><div style=\"display: table-cell;\"></div><div style=\"display: table-cell;\">right&nbsp;=&nbsp;[],</div></div><div class=\"p1103\" style=\"display: none;\"><div style=\"display: table-cell;\"></div><div style=\"display: table-cell;\">sizing_mode&nbsp;=&nbsp;None,</div></div><div class=\"p1103\" style=\"display: none;\"><div style=\"display: table-cell;\"></div><div style=\"display: table-cell;\">styles&nbsp;=&nbsp;{},</div></div><div class=\"p1103\" style=\"display: none;\"><div style=\"display: table-cell;\"></div><div style=\"display: table-cell;\">stylesheets&nbsp;=&nbsp;[],</div></div><div class=\"p1103\" style=\"display: none;\"><div style=\"display: table-cell;\"></div><div style=\"display: table-cell;\">subscribed_events&nbsp;=&nbsp;PropertyValueSet(),</div></div><div class=\"p1103\" style=\"display: none;\"><div style=\"display: table-cell;\"></div><div style=\"display: table-cell;\">syncable&nbsp;=&nbsp;True,</div></div><div class=\"p1103\" style=\"display: none;\"><div style=\"display: table-cell;\"></div><div style=\"display: table-cell;\">tags&nbsp;=&nbsp;[],</div></div><div class=\"p1103\" style=\"display: none;\"><div style=\"display: table-cell;\"></div><div style=\"display: table-cell;\">title&nbsp;=&nbsp;Title(id='p1064', ...),</div></div><div class=\"p1103\" style=\"display: none;\"><div style=\"display: table-cell;\"></div><div style=\"display: table-cell;\">title_location&nbsp;=&nbsp;'above',</div></div><div class=\"p1103\" style=\"display: none;\"><div style=\"display: table-cell;\"></div><div style=\"display: table-cell;\">toolbar&nbsp;=&nbsp;Toolbar(id='p1065', ...),</div></div><div class=\"p1103\" style=\"display: none;\"><div style=\"display: table-cell;\"></div><div style=\"display: table-cell;\">toolbar_inner&nbsp;=&nbsp;False,</div></div><div class=\"p1103\" style=\"display: none;\"><div style=\"display: table-cell;\"></div><div style=\"display: table-cell;\">toolbar_location&nbsp;=&nbsp;'right',</div></div><div class=\"p1103\" style=\"display: none;\"><div style=\"display: table-cell;\"></div><div style=\"display: table-cell;\">toolbar_sticky&nbsp;=&nbsp;True,</div></div><div class=\"p1103\" style=\"display: none;\"><div style=\"display: table-cell;\"></div><div style=\"display: table-cell;\">visible&nbsp;=&nbsp;True,</div></div><div class=\"p1103\" style=\"display: none;\"><div style=\"display: table-cell;\"></div><div style=\"display: table-cell;\">width&nbsp;=&nbsp;600,</div></div><div class=\"p1103\" style=\"display: none;\"><div style=\"display: table-cell;\"></div><div style=\"display: table-cell;\">width_policy&nbsp;=&nbsp;'auto',</div></div><div class=\"p1103\" style=\"display: none;\"><div style=\"display: table-cell;\"></div><div style=\"display: table-cell;\">window_axis&nbsp;=&nbsp;'none',</div></div><div class=\"p1103\" style=\"display: none;\"><div style=\"display: table-cell;\"></div><div style=\"display: table-cell;\">x_range&nbsp;=&nbsp;DataRange1d(id='p1058', ...),</div></div><div class=\"p1103\" style=\"display: none;\"><div style=\"display: table-cell;\"></div><div style=\"display: table-cell;\">x_scale&nbsp;=&nbsp;LinearScale(id='p1066', ...),</div></div><div class=\"p1103\" style=\"display: none;\"><div style=\"display: table-cell;\"></div><div style=\"display: table-cell;\">y_range&nbsp;=&nbsp;DataRange1d(id='p1059', ...),</div></div><div class=\"p1103\" style=\"display: none;\"><div style=\"display: table-cell;\"></div><div style=\"display: table-cell;\">y_scale&nbsp;=&nbsp;LinearScale(id='p1067', ...))</div></div></div>\n",
              "<script>\n",
              "(function() {\n",
              "  let expanded = false;\n",
              "  const ellipsis = document.getElementById(\"p1104\");\n",
              "  ellipsis.addEventListener(\"click\", function() {\n",
              "    const rows = document.getElementsByClassName(\"p1103\");\n",
              "    for (let i = 0; i < rows.length; i++) {\n",
              "      const el = rows[i];\n",
              "      el.style.display = expanded ? \"none\" : \"table-row\";\n",
              "    }\n",
              "    ellipsis.innerHTML = expanded ? \"&hellip;)\" : \"&lsaquo;&lsaquo;&lsaquo;\";\n",
              "    expanded = !expanded;\n",
              "  });\n",
              "})();\n",
              "</script>\n"
            ]
          },
          "metadata": {},
          "execution_count": 22
        }
      ],
      "source": [
        "draw_vectors(word_tsne[:, 0], word_tsne[:, 1], color='green', token=words)"
      ]
    },
    {
      "cell_type": "markdown",
      "metadata": {
        "id": "disDctciMgZh"
      },
      "source": [
        "### Visualizing phrases\n",
        "\n",
        "Word embeddings can also be used to represent short phrases. The simplest way is to take __an average__ of vectors for all tokens in the phrase with some weights.\n",
        "\n",
        "This trick is useful to identify what data are you working with: find if there are any outliers, clusters or other artifacts.\n",
        "\n",
        "Let's try this new hammer on our data!\n"
      ]
    },
    {
      "cell_type": "code",
      "execution_count": 23,
      "metadata": {
        "id": "G5TJAMOXMgZh"
      },
      "outputs": [],
      "source": [
        "def get_phrase_embedding(phrase):\n",
        "    \"\"\"\n",
        "    Convert phrase to a vector by aggregating it's word embeddings. See description above.\n",
        "    \"\"\"\n",
        "    # 1. lowercase phrase\n",
        "    # 2. tokenize phrase\n",
        "    # 3. average word vectors for all words in tokenized phrase\n",
        "    # skip words that are not in model's vocabulary\n",
        "    # if all words are missing from vocabulary, return zeros\n",
        "\n",
        "    tokens = tokenizer.tokenize(phrase.lower())\n",
        "    vectors = np.array([model.get_vector(token) for token in tokens if model.has_index_for(token)])\n",
        "    if len(vectors) > 0:\n",
        "      return vectors.mean(axis=0)\n",
        "\n",
        "    return np.zeros([model.vector_size], dtype='float32')\n",
        ""
      ]
    },
    {
      "cell_type": "code",
      "execution_count": 24,
      "metadata": {
        "id": "WUI_xm7nMgZh"
      },
      "outputs": [],
      "source": [
        "vector = get_phrase_embedding(\"I'm very sure. This never happened to me before...\")\n",
        "\n",
        "assert np.allclose(vector[::10],\n",
        "                   np.array([ 0.31807372, -0.02558171,  0.0933293 , -0.1002182 , -1.0278689 ,\n",
        "                             -0.16621883,  0.05083408,  0.17989802,  1.3701859 ,  0.08655966],\n",
        "                              dtype=np.float32))\n",
        "assert np.array_equal(get_phrase_embedding(\"thisisgibberish\"), np.zeros([model.vector_size], dtype='float32')), \"corner case for all missing words should be handled as described in the function comments\""
      ]
    },
    {
      "cell_type": "code",
      "execution_count": 25,
      "metadata": {
        "id": "TBNLY6h5MgZh"
      },
      "outputs": [],
      "source": [
        "# let's only consider ~5k phrases for a first run.\n",
        "chosen_phrases = data[::len(data) // 1000]\n",
        "\n",
        "# compute vectors for chosen phrases\n",
        "phrase_vectors = np.array([get_phrase_embedding(phrase) for phrase in chosen_phrases])  # YOUR CODE"
      ]
    },
    {
      "cell_type": "code",
      "execution_count": 26,
      "metadata": {
        "id": "3TGfZhXbMgZh"
      },
      "outputs": [],
      "source": [
        "assert isinstance(phrase_vectors, np.ndarray) and np.isfinite(phrase_vectors).all()\n",
        "assert phrase_vectors.shape == (len(chosen_phrases), model.vector_size)"
      ]
    },
    {
      "cell_type": "code",
      "execution_count": 27,
      "metadata": {
        "id": "XhKn5b8AMgZh"
      },
      "outputs": [],
      "source": [
        "# map vectors into 2d space with pca, tsne or your other method of choice\n",
        "# don't forget to normalize\n",
        "\n",
        "phrase_vectors_2d = TSNE().fit_transform(phrase_vectors)\n",
        "\n",
        "phrase_vectors_2d = (phrase_vectors_2d - phrase_vectors_2d.mean(axis=0)) / phrase_vectors_2d.std(axis=0)"
      ]
    },
    {
      "cell_type": "code",
      "execution_count": 28,
      "metadata": {
        "colab": {
          "base_uri": "https://localhost:8080/",
          "height": 434
        },
        "id": "kyikRGzhMgZh",
        "outputId": "6780731b-c454-4121-91e2-bd915428d05b"
      },
      "outputs": [
        {
          "output_type": "display_data",
          "data": {
            "application/javascript": [
              "'use strict';\n",
              "(function(root) {\n",
              "  function now() {\n",
              "    return new Date();\n",
              "  }\n",
              "\n",
              "  const force = true;\n",
              "\n",
              "  if (typeof root._bokeh_onload_callbacks === \"undefined\" || force === true) {\n",
              "    root._bokeh_onload_callbacks = [];\n",
              "    root._bokeh_is_loading = undefined;\n",
              "  }\n",
              "\n",
              "const JS_MIME_TYPE = 'application/javascript';\n",
              "  const HTML_MIME_TYPE = 'text/html';\n",
              "  const EXEC_MIME_TYPE = 'application/vnd.bokehjs_exec.v0+json';\n",
              "  const CLASS_NAME = 'output_bokeh rendered_html';\n",
              "\n",
              "  /**\n",
              "   * Render data to the DOM node\n",
              "   */\n",
              "  function render(props, node) {\n",
              "    const script = document.createElement(\"script\");\n",
              "    node.appendChild(script);\n",
              "  }\n",
              "\n",
              "  /**\n",
              "   * Handle when an output is cleared or removed\n",
              "   */\n",
              "  function handleClearOutput(event, handle) {\n",
              "    function drop(id) {\n",
              "      const view = Bokeh.index.get_by_id(id)\n",
              "      if (view != null) {\n",
              "        view.model.document.clear()\n",
              "        Bokeh.index.delete(view)\n",
              "      }\n",
              "    }\n",
              "\n",
              "    const cell = handle.cell;\n",
              "\n",
              "    const id = cell.output_area._bokeh_element_id;\n",
              "    const server_id = cell.output_area._bokeh_server_id;\n",
              "\n",
              "    // Clean up Bokeh references\n",
              "    if (id != null) {\n",
              "      drop(id)\n",
              "    }\n",
              "\n",
              "    if (server_id !== undefined) {\n",
              "      // Clean up Bokeh references\n",
              "      const cmd_clean = \"from bokeh.io.state import curstate; print(curstate().uuid_to_server['\" + server_id + \"'].get_sessions()[0].document.roots[0]._id)\";\n",
              "      cell.notebook.kernel.execute(cmd_clean, {\n",
              "        iopub: {\n",
              "          output: function(msg) {\n",
              "            const id = msg.content.text.trim()\n",
              "            drop(id)\n",
              "          }\n",
              "        }\n",
              "      });\n",
              "      // Destroy server and session\n",
              "      const cmd_destroy = \"import bokeh.io.notebook as ion; ion.destroy_server('\" + server_id + \"')\";\n",
              "      cell.notebook.kernel.execute(cmd_destroy);\n",
              "    }\n",
              "  }\n",
              "\n",
              "  /**\n",
              "   * Handle when a new output is added\n",
              "   */\n",
              "  function handleAddOutput(event, handle) {\n",
              "    const output_area = handle.output_area;\n",
              "    const output = handle.output;\n",
              "\n",
              "    // limit handleAddOutput to display_data with EXEC_MIME_TYPE content only\n",
              "    if ((output.output_type != \"display_data\") || (!Object.prototype.hasOwnProperty.call(output.data, EXEC_MIME_TYPE))) {\n",
              "      return\n",
              "    }\n",
              "\n",
              "    const toinsert = output_area.element.find(\".\" + CLASS_NAME.split(' ')[0]);\n",
              "\n",
              "    if (output.metadata[EXEC_MIME_TYPE][\"id\"] !== undefined) {\n",
              "      toinsert[toinsert.length - 1].firstChild.textContent = output.data[JS_MIME_TYPE];\n",
              "      // store reference to embed id on output_area\n",
              "      output_area._bokeh_element_id = output.metadata[EXEC_MIME_TYPE][\"id\"];\n",
              "    }\n",
              "    if (output.metadata[EXEC_MIME_TYPE][\"server_id\"] !== undefined) {\n",
              "      const bk_div = document.createElement(\"div\");\n",
              "      bk_div.innerHTML = output.data[HTML_MIME_TYPE];\n",
              "      const script_attrs = bk_div.children[0].attributes;\n",
              "      for (let i = 0; i < script_attrs.length; i++) {\n",
              "        toinsert[toinsert.length - 1].firstChild.setAttribute(script_attrs[i].name, script_attrs[i].value);\n",
              "        toinsert[toinsert.length - 1].firstChild.textContent = bk_div.children[0].textContent\n",
              "      }\n",
              "      // store reference to server id on output_area\n",
              "      output_area._bokeh_server_id = output.metadata[EXEC_MIME_TYPE][\"server_id\"];\n",
              "    }\n",
              "  }\n",
              "\n",
              "  function register_renderer(events, OutputArea) {\n",
              "\n",
              "    function append_mime(data, metadata, element) {\n",
              "      // create a DOM node to render to\n",
              "      const toinsert = this.create_output_subarea(\n",
              "        metadata,\n",
              "        CLASS_NAME,\n",
              "        EXEC_MIME_TYPE\n",
              "      );\n",
              "      this.keyboard_manager.register_events(toinsert);\n",
              "      // Render to node\n",
              "      const props = {data: data, metadata: metadata[EXEC_MIME_TYPE]};\n",
              "      render(props, toinsert[toinsert.length - 1]);\n",
              "      element.append(toinsert);\n",
              "      return toinsert\n",
              "    }\n",
              "\n",
              "    /* Handle when an output is cleared or removed */\n",
              "    events.on('clear_output.CodeCell', handleClearOutput);\n",
              "    events.on('delete.Cell', handleClearOutput);\n",
              "\n",
              "    /* Handle when a new output is added */\n",
              "    events.on('output_added.OutputArea', handleAddOutput);\n",
              "\n",
              "    /**\n",
              "     * Register the mime type and append_mime function with output_area\n",
              "     */\n",
              "    OutputArea.prototype.register_mime_type(EXEC_MIME_TYPE, append_mime, {\n",
              "      /* Is output safe? */\n",
              "      safe: true,\n",
              "      /* Index of renderer in `output_area.display_order` */\n",
              "      index: 0\n",
              "    });\n",
              "  }\n",
              "\n",
              "  // register the mime type if in Jupyter Notebook environment and previously unregistered\n",
              "  if (root.Jupyter !== undefined) {\n",
              "    const events = require('base/js/events');\n",
              "    const OutputArea = require('notebook/js/outputarea').OutputArea;\n",
              "\n",
              "    if (OutputArea.prototype.mime_types().indexOf(EXEC_MIME_TYPE) == -1) {\n",
              "      register_renderer(events, OutputArea);\n",
              "    }\n",
              "  }\n",
              "  if (typeof (root._bokeh_timeout) === \"undefined\" || force === true) {\n",
              "    root._bokeh_timeout = Date.now() + 5000;\n",
              "    root._bokeh_failed_load = false;\n",
              "  }\n",
              "\n",
              "  const NB_LOAD_WARNING = {'data': {'text/html':\n",
              "     \"<div style='background-color: #fdd'>\\n\"+\n",
              "     \"<p>\\n\"+\n",
              "     \"BokehJS does not appear to have successfully loaded. If loading BokehJS from CDN, this \\n\"+\n",
              "     \"may be due to a slow or bad network connection. Possible fixes:\\n\"+\n",
              "     \"</p>\\n\"+\n",
              "     \"<ul>\\n\"+\n",
              "     \"<li>re-rerun `output_notebook()` to attempt to load from CDN again, or</li>\\n\"+\n",
              "     \"<li>use INLINE resources instead, as so:</li>\\n\"+\n",
              "     \"</ul>\\n\"+\n",
              "     \"<code>\\n\"+\n",
              "     \"from bokeh.resources import INLINE\\n\"+\n",
              "     \"output_notebook(resources=INLINE)\\n\"+\n",
              "     \"</code>\\n\"+\n",
              "     \"</div>\"}};\n",
              "\n",
              "  function display_loaded(error = null) {\n",
              "    const el = document.getElementById(null);\n",
              "    if (el != null) {\n",
              "      const html = (() => {\n",
              "        if (typeof root.Bokeh === \"undefined\") {\n",
              "          if (error == null) {\n",
              "            return \"BokehJS is loading ...\";\n",
              "          } else {\n",
              "            return \"BokehJS failed to load.\";\n",
              "          }\n",
              "        } else {\n",
              "          const prefix = `BokehJS ${root.Bokeh.version}`;\n",
              "          if (error == null) {\n",
              "            return `${prefix} successfully loaded.`;\n",
              "          } else {\n",
              "            return `${prefix} <b>encountered errors</b> while loading and may not function as expected.`;\n",
              "          }\n",
              "        }\n",
              "      })();\n",
              "      el.innerHTML = html;\n",
              "\n",
              "      if (error != null) {\n",
              "        const wrapper = document.createElement(\"div\");\n",
              "        wrapper.style.overflow = \"auto\";\n",
              "        wrapper.style.height = \"5em\";\n",
              "        wrapper.style.resize = \"vertical\";\n",
              "        const content = document.createElement(\"div\");\n",
              "        content.style.fontFamily = \"monospace\";\n",
              "        content.style.whiteSpace = \"pre-wrap\";\n",
              "        content.style.backgroundColor = \"rgb(255, 221, 221)\";\n",
              "        content.textContent = error.stack ?? error.toString();\n",
              "        wrapper.append(content);\n",
              "        el.append(wrapper);\n",
              "      }\n",
              "    } else if (Date.now() < root._bokeh_timeout) {\n",
              "      setTimeout(() => display_loaded(error), 100);\n",
              "    }\n",
              "  }\n",
              "\n",
              "  function run_callbacks() {\n",
              "    try {\n",
              "      root._bokeh_onload_callbacks.forEach(function(callback) {\n",
              "        if (callback != null)\n",
              "          callback();\n",
              "      });\n",
              "    } finally {\n",
              "      delete root._bokeh_onload_callbacks\n",
              "    }\n",
              "    console.debug(\"Bokeh: all callbacks have finished\");\n",
              "  }\n",
              "\n",
              "  function load_libs(css_urls, js_urls, callback) {\n",
              "    if (css_urls == null) css_urls = [];\n",
              "    if (js_urls == null) js_urls = [];\n",
              "\n",
              "    root._bokeh_onload_callbacks.push(callback);\n",
              "    if (root._bokeh_is_loading > 0) {\n",
              "      console.debug(\"Bokeh: BokehJS is being loaded, scheduling callback at\", now());\n",
              "      return null;\n",
              "    }\n",
              "    if (js_urls == null || js_urls.length === 0) {\n",
              "      run_callbacks();\n",
              "      return null;\n",
              "    }\n",
              "    console.debug(\"Bokeh: BokehJS not loaded, scheduling load and callback at\", now());\n",
              "    root._bokeh_is_loading = css_urls.length + js_urls.length;\n",
              "\n",
              "    function on_load() {\n",
              "      root._bokeh_is_loading--;\n",
              "      if (root._bokeh_is_loading === 0) {\n",
              "        console.debug(\"Bokeh: all BokehJS libraries/stylesheets loaded\");\n",
              "        run_callbacks()\n",
              "      }\n",
              "    }\n",
              "\n",
              "    function on_error(url) {\n",
              "      console.error(\"failed to load \" + url);\n",
              "    }\n",
              "\n",
              "    for (let i = 0; i < css_urls.length; i++) {\n",
              "      const url = css_urls[i];\n",
              "      const element = document.createElement(\"link\");\n",
              "      element.onload = on_load;\n",
              "      element.onerror = on_error.bind(null, url);\n",
              "      element.rel = \"stylesheet\";\n",
              "      element.type = \"text/css\";\n",
              "      element.href = url;\n",
              "      console.debug(\"Bokeh: injecting link tag for BokehJS stylesheet: \", url);\n",
              "      document.body.appendChild(element);\n",
              "    }\n",
              "\n",
              "    for (let i = 0; i < js_urls.length; i++) {\n",
              "      const url = js_urls[i];\n",
              "      const element = document.createElement('script');\n",
              "      element.onload = on_load;\n",
              "      element.onerror = on_error.bind(null, url);\n",
              "      element.async = false;\n",
              "      element.src = url;\n",
              "      console.debug(\"Bokeh: injecting script tag for BokehJS library: \", url);\n",
              "      document.head.appendChild(element);\n",
              "    }\n",
              "  };\n",
              "\n",
              "  function inject_raw_css(css) {\n",
              "    const element = document.createElement(\"style\");\n",
              "    element.appendChild(document.createTextNode(css));\n",
              "    document.body.appendChild(element);\n",
              "  }\n",
              "\n",
              "  const js_urls = [\"https://cdn.bokeh.org/bokeh/release/bokeh-3.7.3.min.js\", \"https://cdn.bokeh.org/bokeh/release/bokeh-gl-3.7.3.min.js\", \"https://cdn.bokeh.org/bokeh/release/bokeh-widgets-3.7.3.min.js\", \"https://cdn.bokeh.org/bokeh/release/bokeh-tables-3.7.3.min.js\", \"https://cdn.bokeh.org/bokeh/release/bokeh-mathjax-3.7.3.min.js\"];\n",
              "  const css_urls = [];\n",
              "\n",
              "  const inline_js = [    function(Bokeh) {\n",
              "      Bokeh.set_log_level(\"info\");\n",
              "    },\n",
              "function(Bokeh) {\n",
              "    }\n",
              "  ];\n",
              "\n",
              "  function run_inline_js() {\n",
              "    if (root.Bokeh !== undefined || force === true) {\n",
              "      try {\n",
              "            for (let i = 0; i < inline_js.length; i++) {\n",
              "      inline_js[i].call(root, root.Bokeh);\n",
              "    }\n",
              "\n",
              "      } catch (error) {throw error;\n",
              "      }} else if (Date.now() < root._bokeh_timeout) {\n",
              "      setTimeout(run_inline_js, 100);\n",
              "    } else if (!root._bokeh_failed_load) {\n",
              "      console.log(\"Bokeh: BokehJS failed to load within specified timeout.\");\n",
              "      root._bokeh_failed_load = true;\n",
              "    } else if (force !== true) {\n",
              "      const cell = $(document.getElementById(null)).parents('.cell').data().cell;\n",
              "      cell.output_area.append_execute_result(NB_LOAD_WARNING)\n",
              "    }\n",
              "  }\n",
              "\n",
              "  if (root._bokeh_is_loading === 0) {\n",
              "    console.debug(\"Bokeh: BokehJS loaded, going straight to plotting\");\n",
              "    run_inline_js();\n",
              "  } else {\n",
              "    load_libs(css_urls, js_urls, function() {\n",
              "      console.debug(\"Bokeh: BokehJS plotting callback run at\", now());\n",
              "      run_inline_js();\n",
              "    });\n",
              "  }\n",
              "}(window));"
            ],
            "application/vnd.bokehjs_load.v0+json": "'use strict';\n(function(root) {\n  function now() {\n    return new Date();\n  }\n\n  const force = true;\n\n  if (typeof root._bokeh_onload_callbacks === \"undefined\" || force === true) {\n    root._bokeh_onload_callbacks = [];\n    root._bokeh_is_loading = undefined;\n  }\n\n\n  if (typeof (root._bokeh_timeout) === \"undefined\" || force === true) {\n    root._bokeh_timeout = Date.now() + 5000;\n    root._bokeh_failed_load = false;\n  }\n\n  const NB_LOAD_WARNING = {'data': {'text/html':\n     \"<div style='background-color: #fdd'>\\n\"+\n     \"<p>\\n\"+\n     \"BokehJS does not appear to have successfully loaded. If loading BokehJS from CDN, this \\n\"+\n     \"may be due to a slow or bad network connection. Possible fixes:\\n\"+\n     \"</p>\\n\"+\n     \"<ul>\\n\"+\n     \"<li>re-rerun `output_notebook()` to attempt to load from CDN again, or</li>\\n\"+\n     \"<li>use INLINE resources instead, as so:</li>\\n\"+\n     \"</ul>\\n\"+\n     \"<code>\\n\"+\n     \"from bokeh.resources import INLINE\\n\"+\n     \"output_notebook(resources=INLINE)\\n\"+\n     \"</code>\\n\"+\n     \"</div>\"}};\n\n  function display_loaded(error = null) {\n    const el = document.getElementById(null);\n    if (el != null) {\n      const html = (() => {\n        if (typeof root.Bokeh === \"undefined\") {\n          if (error == null) {\n            return \"BokehJS is loading ...\";\n          } else {\n            return \"BokehJS failed to load.\";\n          }\n        } else {\n          const prefix = `BokehJS ${root.Bokeh.version}`;\n          if (error == null) {\n            return `${prefix} successfully loaded.`;\n          } else {\n            return `${prefix} <b>encountered errors</b> while loading and may not function as expected.`;\n          }\n        }\n      })();\n      el.innerHTML = html;\n\n      if (error != null) {\n        const wrapper = document.createElement(\"div\");\n        wrapper.style.overflow = \"auto\";\n        wrapper.style.height = \"5em\";\n        wrapper.style.resize = \"vertical\";\n        const content = document.createElement(\"div\");\n        content.style.fontFamily = \"monospace\";\n        content.style.whiteSpace = \"pre-wrap\";\n        content.style.backgroundColor = \"rgb(255, 221, 221)\";\n        content.textContent = error.stack ?? error.toString();\n        wrapper.append(content);\n        el.append(wrapper);\n      }\n    } else if (Date.now() < root._bokeh_timeout) {\n      setTimeout(() => display_loaded(error), 100);\n    }\n  }\n\n  function run_callbacks() {\n    try {\n      root._bokeh_onload_callbacks.forEach(function(callback) {\n        if (callback != null)\n          callback();\n      });\n    } finally {\n      delete root._bokeh_onload_callbacks\n    }\n    console.debug(\"Bokeh: all callbacks have finished\");\n  }\n\n  function load_libs(css_urls, js_urls, callback) {\n    if (css_urls == null) css_urls = [];\n    if (js_urls == null) js_urls = [];\n\n    root._bokeh_onload_callbacks.push(callback);\n    if (root._bokeh_is_loading > 0) {\n      console.debug(\"Bokeh: BokehJS is being loaded, scheduling callback at\", now());\n      return null;\n    }\n    if (js_urls == null || js_urls.length === 0) {\n      run_callbacks();\n      return null;\n    }\n    console.debug(\"Bokeh: BokehJS not loaded, scheduling load and callback at\", now());\n    root._bokeh_is_loading = css_urls.length + js_urls.length;\n\n    function on_load() {\n      root._bokeh_is_loading--;\n      if (root._bokeh_is_loading === 0) {\n        console.debug(\"Bokeh: all BokehJS libraries/stylesheets loaded\");\n        run_callbacks()\n      }\n    }\n\n    function on_error(url) {\n      console.error(\"failed to load \" + url);\n    }\n\n    for (let i = 0; i < css_urls.length; i++) {\n      const url = css_urls[i];\n      const element = document.createElement(\"link\");\n      element.onload = on_load;\n      element.onerror = on_error.bind(null, url);\n      element.rel = \"stylesheet\";\n      element.type = \"text/css\";\n      element.href = url;\n      console.debug(\"Bokeh: injecting link tag for BokehJS stylesheet: \", url);\n      document.body.appendChild(element);\n    }\n\n    for (let i = 0; i < js_urls.length; i++) {\n      const url = js_urls[i];\n      const element = document.createElement('script');\n      element.onload = on_load;\n      element.onerror = on_error.bind(null, url);\n      element.async = false;\n      element.src = url;\n      console.debug(\"Bokeh: injecting script tag for BokehJS library: \", url);\n      document.head.appendChild(element);\n    }\n  };\n\n  function inject_raw_css(css) {\n    const element = document.createElement(\"style\");\n    element.appendChild(document.createTextNode(css));\n    document.body.appendChild(element);\n  }\n\n  const js_urls = [\"https://cdn.bokeh.org/bokeh/release/bokeh-3.7.3.min.js\", \"https://cdn.bokeh.org/bokeh/release/bokeh-gl-3.7.3.min.js\", \"https://cdn.bokeh.org/bokeh/release/bokeh-widgets-3.7.3.min.js\", \"https://cdn.bokeh.org/bokeh/release/bokeh-tables-3.7.3.min.js\", \"https://cdn.bokeh.org/bokeh/release/bokeh-mathjax-3.7.3.min.js\"];\n  const css_urls = [];\n\n  const inline_js = [    function(Bokeh) {\n      Bokeh.set_log_level(\"info\");\n    },\nfunction(Bokeh) {\n    }\n  ];\n\n  function run_inline_js() {\n    if (root.Bokeh !== undefined || force === true) {\n      try {\n            for (let i = 0; i < inline_js.length; i++) {\n      inline_js[i].call(root, root.Bokeh);\n    }\n\n      } catch (error) {throw error;\n      }} else if (Date.now() < root._bokeh_timeout) {\n      setTimeout(run_inline_js, 100);\n    } else if (!root._bokeh_failed_load) {\n      console.log(\"Bokeh: BokehJS failed to load within specified timeout.\");\n      root._bokeh_failed_load = true;\n    } else if (force !== true) {\n      const cell = $(document.getElementById(null)).parents('.cell').data().cell;\n      cell.output_area.append_execute_result(NB_LOAD_WARNING)\n    }\n  }\n\n  if (root._bokeh_is_loading === 0) {\n    console.debug(\"Bokeh: BokehJS loaded, going straight to plotting\");\n    run_inline_js();\n  } else {\n    load_libs(css_urls, js_urls, function() {\n      console.debug(\"Bokeh: BokehJS plotting callback run at\", now());\n      run_inline_js();\n    });\n  }\n}(window));"
          },
          "metadata": {}
        },
        {
          "output_type": "display_data",
          "data": {
            "text/html": [
              "\n",
              "  <div id=\"a5263ddb-3653-4192-b056-bcba1fa6e200\" data-root-id=\"p1108\" style=\"display: contents;\"></div>\n"
            ]
          },
          "metadata": {}
        },
        {
          "output_type": "display_data",
          "data": {
            "application/javascript": [
              "(function(root) {\n",
              "  function embed_document(root) {\n",
              "  const docs_json = {\"ada727e5-54ea-493f-9689-8a668afafc12\":{\"version\":\"3.7.3\",\"title\":\"Bokeh Application\",\"roots\":[{\"type\":\"object\",\"name\":\"Figure\",\"id\":\"p1108\",\"attributes\":{\"height\":400,\"x_range\":{\"type\":\"object\",\"name\":\"DataRange1d\",\"id\":\"p1109\"},\"y_range\":{\"type\":\"object\",\"name\":\"DataRange1d\",\"id\":\"p1110\"},\"x_scale\":{\"type\":\"object\",\"name\":\"LinearScale\",\"id\":\"p1117\"},\"y_scale\":{\"type\":\"object\",\"name\":\"LinearScale\",\"id\":\"p1118\"},\"title\":{\"type\":\"object\",\"name\":\"Title\",\"id\":\"p1115\"},\"renderers\":[{\"type\":\"object\",\"name\":\"GlyphRenderer\",\"id\":\"p1148\",\"attributes\":{\"data_source\":{\"type\":\"object\",\"name\":\"ColumnDataSource\",\"id\":\"p1105\",\"attributes\":{\"selected\":{\"type\":\"object\",\"name\":\"Selection\",\"id\":\"p1106\",\"attributes\":{\"indices\":[],\"line_indices\":[]}},\"selection_policy\":{\"type\":\"object\",\"name\":\"UnionRenderers\",\"id\":\"p1107\"},\"data\":{\"type\":\"map\",\"entries\":[[\"x\",{\"type\":\"ndarray\",\"array\":{\"type\":\"bytes\",\"data\":\"EvuAPx+iA74PjuG/6vufvn30A74CSHS/4Odyv3Iz1L/bC2a/oayuPjG5/j8Bpm8/v0v8P49h0b6hHNU/ZOOCPyhIML81t7W83bOuvzWNyj5MDGw/CRV7PxvnBcAsWeS/R1lMPn0yO7/RFgu/IXyIv9GALb+Raa8/GP8BvWq6Gr7LvLm/YVzsPQI/sj7FRJ6+RG8vPxW9hr81HJ+/UuG/v4AKXb8T6lc/P2Ucv3Gy6D0C3Iy/H6SyPj0Wpr6xuS4+SHW+vxrvhL87+Fs/UuDrvTfor78NmOa+jyfIvzmqGD/ipYu/ANZBv1eqUr/Uyws/AD4vv+c5Dz0m5rw/Z5xFP7xQor96XIE/x8jtvqf5nj8ZRck+175yv5MAEz/RsL0/5h3HPgv80z/Unt2/9UB0v00bvb8v6Pi/AGh7v5yE2D+PJis/Gv3kv1kFMj6rSBq/PC7bvyyhEz6PBP8/Ae23P8h2Jb+xY0E/QDgJP1094j6aVdA/0os+vhyorz5jjYW+acAePwRsBL/CxD6/vbh+P8l7wr/pINS/00e3P7Qa9L5buJ48Rpt8PnaeDL5QrY8+b1qHvv+QJT5TDf0+Y5NlP0tj0r4G310/uMN+v5qJHr61Uc6+78jkvv861D/ZtGK/CsIjvFR3WL/q0pM/4X+qPTYffT/s/wa/TXYgPy+L577Cr4o/O598P4MRuz8UhYM+xCv7PyKPEL/vHaA/rPy/vk3RKz8j10s92ZBRv/Q57r4mEJk/Pd9ePqRRub+8mlS/PT+Nv9+/w7x+Z8m/ZnfwvftIVT9eztM+eq9Jv9vXeD9HjIS+O07QP4cNEL+cv9s/RdGuvlN37D/+bbI9vZIIv7lFB8AE5/a/0UffPng2Sz8005y/kV2IPwMeyD5/NuQ+rKstPwkbpj9lIG4/RwLYv3ekmb+VwS4/q9+qP8C5pr6qYcQ+ZleuvSb3eb5zy+o/oyAyvpW2kT7n/aM/bFfOv1+617/3eDs/xjLHv/ezDb1eveO/uyHyv2euVz8iCbO/WelJPzs6lz/3Alq/Y/+6Pl5SY7/x7TG/0ZexvREUAL+cnHG/baoHvjD35D70ziw/Q/Fuv87Rvr/RpE0/U4sov3jWv72pJI2/Nd7hPmOOLb+IYUC/VueVPmU+Mj/wnlo+HKhDvqQGj7+OXcs//g1kP9lGA0BzZo8/l91hv98N4b/MkD89cvw/PkPqxr5T5oE+BzrsPnFoI77cq5i/e1L9PuYY8r7WlIm+t7jAPif6lD2mxYK/YxarP/jbEb8svSg/VFKnvvNYHj9e+EA/0LkFvrWkT79cqBM/8PUkP2GS0D5QMA09wai2P5iwvb/+Bi892HJ3PxH1Aj/dH2U/oCGkP3YeJD8c+0E+/kiIv3aMkT9K/NC/Wiywvlx8QL5ZKqM/GFH4Pvg18r6kzk+9a0R2P0kPtD4p1cE/GuSbvez/hb84DJY/KTRlvvEEGD/MZrS/udeDP8pl7r5fwp8/+Vy/O+WDoj+NFsg/rJklP+lu5j7TBSA/2uZiv7O8Sr5ri9q+Fy9hv3+9/j2lJOY/po1jPu5GZ7/aty2/bII5P4WABD8B4qo/Gi7WP7+OLz+uD7u+sWdSv2rivD0rGmW/to5GP2KTaD505gS+tmBLPsQa3j5jyLK/6dc1P3Ph2b+edRW/c+3jP6W1AL/epRe/Vr5PvRSf9r6txOe/1YSHP0q1xD4E2vC+FMaEvTaH3z6oza8+dY+Wv4XSh78hiKo/GEbNvnBk8T94avy+/bLHv1ZaML9Fy50/FCccv5iNlT8imHk/85iBPndmvD6zoU0/vhasv0TmhT+IOJY/FHnuPp8pLT7Pl6o/yN2IvkBsmz4UXxy/zCjZP1Wey7/Eq4U/+tyEP8t+xb+P8QNAgK5Cv4Yajj/gA8y/Oq9IvomYcr8mjNA+erwwv/qvLL9nclA73wiPv0/XfL9ofY++dfvHPunnrj8pQds/OHNuvyaL9r4fpUw/bV40v2xLl77oXB6/CydNP4lJ1T71hSk+tP9Pv4pIKb/LyCm/uHjEvz/sBj8GSnI/d5w+vzngh78yKam+t5Sfv1NGpT/PTD0/iPizvgQCsr1OVWA+ruGKvx5mmL8Ko2U/vfEYPRXbfL+pAtS+womJvxNJZL4SakQ/C9H2P/MK2T+84o0/a09tP+OgZr53MZs/1T0NPHs0F76zlHy/FISmv/IdCb+/jYm+ZfqQv/RUoL5hy0W/Z5wVP1g34j+OUro/sDaLvyE0lT/K7ag/uIpyv6sTAD51FiK/48SdvxasKz6wNtK/XGQhP+1jtL/fEpe+/+q5v17TRb5HJFm/OaS9v3QAlD7806S98PdvP5qxpb5+NOy/jJXRPxh4bT7fD34+HRPWPnEAij/a/6c/1WHmPiO+tb+CMB8/M5yLPuB3Jb8z5u28kyOuvx4kEr/mCjQ8bPpGv1F797/b0BU/+w+XP0z6I75B9La/gZXMPoMJW7/Y7Bs/whOAv2b5jz8KSII/AmawP5tGob9vHpo/Q8irvjBnBD5Sk1c/N8IgPpc5jD9ckcQ/0N9xP7LpWL+fehy/Wg/WPsKNmT89xO2/4IXAv9//1j/8hE4/nOiDvubuSz7QX6U+LItmPqbx9z/Vh/i+U0TeP0+93D11M0C9uMXbP2nK3b4X97E+zim2PpsRTj+q8Oc/uV/uvgvN3j+8NSY+JXOcP6orET8gdmg/7757PafqQD9fiBU/r7KOv4Ab9z9LM4i/blrXv1r2kL4CIqU/fTWkPpP+0j4z9Nc/m5FWP8gE5r2O2NC/sf/Bv0QvGr8fSQo/h5KxP2NooT+N+Ey9DjBgPzgL176vzOA/RfPmv+j/sj/+6Ty9bNCzvtDYFr9Y4du/EL3iPwO5sT8Y/Mm+AogUvqxM1b5QlM6/1Tplv8kXlj3aWAfARyv8v8UNxD9lwL0/IEG/v2Ezx77s9Xi/pzVvP6U3wL3EIvs9/O8LQKYYmz6d1J6+Qjqev7QZBEDHzw2/36ZEPw7pEj+MOxW/e5SrPwVjaz+uY44/xuWuPzxqFL8hAgM98TTfvlNcaj/JmuI+rj+FP5kw+z+Jf56+OyahPahI3D97jTK/VcPiPg8xbj8RFuQ/k4mOvqlGfb/qqgI/aZyrvzzKR74otuo+rNKmv5aR675tu5I/rI1EPirn+L2Jo50/0saMv8Y2ob9w8bO/EAzQv83Ypb8FZQ0/cLGEvyscRz/CFW49V4gbv2KegD9Ys6A9vL3DPz7+Vb5vFO6/du7fvk6/tz7MOjU/p7+svhhrsj6L7Mc/RMVbvrPYHL9WfDk/KFJTv6qmtT+gcMc/tgi9v3GlQz5qGJK+yIQaP07hQ77K8j4/pfSdv0RfJz+kTp0/wHZKP4JYXz8Ddm6//7dwPzj2BcBxtKu+BAgXv/tCI78kUeE/8whSv9pMjT/aGo4/L557P/ItkT7as1K+Ekhbv0y8B72NPu2+3kiLPzfmOr/RcYQ/k0CQv7z7ib+0bK0/k0XNvl5LpT/bhL4+omD4v46XkT+SijM/0rSrP1g2wz4CYQlAHJKQv+/cpz0XHQ4/pDSFP6zutL+4wY0+L9kavqsOOL9sFCM+ImglvwaotT/BzZg/dn3rv3JKsL7WRI4/DFYIP1eCeD7ktP0+VvfKv/1ULD+8+P2+Ntufv+MkYD/iUK4+Fz50v705E75nDJC/xXIdPm5MID+3+4Q+gjsFP3haDz7lYss8BznJvqMGfb/sZI4/lct4vwnVXb84vYo/MUCDvwiW7L0jocm/PULcvlGftT9DifW+0sbAPzcUnT9a1sq9mwY9v3/NQz/49Z6/SE6Kv8+YiT/JIcY/b+TFP7q+lj9fPxu/Jdmevy5EHD87Eda/i5mhPlM50L+8mCw9zvfLvmGh6D4jaie/NvI5v6DVtr/WiyS/B50lP1tBFL/2Bd88RtnbP4bTzT9h+Ac+1TxvPglzAD7mB4c/6LBOPye54D/79YG/kp2XP3xar75CULu+4buJv8TvwD2rrB+/b+C4PrTTIr8YmJQ+WyV2v3Kipj5lHzW/WasAP879+T8RZzy/Z9f6vnys5b7gVao/avebPyyVlL+jpcO+AYCgv+bb/z7riru+te4BwGsv5D9pouO+BTUOP23Afr9jihK/okeVPlfcuL8++ei/EGgXv/7IA0CNqK+/VGNaP6wRGj/mVue/7gefvJYWsz+XKQ2/OU22Pz1nbL8n8OK/PWdpvx7qnz/QjI+/KHA8vxkmF7818cS+FdRgvqAGgj6eDUS/J/P3v/keXz/znOQ9nv2kPtQiXj5cQzy/jmmjv/jRvj1/rFI/tjpIP8laAcCs+Qw/5I9+v9iIwD5Z2nO/gGwBwErNTj1iZ+6+DFC3vrA1Jr4UJcY/FOmRv/5Rnj/jpo8+/BizPHsVuL4GsMK//2ABPsgVtz84Ye0+fq4XvrGaHL8jMTy+roFRv65Wwj84M/e/ip1Mv41mtr8jmvA/Sw4Gv2yZ0D/+Bi2/olb/Pmmwqb4C0P0/x7DXv5MC6T/RI0C/BAYLPp0Ogb1LRku/OJsePYdxnr/0TjW/HbSqv86oob4J9d+/fTGmP6WKyL3o2bm/GwqAPn8yir5sjiE/Dctjv7U5sD7KYXK/ke8muzhbRT+mso6/glBdvzH3mb8lazG+v0K/P37JtT8+7Lu+ckH2PoKz4T5tqw1AVWwUv3QNcj5RJsw+8UeXP4Ux7b3nZrI/hg9Hv46X+z/xMc6/8yq6PiQjsj4IrBq/aeKMv3Q9a78y1a2/ruoSPkEvpL/cIpU+e0AJv1zkkL9dSFs/JdaVP6Yowjy3wrY+8eLdvqB6Ez2Smzy/D0VQv0tKU78XK9m/tNjCv9UYzT+ZOuQ/foYKPvQf5j6vUWs/A7Egv0S1Qz+AeI0/aJN5P0cVNr46mBk/QDKOP8CFPj9gFY+/0lPmvxoRp75GZJ+9PGaavv20279bpMu/cAysv0/uyr86UZu/6ul+P04wEj+Zr8G/hlGmP17Z6b9Kq5G/pvb/vS9b/j47MXE/miuQvzrLWr+n2HS/Ae0ZPtD4lD7j8nq/frEmPTBFOb/D9wLA4wu2v1TTsD/FP2k/ABKWv6Tsjz+5lg8/qd5mP+IVqr2n3FS/hLhcP6utL7+3F7s/uVJIPz3F9z+Id42+J7TZPWtahr7JhPc+QB7Evc5wTz8nIZE/EyKwvrFDyD/wukC/0RIQPx18rT/5ukK/da5Vv8/E9L/Pfgm/GP+tPzK4A0Cu/nQ/jcuKv6BLHD7/uBI+vZm0vp3Gbz41Ip8/9ttrvxOFNL8lWYO/pLUJP2TlE77BpT+/g1eDP39UZb6HK7E+B/tfv1J9AMDDLrG/P9d7PsKHxz8=\"},\"shape\":[1001],\"dtype\":\"float32\",\"order\":\"little\"}],[\"y\",{\"type\":\"ndarray\",\"array\":{\"type\":\"bytes\",\"data\":\"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\"},\"shape\":[1001],\"dtype\":\"float32\",\"order\":\"little\"}],[\"color\",[\"blue\",\"blue\",\"blue\",\"blue\",\"blue\",\"blue\",\"blue\",\"blue\",\"blue\",\"blue\",\"blue\",\"blue\",\"blue\",\"blue\",\"blue\",\"blue\",\"blue\",\"blue\",\"blue\",\"blue\",\"blue\",\"blue\",\"blue\",\"blue\",\"blue\",\"blue\",\"blue\",\"blue\",\"blue\",\"blue\",\"blue\",\"blue\",\"blue\",\"blue\",\"blue\",\"blue\",\"blue\",\"blue\",\"blue\",\"blue\",\"blue\",\"blue\",\"blue\",\"blue\",\"blue\",\"blue\",\"blue\",\"blue\",\"blue\",\"blue\",\"blue\",\"blue\",\"blue\",\"blue\",\"blue\",\"blue\",\"blue\",\"blue\",\"blue\",\"blue\",\"blue\",\"blue\",\"blue\",\"blue\",\"blue\",\"blue\",\"blue\",\"blue\",\"blue\",\"blue\",\"blue\",\"blue\",\"blue\",\"blue\",\"blue\",\"blue\",\"blue\",\"blue\",\"blue\",\"blue\",\"blue\",\"blue\",\"blue\",\"blue\",\"blue\",\"blue\",\"blue\",\"blue\",\"blue\",\"blue\",\"blue\",\"blue\",\"blue\",\"blue\",\"blue\",\"blue\",\"blue\",\"blue\",\"blue\",\"blue\",\"blue\",\"blue\",\"blue\",\"blue\",\"blue\",\"blue\",\"blue\",\"blue\",\"blue\",\"blue\",\"blue\",\"blue\",\"blue\",\"blue\",\"blue\",\"blue\",\"blue\",\"blue\",\"blue\",\"blue\",\"blue\",\"blue\",\"blue\",\"blue\",\"blue\",\"blue\",\"blue\",\"blue\",\"blue\",\"blue\",\"blue\",\"blue\",\"blue\",\"blue\",\"blue\",\"blue\",\"blue\",\"blue\",\"blue\",\"blue\",\"blue\",\"blue\",\"blue\",\"blue\",\"blue\",\"blue\",\"blue\",\"blue\",\"blue\",\"blue\",\"blue\",\"blue\",\"blue\",\"blue\",\"blue\",\"blue\",\"blue\",\"blue\",\"blue\",\"blue\",\"blue\",\"blue\",\"blue\",\"blue\",\"blue\",\"blue\",\"blue\",\"blue\",\"blue\",\"blue\",\"blue\",\"blue\",\"blue\",\"blue\",\"blue\",\"blue\",\"blue\",\"blue\",\"blue\",\"blue\",\"blue\",\"blue\",\"blue\",\"blue\",\"blue\",\"blue\",\"blue\",\"blue\",\"blue\",\"blue\",\"blue\",\"blue\",\"blue\",\"blue\",\"blue\",\"blue\",\"blue\",\"blue\",\"blue\",\"blue\",\"blue\",\"blue\",\"blue\",\"blue\",\"blue\",\"blue\",\"blue\",\"blue\",\"blue\",\"blue\",\"blue\",\"blue\",\"blue\",\"blue\",\"blue\",\"blue\",\"blue\",\"blue\",\"blue\",\"blue\",\"blue\",\"blue\",\"blue\",\"blue\",\"blue\",\"blue\",\"blue\",\"blue\",\"blue\",\"blue\",\"blue\",\"blue\",\"blue\",\"blue\",\"blue\",\"blue\",\"blue\",\"blue\",\"blue\",\"blue\",\"blue\",\"blue\",\"blue\",\"blue\",\"blue\",\"blue\",\"blue\",\"blue\",\"blue\",\"blue\",\"blue\",\"blue\",\"blue\",\"blue\",\"blue\",\"blue\",\"blue\",\"blue\",\"blue\",\"blue\",\"blue\",\"blue\",\"blue\",\"blue\",\"blue\",\"blue\",\"blue\",\"blue\",\"blue\",\"blue\",\"blue\",\"blue\",\"blue\",\"blue\",\"blue\",\"blue\",\"blue\",\"blue\",\"blue\",\"blue\",\"blue\",\"blue\",\"blue\",\"blue\",\"blue\",\"blue\",\"blue\",\"blue\",\"blue\",\"blue\",\"blue\",\"blue\",\"blue\",\"blue\",\"blue\",\"blue\",\"blue\",\"blue\",\"blue\",\"blue\",\"blue\",\"blue\",\"blue\",\"blue\",\"blue\",\"blue\",\"blue\",\"blue\",\"blue\",\"blue\",\"blue\",\"blue\",\"blue\",\"blue\",\"blue\",\"blue\",\"blue\",\"blue\",\"blue\",\"blue\",\"blue\",\"blue\",\"blue\",\"blue\",\"blue\",\"blue\",\"blue\",\"blue\",\"blue\",\"blue\",\"blue\",\"blue\",\"blue\",\"blue\",\"blue\",\"blue\",\"blue\",\"blue\",\"blue\",\"blue\",\"blue\",\"blue\",\"blue\",\"blue\",\"blue\",\"blue\",\"blue\",\"blue\",\"blue\",\"blue\",\"blue\",\"blue\",\"blue\",\"blue\",\"blue\",\"blue\",\"blue\",\"blue\",\"blue\",\"blue\",\"blue\",\"blue\",\"blue\",\"blue\",\"blue\",\"blue\",\"blue\",\"blue\",\"blue\",\"blue\",\"blue\",\"blue\",\"blue\",\"blue\",\"blue\",\"blue\",\"blue\",\"blue\",\"blue\",\"blue\",\"blue\",\"blue\",\"blue\",\"blue\",\"blue\",\"blue\",\"blue\",\"blue\",\"blue\",\"blue\",\"blue\",\"blue\",\"blue\",\"blue\",\"blue\",\"blue\",\"blue\",\"blue\",\"blue\",\"blue\",\"blue\",\"blue\",\"blue\",\"blue\",\"blue\",\"blue\",\"blue\",\"blue\",\"blue\",\"blue\",\"blue\",\"blue\",\"blue\",\"blue\",\"blue\",\"blue\",\"blue\",\"blue\",\"blue\",\"blue\",\"blue\",\"blue\",\"blue\",\"blue\",\"blue\",\"blue\",\"blue\",\"blue\",\"blue\",\"blue\",\"blue\",\"blue\",\"blue\",\"blue\",\"blue\",\"blue\",\"blue\",\"blue\",\"blue\",\"blue\",\"blue\",\"blue\",\"blue\",\"blue\",\"blue\",\"blue\",\"blue\",\"blue\",\"blue\",\"blue\",\"blue\",\"blue\",\"blue\",\"blue\",\"blue\",\"blue\",\"blue\",\"blue\",\"blue\",\"blue\",\"blue\",\"blue\",\"blue\",\"blue\",\"blue\",\"blue\",\"blue\",\"blue\",\"blue\",\"blue\",\"blue\",\"blue\",\"blue\",\"blue\",\"blue\",\"blue\",\"blue\",\"blue\",\"blue\",\"blue\",\"blue\",\"blue\",\"blue\",\"blue\",\"blue\",\"blue\",\"blue\",\"blue\",\"blue\",\"blue\",\"blue\",\"blue\",\"blue\",\"blue\",\"blue\",\"blue\",\"blue\",\"blue\",\"blue\",\"blue\",\"blue\",\"blue\",\"blue\",\"blue\",\"blue\",\"blue\",\"blue\",\"blue\",\"blue\",\"blue\",\"blue\",\"blue\",\"blue\",\"blue\",\"blue\",\"blue\",\"blue\",\"blue\",\"blue\",\"blue\",\"blue\",\"blue\",\"blue\",\"blue\",\"blue\",\"blue\",\"blue\",\"blue\",\"blue\",\"blue\",\"blue\",\"blue\",\"blue\",\"blue\",\"blue\",\"blue\",\"blue\",\"blue\",\"blue\",\"blue\",\"blue\",\"blue\",\"blue\",\"blue\",\"blue\",\"blue\",\"blue\",\"blue\",\"blue\",\"blue\",\"blue\",\"blue\",\"blue\",\"blue\",\"blue\",\"blue\",\"blue\",\"blue\",\"blue\",\"blue\",\"blue\",\"blue\",\"blue\",\"blue\",\"blue\",\"blue\",\"blue\",\"blue\",\"blue\",\"blue\",\"blue\",\"blue\",\"blue\",\"blue\",\"blue\",\"blue\",\"blue\",\"blue\",\"blue\",\"blue\",\"blue\",\"blue\",\"blue\",\"blue\",\"blue\",\"blue\",\"blue\",\"blue\",\"blue\",\"blue\",\"blue\",\"blue\",\"blue\",\"blue\",\"blue\",\"blue\",\"blue\",\"blue\",\"blue\",\"blue\",\"blue\",\"blue\",\"blue\",\"blue\",\"blue\",\"blue\",\"blue\",\"blue\",\"blue\",\"blue\",\"blue\",\"blue\",\"blue\",\"blue\",\"blue\",\"blue\",\"blue\",\"blue\",\"blue\",\"blue\",\"blue\",\"blue\",\"blue\",\"blue\",\"blue\",\"blue\",\"blue\",\"blue\",\"blue\",\"blue\",\"blue\",\"blue\",\"blue\",\"blue\",\"blue\",\"blue\",\"blue\",\"blue\",\"blue\",\"blue\",\"blue\",\"blue\",\"blue\",\"blue\",\"blue\",\"blue\",\"blue\",\"blue\",\"blue\",\"blue\",\"blue\",\"blue\",\"blue\",\"blue\",\"blue\",\"blue\",\"blue\",\"blue\",\"blue\",\"blue\",\"blue\",\"blue\",\"blue\",\"blue\",\"blue\",\"blue\",\"blue\",\"blue\",\"blue\",\"blue\",\"blue\",\"blue\",\"blue\",\"blue\",\"blue\",\"blue\",\"blue\",\"blue\",\"blue\",\"blue\",\"blue\",\"blue\",\"blue\",\"blue\",\"blue\",\"blue\",\"blue\",\"blue\",\"blue\",\"blue\",\"blue\",\"blue\",\"blue\",\"blue\",\"blue\",\"blue\",\"blue\",\"blue\",\"blue\",\"blue\",\"blue\",\"blue\",\"blue\",\"blue\",\"blue\",\"blue\",\"blue\",\"blue\",\"blue\",\"blue\",\"blue\",\"blue\",\"blue\",\"blue\",\"blue\",\"blue\",\"blue\",\"blue\",\"blue\",\"blue\",\"blue\",\"blue\",\"blue\",\"blue\",\"blue\",\"blue\",\"blue\",\"blue\",\"blue\",\"blue\",\"blue\",\"blue\",\"blue\",\"blue\",\"blue\",\"blue\",\"blue\",\"blue\",\"blue\",\"blue\",\"blue\",\"blue\",\"blue\",\"blue\",\"blue\",\"blue\",\"blue\",\"blue\",\"blue\",\"blue\",\"blue\",\"blue\",\"blue\",\"blue\",\"blue\",\"blue\",\"blue\",\"blue\",\"blue\",\"blue\",\"blue\",\"blue\",\"blue\",\"blue\",\"blue\",\"blue\",\"blue\",\"blue\",\"blue\",\"blue\",\"blue\",\"blue\",\"blue\",\"blue\",\"blue\",\"blue\",\"blue\",\"blue\",\"blue\",\"blue\",\"blue\",\"blue\",\"blue\",\"blue\",\"blue\",\"blue\",\"blue\",\"blue\",\"blue\",\"blue\",\"blue\",\"blue\",\"blue\",\"blue\",\"blue\",\"blue\",\"blue\",\"blue\",\"blue\",\"blue\",\"blue\",\"blue\",\"blue\",\"blue\",\"blue\",\"blue\",\"blue\",\"blue\",\"blue\",\"blue\",\"blue\",\"blue\",\"blue\",\"blue\",\"blue\",\"blue\",\"blue\",\"blue\",\"blue\",\"blue\",\"blue\",\"blue\",\"blue\",\"blue\",\"blue\",\"blue\",\"blue\",\"blue\",\"blue\",\"blue\",\"blue\",\"blue\",\"blue\",\"blue\",\"blue\",\"blue\",\"blue\",\"blue\",\"blue\",\"blue\",\"blue\",\"blue\",\"blue\",\"blue\",\"blue\",\"blue\",\"blue\",\"blue\",\"blue\",\"blue\",\"blue\",\"blue\",\"blue\",\"blue\",\"blue\",\"blue\",\"blue\",\"blue\",\"blue\",\"blue\",\"blue\",\"blue\",\"blue\",\"blue\",\"blue\",\"blue\",\"blue\",\"blue\",\"blue\",\"blue\",\"blue\",\"blue\",\"blue\",\"blue\",\"blue\",\"blue\",\"blue\",\"blue\",\"blue\",\"blue\",\"blue\",\"blue\",\"blue\",\"blue\",\"blue\",\"blue\",\"blue\",\"blue\",\"blue\",\"blue\",\"blue\",\"blue\",\"blue\",\"blue\",\"blue\",\"blue\",\"blue\",\"blue\",\"blue\",\"blue\",\"blue\",\"blue\",\"blue\",\"blue\",\"blue\",\"blue\",\"blue\",\"blue\",\"blue\",\"blue\",\"blue\",\"blue\",\"blue\",\"blue\",\"blue\",\"blue\",\"blue\",\"blue\",\"blue\",\"blue\",\"blue\",\"blue\",\"blue\",\"blue\",\"blue\",\"blue\",\"blue\",\"blue\",\"blue\",\"blue\",\"blue\",\"blue\",\"blue\",\"blue\",\"blue\",\"blue\",\"blue\",\"blue\",\"blue\",\"blue\",\"blue\",\"blue\",\"blue\",\"blue\",\"blue\",\"blue\",\"blue\",\"blue\",\"blue\",\"blue\",\"blue\",\"blue\",\"blue\",\"blue\",\"blue\",\"blue\",\"blue\",\"blue\",\"blue\",\"blue\",\"blue\",\"blue\",\"blue\",\"blue\",\"blue\",\"blue\",\"blue\",\"blue\",\"blue\",\"blue\",\"blue\",\"blue\",\"blue\",\"blue\",\"blue\",\"blue\",\"blue\",\"blue\",\"blue\",\"blue\",\"blue\",\"blue\",\"blue\",\"blue\",\"blue\",\"blue\",\"blue\",\"blue\",\"blue\",\"blue\",\"blue\",\"blue\",\"blue\",\"blue\",\"blue\",\"blue\",\"blue\",\"blue\",\"blue\",\"blue\",\"blue\"]],[\"phrase\",[\"Can I get back with my ex even though she is pregn\",\"What is the best way to become an arms dealer in t\",\"Why doesn't Japan contribute to peace and prosperi\",\"Which is the best Panasonic air conditioner servic\",\"What did ancient Egyptians believe about the after\",\"How does one prepare for the RBI grade B officers \",\"Which institutions in Kolkata give coaching for en\",\"Will omar bravo be in fifa 17?\\n\",\"What are the pros and cons of arranged marriages?\\n\",\"What will happen if all the vegetable dies?\\n\",\"Why do people hate hypocrites?\\n\",\"What do you consider poor, middle class, wealthy a\",\"How do I concentrate on my studies?\\n\",\"What is new age psychobabble?\\n\",\"How can you tell if your man is cheating even if h\",\"Can you see yourself during lucid dreaming?\\n\",\"Which browser is most safe in terms of privacy and\",\"Can Google Assistant run on OnePlus 3T?\\n\",\"Apart from the VW Vento / Polo and Skoda Rapid, ar\",\"What is Panera Bread?\\n\",\"Do athletes live longer and healthier? If not, why\",\"Could a pitbull take on a wolf in a fight?\\n\",\"What has Obama done for Latinos/Hispanics?\\n\",\"How much is |x|^2?\\n\",\"How does operator.com work?\\n\",\"Why do people not make movies/talk about the Romas\",\"What were the major contributions of the political\",\"Company Secretaries (CS): How do I prepare for CS \",\"What are the job prospects of chemical engineers a\",\"I have never gone to a bank. How do I put money in\",\"What is the best strategy to prepare for the GATE \",\"Who is this porn star?\\n\",\"Why are specs & sunglasses so expensive?\\n\",\"I installed the movie torrent with Ultra XVid Code\",\"Can we ride scootry with learning lisence age of 1\",\"Two cards were drawn, without replacement, from a \",\"How much money is needed per month to live in indi\",\"Why do companies issue bonus shares?\\n\",\"Why are Iranians and Afghans considered white Amer\",\"Could mumps cause deafness?\\n\",\"What is meaning of sadaka?\\n\",\"What should I know before starting a YouTube caree\",\"Is the ITI College Principal is gazetted officer?\\n\",\"How do you feel now that Donald Trump is now the P\",\"What is the difference between imperial units and \",\"What is the easiest way to do effective self hypno\",\"Why has China increased its involvement in the Syr\",\"From which year CBSE class 10th exam be reintroduc\",\"Is 1080p a Blu-ray?\\n\",\"Does using mirrors to concentrate thermal energy d\",\"How do I avoid attractions by phones?\\n\",\"What are some of the effects of education can you \",\"What are the characteristics of a Pisces Sun/Libra\",\"What is the most cost-effective option to ship pac\",\"Are red and blue complementary colors?\\n\",\"Is it possible to make a material that is a superc\",\"What is the best Shonen Jump manga?\\n\",\"Are Oracle and Cisco good companies for a new grad\",\"If lighting a match is considered a chemical chang\",\"Why is Hillary so afraid of Putin?\\n\",\"Which is the best book to study electronics basics\",\"What are the basics I should know before learning \",\"Can I use Cph4 on a day to day basis?\\n\",\"Is it safe when I buy things from China?\\n\",\"Why did some ethnic minorities support Brexit?\\n\",\"How much money has tinder made?\\n\",\"What is the limit?\\n\",\"Will browsing Facebook while connected to Tor reve\",\"If I get 68.4 percent in ftre 2016 class 10 then w\",\"No product market fit: change product or market fi\",\"What makes you sad about India?\\n\",\"How do I know if someone has read my messages on w\",\"Why there is a sound when we crack our knuckles?\\n\",\"Why do I only make friends with guys?\\n\",\"What is 'open-mindedness'?\\n\",\"What is the cause of carpal tunnel syndrome?\\n\",\"What is the difference between a \\\"slow cooker\\\" and\",\"What is Hillary Clinton's stance on nuclear energy\",\"Do IIT colleges require a caste validity for an ST\",\"How do I listen a song from you?\\n\",\"Why do so many Iranians immigrate to Canada?\\n\",\"What will happen to India-U.S. relations after Tru\",\"A program that stored five words in the memory the\",\"What are ways of joining to ISRO as engineer other\",\"Can Magneto defeat Hulk?\\n\",\"What time of year is it best to visit Singapore?\\n\",\"How do I study for ib?\\n\",\"What should I do if someone doesn't reply to my em\",\"How much does Manveer Singh Phogat gets for Dangal\",\"What is it like to be cannibal?\\n\",\"How can the Android app development companies help\",\"Who would you say is the most fun person in Israel\",\"How can one improve her figure and butt size witho\",\"As a company that provides travel agencies and tou\",\"What is the most beautiful thing you saw today?\\n\",\"Is gay flirting good?\\n\",\"Can I use Stripe in Europe?\\n\",\"Will Britain leaving the European Union lead to th\",\"Why are so many East Asian immigrants so averse to\",\"Why do we need computer networking?\\n\",\"What is retina detachment?\\n\",\"Why don't more bars have mechanical bulls?\\n\",\"How do I get better understanding of C++?\\n\",\"Which is the most profitable Porsche US dealer?\\n\",\"What are the best over the ear headphones for abou\",\"Is it true that the first kill is the hardest?\\n\",\"Which is best 32 inch led tv to buy below 20,000 I\",\"I am scoring 130/506 in FiitJEE aits part test adv\",\"What kind of websites are missing from the Interne\",\"What is the best way to use free time at IITB?\\n\",\"Is it possible for me to buy my first company usin\",\"What should I do to have sex with as many women as\",\"What is the scope of Executive MBA in India?\\n\",\"Which BMW models do not have a Hofmeister Kink?\\n\",\"What is yellow journalism?\\n\",\"Why do doctors charge uninsured patients 10 times \",\"Which one is the best public sector job or private\",\"Will social media ever help to spur on the US youn\",\"How should I know a video is 360 degree?\\n\",\"Is a practice manual sufficient for the CA Final I\",\"Career Advice: Being an Indian college student, ho\",\"What are the advantages and disadvantages of Li-Fi\",\"On Snapchat, I deleted someone. Can they re-add me\",\"Are there any cereals that taste good with water?\\n\",\"Why does a woman's vagina push a mans penis out?\\n\",\"What is the British word for bullpen?\\n\",\"How hard is it for international students to get a\",\"How did Revan build his foundation of his army in \",\"What is the best way to read a fictional book? Do \",\"How do you replace a ignition lock cylinder?\\n\",\"How can I prevent business failure?\\n\",\"How often do tides occur? What causes it?\\n\",\"How do I learn Calculus on my own?\\n\",\"What is the reason for Priyanka Gandhi not changin\",\"What should I eat when I'm sick with a cold or flu\",\"What is a Business Intelligence Analyst?\\n\",\"Which sports should I start to play to paticipate \",\"How should I prepare for Java fresher interview?\\n\",\"How different are cuisines of Arab countries?\\n\",\"What is the meaning of the phrase, all is fair in \",\"Why does Quora send me a notification that my ques\",\"What are the hardest obstacles to breaking into a \",\"What makes a falling snowflake large (or not)?\\n\",\"What is the compensation for Partners/Principals a\",\"What is the difference between an array and a vect\",\"If you kiss the NC State wolf do you become an NC \",\"Is it boring (from a social perspective) to live i\",\"What would have happened if in 1971 war all 93000 \",\"What are the easiest things to do while being abro\",\"Does getting root canal cause problem in speaking \",\"What is the definition of a truncated sentence and\",\"Would I look good with a nose ring? if yes which n\",\"What are the perks of working in Amazon?\\n\",\"How can we say that climate change does not bring \",\"What it is like to meet \\\"Shahid Kapoor\\\"?\\n\",\"How does it feel when you are dead?\\n\",\"Which is the best juicer, grinder or mixer in Indi\",\"How do I learn to think more logically?\\n\",\"Which movie has the best beginning ever?\\n\",\"Which laws been enacted to prevent family members \",\"What is iPhone 6s plus cost present?\\n\",\"What is Ohm's law and amperage I?\\n\",\"What is the nicest thing a stranger has done for y\",\"Why do some heroic people who do good things choos\",\"How will Hindus react if Babri Masjid is reconstru\",\"R2I - How did you plan R2I from US if you own the \",\"How can I master C programming in 7 days?\\n\",\"What is the right way to clean ear wax?\\n\",\"What are some good games to play during class?\\n\",\"Is it possible to hack WhatsApp messenger?\\n\",\"Why do airplanes carry more weight than helicopter\",\"Shaving: Do electric shavers work better than manu\",\"Has anyone benefited, health-wise, from essential \",\"Can Students at Hogwarts have sex while there? Doe\",\"How can we enhance our efficiency with Yoga?\\n\",\"What are the best app review sites and blogs?\\n\",\"Can two companies be registered on the same addres\",\"Is it true that as per Indian law, one can't be ha\",\"Who would win in a war between Bangladesh and Myan\",\"How do you reply when someone thanks you for forgi\",\"Who would win a fight between wolverine and Batman\",\"What is one thing you wish for yourself in the fut\",\"Can you cry underwater?\\n\",\"What's the difference between SSL, TLS, and HTTPS?\",\"Why are antigravity muscles more affected in Upper\",\"In order to buy a house, does one have to rent fir\",\"What is the probability of choosing a pink ball fr\",\"Which is the best car to get under 8 lakhs?\\n\",\"Why isn't China's role in the Korean and Vietnam w\",\"What is the Laplace transform of t^(1/2) * e^ (-1/\",\"To those who told a big lie to their parents and t\",\"What is runtime polymorphism or dynamic method dis\",\"I had sex 5 days after my period, what are the cha\",\"How would you describe yourself in one tweet?\\n\",\"How do fairy tales influence creativity in humans?\",\"How do I add delay() and sound() in Dev-C++?\\n\",\"What is the pathophysiology of ADHD?\\n\",\"What are the top benefits of life insurance polici\",\"Can I get a TV from Bang & Olufsen for under $2500\",\"How is the life of an ece student at dayananda sag\",\"What is meditation?\\n\",\"Were the Ancient Greeks scientists, or just philos\",\"How does Google authenticator work?\\n\",\"Wouldn't it be better if kids were allowed to focu\",\"Can you apply for a certificate on Coursera/edX af\",\"Why do Quora engineers use large monitors?\\n\",\"How do I start an online clothing business?\\n\",\"How will the government meet the challenges of acc\",\"I saw a charge on my credit card under from a comp\",\"What is the difference between socialization and r\",\"How would the world be different if everyone spoke\",\"Who receives the fares in a cab service?\\n\",\"As a non-resident alien doing a summer internship \",\"Which is the best camera smartphone under 20k?\\n\",\"What does it mean to dream about someone before th\",\"What are the subjects in which I can apply for my \",\"What are the basics of Jainism?\\n\",\"What is the Difference between existential nihilis\",\"How can I see my girlfriend's WhatsApp chat messag\",\"What are some ways to enjoy sex with my newly marr\",\"How can I study the Bible?\\n\",\"How can someone be a friend, girlfriend, wife and \",\"What are the Snapchat usernames of punjabi celebri\",\"What is 1/2 times 1/2?\\n\",\"Where does the word restaurant come from and what \",\"What can I do with a computational linguistics deg\",\"Will trump win as president?\\n\",\"What impact will AI eventually have on how we plan\",\"Why is eating too unhealthy?\\n\",\"What if the Syrian civil war never happened?\\n\",\"How do the teachings, learning, followership and/o\",\"Did you ever been in a group of stupid people?\\n\",\"What are the multiple types of social issues?\\n\",\"Where can I find beginner NodeJS tutorials that us\",\"If I got a 7.4 CGPA in the SA1 10 class, then can \",\"Which the best time table for 10th class exams pre\",\"Elite Escorts in DHA Lahore?\\n\",\"My ex bf says he doesn't have feelings for me righ\",\"What are the questions in the interview for a fres\",\"What do you think are some of benefits to humans f\",\"Which one is the best medical college hostel in in\",\"Have you lived in a tiny house?\\n\",\"What are some things new employees should know goi\",\"Where can I hire high pressure cleaning service in\",\"How many Bollywood Actresses consume alcohol in re\",\"How does PayU earn money?\\n\",\"Is it possible to change your personality as a chi\",\"How do I apply to London School of Economics as an\",\"How do I build a profile to get accepted into a st\",\"How can I get real ghost stories?\\n\",\"Is it possible to hack NASA's New Horizons satelli\",\"What is the best way of getting good at answering \",\"How would you deal with jerks?\\n\",\"How can I do internship in Accenture India?\\n\",\"Why would an Indian girl not want to get married?\\n\",\"My WhatsApp chat backup got deleted from Google, I\",\"Is going to college really worth it or just a wast\",\"How many prophets did God send to the Jews?\\n\",\"What is the relation and difference between Artifi\",\"If you don\\u2019t have a good network, what would be th\",\"What are the best place to visit in Rio de Janeiro\",\"Which is the best college for PG in Cyber Security\",\"Which are the best English serials?\\n\",\"How do you say \\u201cWhat\\u2019s up?\\u201d in Chinese?\\n\",\"Is it bad to take expired fish oil pills because t\",\"Will there ever be a genuine Authoritarian candida\",\"Is World War III on its way right now?\\n\",\"How can you use time formats in Excel?\\n\",\"What is the best antivirus for Windows 8?\\n\",\"Why do people like Metal/Hard rock so much?\\n\",\"What are the worst smelling things in the world?\\n\",\"Could someone explain the following electives at N\",\"What's a funny thing?\\n\",\"What are the main reason of cracks?\\n\",\"How do I hitchhike in Europe?\\n\",\"What is the physical significance of quantum mecha\",\"How do we get dead people off business junk mail l\",\"Who among the four in the picture given in descrip\",\"How do I know if I authentically, genuinely, hones\",\"On average, how long does it take a letter mail fr\",\"When will One Piece have episode 517 dubbed?\\n\",\"What should I do if I fell in love with my best fr\",\"How do criminal lawyers sleep at night even when t\",\"Can I get refund for Tatkal e-ticket because train\",\"How can I buy the new Macbook 12\\\" M7 512GB model i\",\"What are the different e-governance methods used b\",\"How do I run smoother GTA V? I have intel core i3 \",\"What is the use of tanpura?\\n\",\"What are the Snapchat usernames of celebrities?\\n\",\"Which is better- cracking gate and going for IIT/i\",\"Can you lose weight without exercising?\\n\",\"What is the best way to make life more interesting\",\"Is Delhi a must for UPSC coaching?\\n\",\"Which are the best colleges for electronics and in\",\"I have been a .Net developer for over 2 years and \",\"Has a smartphone ever been taken to space? If yes \",\"What questions should I ask my boyfriend, we are b\",\"How do I delete a contact blocked in WhatsApp?\\n\",\"Is it a good time to buy real estate in Cyprus?\\n\",\"South India: Why is South India much more develope\",\"What is the formula for a hydrocarbon?\\n\",\"What if an alien comes and tells us that the physi\",\"What are the pros & cons of democracy?\\n\",\"I'm 16 years old and wanted to lose weight and bod\",\"Can I add more peers to the torrent for max speed \",\"What are the best neighborhoods to Airbnb in Chica\",\"What we will get in mahabalipuram beach sunrise or\",\"How fast can you accelerate to the speed of light?\",\"What is the difference between R-squared and Adjus\",\"How many times can women reach orgasm in a hour an\",\"Why didn't Johor, Batam & Singapore integrate more\",\"Which products are more profitable in online sell?\",\"How do I get rid of muscle?\\n\",\"What is the process of directing and casting child\",\"Is the 7th pay commission needed?\\n\",\"What are the best games that are compatible on a C\",\"What was the significance of the battle of Somme, \",\"How do you see Pakistan PM Nawaz Sharif's speech a\",\"Where can I publish my apps?\\n\",\"What was your darkest moment?\\n\",\"Why does the UK have an unwritten Constitution?\\n\",\"What are the necessary steps in documenting a mobi\",\"Why was life created? Why was life so painful?\\n\",\"How can I use explainer video to review products o\",\"What is difference between residue and error?\\n\",\"If 6.5 to 8.5 will be the safe level of pH value i\",\"I am 23 and don't know what I want. My life is ver\",\"What are your three favorite websites for reading?\",\"Why do people choose to be a GAY?\\n\",\"What is the process of death?\\n\",\"Why does light red deserve the special name \\\"pink\\\"\",\"Who are millennials?\\n\",\"What it's like doing CA articleship from Big 4s?\\n\",\"What is the most important right or freedom guaran\",\"Why do some porn stars have unprotected sex?\\n\",\"What are my reasons to live?\\n\",\"How small would a planet need to be to plainly see\",\"Some religion speaks of burning in hell after deat\",\"What does it feel like to be an IITian?\\n\",\"How does cognitive behavioural therapy work?\\n\",\"Why should you visit India?\\n\",\"I lost my Google account information. How can I re\",\"What if I port a number from Airtel to Vodafone in\",\"What are the reasons why time travel is impossible\",\"Will my iPhone alarm still go off if \\\"Do Not Distu\",\"Did South Korea cheat during the 2014 Asian Games?\",\"Take the minimum lethal volume of a gaz, put it in\",\"\\\"How to improve Project Management skills?\\\"\\n\",\"When you were small, did you ever think that your \",\"Where did the pointy \\\"S\\\" symbol come from?\\n\",\"How does it feels like to have a rich boyfriend?\\n\",\"What have you used your intelligence for?\\n\",\"What is a freewheeling diode?\\n\",\"How do we derive pi?\\n\",\"What is the importance of communication skills in \",\"How can I put icons on YouTube video titles? Also \",\"What does the phrase \\\"resonate with me\\\" mean?\\n\",\"How many types do we have of Manual testing?\\n\",\"What are IBAN numbers?\\n\",\"What is regret?\\n\",\"As a student specializing in English language, lit\",\"What is the corporate culture like at Corning? How\",\"How can I convert jazz standards to jazz guitar so\",\"How good was the surgical strike by Indian Army on\",\"What recipes are most conducive to romance?\\n\",\"What are the unknown facts about Tamil people whic\",\"Where do I find the most beautiful woman in the wo\",\"What does the grey phone icon mean on the messenge\",\"How do I share 360\\u00b0 photos on WhatsApp?\\n\",\"What is the difference between working stress meth\",\"What are the opportunities for an MBA in finance?\\n\",\"Can you patent clothing or fashion designs?\\n\",\"My in laws are apologists for Nazi war criminals a\",\"Which is the safest city in India for women?\\n\",\"What horse breed were commonly used during the \\\"Wi\",\"Is it weird to sometimes feel almost overwhelmed b\",\"Can anyone please list all the SAP SD topics a per\",\"In the filling of ibps application I put martial s\",\"In a restaurant, what are the different types of t\",\"Why does amir khan never go to any filmy awards fu\",\"What is a good inpatient drug and alcohol rehab ce\",\"Why does UV light cause contamination on optics, b\",\"How do I invest in mutual funds in India?\\n\",\"How comfortable are you with failure?\\n\",\"What skills are required to become a quant?\\n\",\"Why do startups announce fundraising?\\n\",\"What is your review of Amazon Video?\\n\",\"Why there is no team from Tamil nadu in pro kabbad\",\"How do I auto forward texts from my Verizon phone \",\"How do the Chinese people view Americans?\\n\",\"What is virgin or virginity?\\n\",\"What are the different ways of submitting a Reques\",\"Can a high school teacher legally force students t\",\"Why does water droplets form on the outer surface \",\"Which mammals have dark circles around eyes beside\",\"How do each components of a printer work?\\n\",\"What are some foods beginning with the letter W?\\n\",\"What are symptoms of a bad transmission control mo\",\"How do astronauts in ISS vote for Presidential ele\",\"What is the difference between Aim and Goal?\\n\",\"What is AT & C?\\n\",\"Who was Jackson Pollock? Was he mentally ill?\\n\",\"How do I make good vine edits?\\n\",\"How can I cut my penis?\\n\",\"How can I change my Quora profile photo?\\n\",\"My husband was here seeking asylum before we got m\",\"Is it good to use Laravel to develop a web app wit\",\"I have a mild sore throat an headache. What is tha\",\"When will a working nintendo 3DS emulator release \",\"What do we know about the health effects of vaping\",\"INSEAD: Worth the investment?\\n\",\"How is long rides in royal Enfield classic 350?\\n\",\"What famous boxers have participated on Dancing wi\",\"Will season 10 of Big Bang Theory be the final sea\",\"Can I crack KVPY (SX) with only three months left \",\"What are some little-known facts from World War II\",\"What is the most unique way of exam cheating you'v\",\"When was the last time a slam dunk broke a basketb\",\"What should I do for my excessive hair loss?\\n\",\"How do I find people's psychological weakness?\\n\",\"What is the difference between Awareness and Consc\",\"I hate everything that people around me like. Is i\",\"I think I am pretty good at thinking of a business\",\"How do you determine the thickness of a footing ba\",\"Why does vapours are formed when we pressurize alc\",\"Is it easy to adjust in German Universities withou\",\"What is UNIX and UNIX-like?\\n\",\"What is the best way to promote www.dorkyard.com?\\n\",\"What's up in Addis Abeba tonight?\\n\",\"Is there any point to going to college if you have\",\"How much would it cost to construct 800 sqft area \",\"What is an ideal wife? What is an ideal husband? W\",\"What information does port scanning provide?\\n\",\"What are the application of quasicrystals?\\n\",\"What is the determinant of the inverse of a matrix\",\"How is Brad Pitt in \\\"real Life\\\"?\\n\",\"I have a 3 yr bachelor's degree in Computer Scienc\",\"Demonetisation is good for county like India or no\",\"My parents think I am rude for being so introverte\",\"How many people have jumped off the Golden Gate br\",\"What are Osho's views on Islam?\\n\",\"Why does the government regulate health care?\\n\",\"Which phone has the best sound recording quality?\\n\",\"What is the best part of your life, and why is it \",\"Which is better hair wax or hair clay?\\n\",\"How do I charge my motorcycle battery?\\n\",\"What are the updates we get after miui 8.0.6.0?\\n\",\"Why does Robinhood need to bypass the App Store?\\n\",\"Which is a better route, Alipiri or Sri Vaari?\\n\",\"How much extra would it cost if Apple manufactured\",\"When will the next recession be?\\n\",\"What are some arguments in support of electing Don\",\"What does Russia want with Ukraine?\\n\",\"What is the difference between a recorder (block f\",\"What is the meaning of random number?\\n\",\"Which one is good for health: tea or coffee?\\n\",\"Is Texas good state for non-resident to register a\",\"What is kirchoff's law?\\n\",\"Is it wrong for a family member to keep making com\",\"My parents are forcing to marry a girl of their ch\",\"Which is better, Windows+Linux or OSX?\\n\",\"Why aren\\u2019t Christians that pray to/have a relation\",\"How much TDS will I have to pay for an RD account \",\"What is the meaning of thematic connection?\\n\",\"How should you prepare to take your maneuverabilit\",\"What are the best materials/videos/resources to ge\",\"Can a \\\"dirty\\\" finish be added back to jeans?\\n\",\"Why does my dog keep whining at night?\\n\",\"Is it bad to turn off my PC using the power button\",\"What is image processing?\\n\",\"I went to school with mostly black kids, they bull\",\"Does Donald Trump actually think he can become Pre\",\"Which are the 5 best movies you have ever seen?\\n\",\"How do I get traffic to excursions travel website?\",\"Where can I download the Android game Leo's Fortun\",\"How do I get more followers and upvotes on Quora?\\n\",\"What is a factory reset on a phone?\\n\",\"Which phone should I buy if my budget is 12000?\\n\",\"I have GPU implementation as a graduation project.\",\"What are the libertarian views on the Antarctic Tr\",\"What would the world be like if it were ruled by a\",\"How do you choose your first bank?\\n\",\"Who runs berkuliah.com?\\n\",\"What does Godel's incompleteness theorem mean for \",\"How do I delete a Gmail account?\\n\",\"If my ultimate goal is to become a vegan, should I\",\"Did the US win the war in Afghanistan?\\n\",\"How can I become a good engineering student?\\n\",\"What are some ways to increase intuition?\\n\",\"What causes depression in humans?\\n\",\"How can I control my anxiety and worries?\\n\",\"How can we jump in between the working regions of \",\"How do I stop loving someone who loves me?\\n\",\"Can personality and insecurity create a liar?\\n\",\"What is the best country and university to do a Ph\",\"How do I edit a video offline?\\n\",\"What is the rent of kiosk in an upscale mall?\\n\",\"What should I start reading if I want to attempt t\",\"Which is the best anti-virus for computers?\\n\",\"Does food unite people?\\n\",\"What do you like most about Internet?\\n\",\"What is a good model of federalism in the Philippi\",\"How do you know if a girl secretly loves you?\\n\",\"Who is the most annoying fictional character you h\",\"How do you feel when your question is unanswered o\",\"Did early humans know how babies were made?\\n\",\"If I cancel xfinity, how can I sign up as a new cu\",\"Are there any TV series similar to House MD?\\n\",\"What you need to know before buying furniture for \",\"Have you ever had a dream happen in reality?\\n\",\"Is dark matter just a scientific theory or has its\",\"How can you increase your tolerance for pain?\\n\",\"How many logical fallacies are there?\\n\",\"How do buttercream icing frosting separate?\\n\",\"Which is the cheapest cinema hall of India?\\n\",\"What do you think would be a good gre score?\\n\",\"What is the best way to update Xiaomi redmi 3 to M\",\"What does toe jam cheese taste like?\\n\",\"How do I know if a YouTube video is copyrighted?\\n\",\"How should I start a business reselling shoes?\\n\",\"How do I hire a mobile app development company?\\n\",\"What is paras pathar?\\n\",\"How is the word \\\"colony\\\" used in a sentence?\\n\",\"What is Rebecca Fugate known for?\\n\",\"What should I consider before starting my consulta\",\"Do you feel that many attractive women get away wi\",\"Why do I feel so much guilt for kissing a girl?\\n\",\"What are some good tutorials for learning Blender?\",\"Is it deceitful to befriend someone in the hopes t\",\"Who do you think BJP will put as a candidate for t\",\"Which protein supplement is best for gym to gain w\",\"What is your review of KVPY SX/SB 2016?\\n\",\"How do I get people's attention for my work?\\n\",\"What are some of your own personal stories and exp\",\"If salt concentration of the sea(3%) were differen\",\"What is the chemical name for mothballs? How was i\",\"Vitamin D receptors in the Testes?\\n\",\"How do I lose weight without working out?\\n\",\"Where can I watch anime?\\n\",\"What is BusyBox used for?\\n\",\"What would be a good desktop computer for software\",\"What are your top five favorite books and why?\\n\",\"What are some good Harry/Ginny fanfiction?\\n\",\"What are the pros and cons of having sex during pe\",\"Which device will you enjoy watching movies in: a \",\"Will there be \\\"faithless\\\" electors this election?\\n\",\"Is Donald Trump an undercover democrat?\\n\",\"Why am I the way I am?\\n\",\"Why do some women get their nipples pierced?\\n\",\"What do Delhi University girls (especially North C\",\"What is the name of this TV series?\\n\",\"My salary is below the Basic Exemption Limit, yet \",\"What is a foliated rock?\\n\",\"What are some of the best books to start learning \",\"How should I prepare for IIT-JEE 2018?\\n\",\"How do unions work?\\n\",\"Can we give neet coaching in class 11?\\n\",\"Which is the best dish TV connection in Hyderabad?\",\"How can you train a Doberman/Lab mix?\\n\",\"How do you reduce stress at work?\\n\",\"What is the best algorithm for finding the number \",\"How can I earn $250 in 2 months?\\n\",\"Why did GE buy NBC?\\n\",\"What is the highest level of c?\\n\",\"How do you mash potatoes without a masher? What el\",\"How difficult is it to learn Python?\\n\",\"How do you convert years into seconds?\\n\",\"How do you view bisexuality?\\n\",\"What is information technology? What are some exam\",\"Why are Altoids so strong?\\n\",\"How effective is email marketing?\\n\",\"Why does my tutor keep winding me up. He says he i\",\"How can I start my Tok essay which is about accura\",\"How do I repair my corrupt memory card?\\n\",\"I have 3 years to prepare for IIT JAM Physics. How\",\"What are the best Instagram hack tools that have n\",\"I am studing interior design. What are some good i\",\"What are some stupid jokes that make you laugh?\\n\",\"What are the factors affecting Real estate investm\",\"How can I get rid of white dry spot on my face? It\",\"What is it like to have an ugly wife/partner?\\n\",\"What do you love most about your life and why?\\n\",\"In the unlikely event that the Electoral College t\",\"How is life as an Engineer?\\n\",\"Where and why are the imaginary numbers used?\\n\",\"What are some good hypo-allergenic lipsticks?\\n\",\"Did the United Nations play a part in the divide o\",\"When and Why did America become a world power?\\n\",\"What are some recipes using Hormel Black Label Ham\",\"Which is the best company to invest shares on Nove\",\"The man I'm about 2 marry says when I have my peri\",\"What can be the best answer for why finance?\\n\",\"What are the best facts about the universe?\\n\",\"What's the sweetest thing you did for a bestfriend\",\"What is the difference between techno and trance m\",\"TV Sitcoms: Why do English comedy shows have peopl\",\"Does percentile system would affect neet 1 student\",\"Is there Uber in Valencia, Madrid and Barcelona?\\n\",\"Have real-life siblings ever shot intimate scenes \",\"How should I improve my writing skill for blogging\",\"Can cold weather affect a menstrual cycle?\\n\",\"How can we earn money online while studying?\\n\",\"Can a tablet keyboard be used on any kind of table\",\"What are the Upcoming development projects in Chha\",\"Where can I buy cheap Twitter followers?\\n\",\"Why do passengers from aircraft are not given a bu\",\"When should I tell my crush I like her?\\n\",\"Why does Pakistan have a better image and reputati\",\"What are Andrea Pirlo's strengths as a midfielder?\",\"From a point in space billions of light years away\",\"Will Medicaid pay for electrologist to do the shav\",\"Why do technical employees despise sales people so\",\"What are the best freelance websites for C#?\\n\",\"Will I be successful without educations?\\n\",\"How can I learn about cars?\\n\",\"What is the best question asked in an interview?\\n\",\"Why there is so much hatred against Brahmins in In\",\"How do I learn to enter journal entries online in \",\"Will CS be issuing a PR message for Boston?\\n\",\"Why do some people 'hate' drugs or people who ever\",\"How do I know my passion? What is my talent and wh\",\"How do pessimists and optimists differ?\\n\",\"How many pulleys did it take for Archimedes to lif\",\"What is the best course after 12th for a medical s\",\"What are the steps that I should follow to get in \",\"Where was the boston marathon?\\n\",\"What is it like to be in or around a bomb blast?\\n\",\"Will Trump destroy international US-companies thro\",\"Should celebrities have the right to voice their o\",\"Can I say that: \\\"A battery can be seem as a capaci\",\"What is it like to be an ENTP?\\n\",\"How do I start designing on glass?\\n\",\"What is the market risk premium formula?\\n\",\"How can I pay the parking meter if I have no coins\",\"Is it true that Obama has a secret son named \\\"Luth\",\"Which is the best coaching for IAS in up?\\n\",\"How big is the equity funding market in North Amer\",\"Which are the good government medical colleges in \",\"How do I control my hair fall?\\n\",\"Is it really worth creating Shopify themes?\\n\",\"What can cause knee pain? It only hurts when I sta\",\"Where can you find a list of common 9 letter words\",\"NSFW: Is this penis color normal or should I see a\",\"Why do most women remove the hair from their arm p\",\"Which processor is better (faster/more efficient),\",\"Which two statements are true regarding views in s\",\"What is the easiest and quickest Indian food recip\",\"What are the best local SEO companies in India?\\n\",\"How do I get rid of adult content on my Quora feed\",\"Can the zombie fungi attack humans as well?\\n\",\"If I wanted to learn about the Roman Empire,what w\",\"What are the key differences between LXDE and XFCE\",\"Can people see the sellers real name, e-mail addre\",\"Should I still watch The Matrix movie?\\n\",\"Is there any truth to the rumor that the youngest \",\"Is it ok that I don't want to hang out with my fam\",\"I am in class 9. If i want to crack IIT JEE, then \",\"Will Obama's gang stalking/surveillance program be\",\"What are some good songs to lyric text prank a fri\",\"Where can I get best quality video DJ for party in\",\"How long does it take for your hair to grow?\\n\",\"Should I update my Redmi 3s from MIUI 7 to MIUI 8?\",\"How do muscles work?\\n\",\"WHAT IS THE BEST ROUT FOR NEPAL PASUPATI NATH TEMP\",\"How to make a website similar to feedwiser.com in \",\"Why does India so scared of CPEC?\\n\",\"What did your first sex feel like as a girl?\\n\",\"In International ODI/T20 cricket matches, if a bat\",\"Why can humans feel acceleration, but not constant\",\"Can the Microsoft Surface Pro 4 run AutoCAD?\\n\",\"What are the differences between stock Crown Victo\",\"What are the good ways to download Lynda.com's tut\",\"How much is the average salary package for a 1.5 y\",\"How can you reduce the barriers of communication?\\n\",\"Why would someone use Instagram Stories over Snapc\",\"Whiskey: How many 'shots' are in a fifth of Jack D\",\"What might happen now that President-elect Donald \",\"How do I write a waiver letter for school?\\n\",\"I am interested in persuing ma industrial psycholo\",\"Does modafinil shows up on a drug test? Because my\",\"Is it possible to get high off Vyvanse?\\n\",\"Is an agnostic necessarily a skeptic, and how?\\n\",\"Where can I get best support in Sydney for buying \",\"What are the duties of a lieutenant in Indian army\",\"Why is smileys not used on Quora?\\n\",\"What does it feel like for a man when someone who \",\"How does post graduation permit impact .lets say I\",\"Online Payment Gateways and Processing: What is th\",\"What are the best books to learn c programing lang\",\"Solid State Physics: What is The Theory of Alloys?\",\"How do I fill in my first name in a PAN card dupli\",\"Why is egg yolk not good for you?\\n\",\"Anatomy of Female Pelvis: Do women really have an \",\"How much does it cost to develop mobile applicatio\",\"Who is the most honest Game of Thrones character?\\n\",\"What is a high quality Apple MacBook Air charger?\\n\",\"Where and how is the WWE championship belt made?\\n\",\"What is green communication?\\n\",\"I have been a good student since chiild hood but j\",\"I'm solving exercises of artificial neural network\",\"Compared to your own compensation, and in consider\",\"How can I keep browsing Quora forever?\\n\",\"Having built web stuff the old way (PHP/MySQL) bac\",\"Is our new currency note of Rs.2000 equipped with \",\"What's the best way to join a startup in DC?\\n\",\"What would happen if we added a second Earth of eq\",\"When will piracy on Android stop?\\n\",\"What do you mean by executive consultant and suppo\",\"Why do I always feel like I am missing something?\\n\",\"What does a user see when he/she gets a new messag\",\"How can I become a web developer?\\n\",\"Is there any good alternative softwares to Tally?\\n\",\"Would you have sex during period?\\n\",\"Are there prominent Bangladeshi Hindus?\\n\",\"I have registered for PhD (no NET) (phy) in 2013, \",\"I changed my name, but the person did a mistake. M\",\"At what age do your breasts stop growing?\\n\",\"How do I get a girl's phone number in a library?\\n\",\"I am into a habit of over thinking things. How do \",\"What is the average salary of a civil engineer?\\n\",\"What is the difference between rote learning vs me\",\"What are the ways to compete in the Olympics in 20\",\"What trivia (and/or little-known facts) do you fin\",\"Xiaomi Redmi note 3: Which is the best colour to b\",\"What does \\\" the Hadamard Perron theorem\\\" means?\\n\",\"Is there a way to see the viewing history and chat\",\"What is the best place for trekking in Goa?\\n\",\"How does an instant messenger work?\\n\",\"What are the disadvantages of the World Trade Orga\",\"Why does the US military not use AK series rifles?\",\"Does Moto m have gorilla glass?\\n\",\"What is the hierarchy of an associate consultant a\",\"What are some major landforms in Texas, and how do\",\"What other jobs can a medical degree holder do mea\",\"MY HP DEXTOP DOESNOT CONNECT WIFI WHY?\\n\",\"How can I get motivated to workout?\\n\",\"What should I gift it to my mom on her birthday?\\n\",\"Which is the best video you have ever seen?\\n\",\"I was selected in campus and was issued a joining \",\"What makes a poem a good way to express emotions? \",\"What would happen if I cut down a tree outside my \",\"Can you make money in Amway?\\n\",\"Body Weight: How many pounds can I gain every week\",\"What are the impacts (both positive & negative) of\",\"I forgot the password which I used to login n n lo\",\"What are the best websites for career?\\n\",\"What is your favourite episode of the office (USA)\",\"Why is time slower down near heavy objects?\\n\",\"How do l update any version after rooting the mobi\",\"Why is 3 am called the witching hour?\\n\",\"How do I run a shell script from Java code?\\n\",\"What are the advertising campaigns of 2011?\\n\",\"Should I opt for computer science if I don't take \",\"What are the polymers of protein?\\n\",\"How much better will the JWST be than Hubble?\\n\",\"What are the greatest examples of absence of mind?\",\"How can I understand the STOCK market from the bas\",\"How do I make Gazpacho?\\n\",\"What is the typical role of a brand manager?\\n\",\"Who are the top 5 hottest women ever?\\n\",\"What is the name of the game that Aamir Khan was r\",\"How long does it take to learn dance?\\n\",\"What's the funniest thing that's happened to you a\",\"Why are metals malleable and ductile?\\n\",\"List of national daily in India?\\n\",\"Are Volvos actually safer than comparable cars?\\n\",\"Can you tell who has been looking at your Instagra\",\"A ball dropped from the roof of a building takes 4\",\"What percentage of Hillary Clinton's supporters ha\",\"Do you think you are beautiful?\\n\",\"Which are the free email marketing tools?\\n\",\"What topic of discussion do people hate the most? \",\"What is the point in having hyper-politicised stud\",\"Why Steve Jobs is considered as innovator?\\n\",\"How long would it take an average programmer to wr\",\"Why are conservatives defending Holly Fisher? (see\",\"What is so important about Adam Smith's pin factor\",\"What is the Arizona bark scorpion, and how do anim\",\"How do I stop smoking cigarettes?\\n\",\"What are the functions of a computer's motherboard\",\"How can tea bags help for styes?\\n\",\"How can I get a patent for my really effective inn\",\"Can India ever become 'Sone Ki Chidiya' again?\\n\",\"Is there any way to play Android games LAN multipl\",\"Why should I ask my first question?\\n\",\"Who are the top writers on Hinduism on Quora? Who \",\"How do I wake up at 4:00 A.M.?\\n\",\"Why is Quora moderation collapsing all my answers?\",\"In an honest assessment, what do you think of Trum\",\"What type of bonding is present in a coordinate bo\",\"Is it possible to delete your Wikipedia account hi\",\"I'm a +2 CBSE non-medical student. Is there any pr\",\"Are there any limitations as to setting up a forei\",\"How will the drought in California affect its econ\",\"What is Informatica online training?\\n\",\"Is it compulsory for a Web designer and developer \",\"How could the US realistically pay off its debt?\\n\",\"Who is Barry Soetoro?\\n\",\"How do I solve [math]2x^3-x^2+11x+3=0[/math]?\\n\",\"What are some hobbies couples can do at home?\\n\",\"How have meerkats adapted to the desert?\\n\",\"What causes dizziness when you lay down?\\n\",\"What should one do after a civil engineering degre\",\"What are the advantages of hiring skip bins servic\",\"Why is it necessary that singers lip-sync?\\n\",\"How can I turn off the screen overlay detected on \",\"How do you clean or polish a pair of Woodland shoe\",\"What are some classes you wish you took in high sc\",\"What is the formula of [math](a+b)^3[/math]?\\n\",\"What is it like to commit yourself to a psychiatri\",\"Is there any way to slow or reverse the late effec\",\"What would the implications be if we discovered th\",\"Any other program to help on code contribution for\",\"What is the bond order of [math]H_2[/math]?\\n\",\"What is the best way to create a website without c\",\"What were some causes and effects of the French Re\",\"What are some catchy headlines for a dating site?\\n\",\"Should I get Company of Heroes, World in Conflict \",\"How do I remove a person from a group in Skype?\\n\",\"Why was Manmohan Singh briefed by PM Modi after su\",\"Does anybody want to learn Chinese?\\n\",\"Is Xiaomi going the Nokia way to oblivion?\\n\",\"Should I buy hp 17.3 AMD laptop or lenovo 17.3 i5 \",\"Which is better a government job or a software job\",\"How can the word \\\"credulity\\\" be used in a sentence\",\"Does uber track time on app?\\n\",\"How do I get over direct rejection?\\n\",\"How can any institute get an ISO certificate?\\n\",\"What are the best pranks?\\n\",\"Are non-solicit agreements enforceable if the pers\",\"Which phone is best in 2016 for a 18 years boy my \",\"What is the definition of an archetypal hero?\\n\",\"Why are some \\\"ugly\\\" people still very attractive?\\n\",\"What are the chances of Donald Trump's impeachment\",\"What would a society based on laws enforcing only \",\"What is the full form of \\\"veto\\\" power?\\n\",\"How much do people get paid to do a TED talk?\\n\",\"What does it mean to say \\\"enriching herself off of\",\"How can I be more persuasive at work?\\n\",\"What is the corporate culture like at National Bev\",\"What is the fastest way to get a PAN card?\\n\",\"Who will win in America presidential elections in \",\"How do I solve this differential problem?\\n\",\"How is Banjara's Saffron Facial Kit used?\\n\",\"How do you understand life?\\n\",\"Will an MS from NUS in electrical engineering prov\",\"How does one create a strong password? Any tips?\\n\",\"Who was the best dressed at the 2016 Emmy's?\\n\",\"What is the cost of manufacturing a SIM card?\\n\",\"Are you tolerant?\\n\",\"Is [math]\\\\{1,2,3\\\\}[/math] a compact subset of a me\",\"What kind of energy is involved in hearing and vis\",\"What happened with Lehman Brothers?\\n\",\"What is a good web page publisher?\\n\",\"Why does eating radishes cause diarrhea?\\n\",\"How do I encrypt the data on my Android phone?\\n\",\"If there were an Oscar for \\\"Best Line in a Movie\\\",\",\"Why are tyres black?\\n\",\"What is the best way to unlock a Motorola Droid Bi\",\"Is a $45 a month job worth the experience?\\n\",\"Should I settle in Canada or Japan?\\n\",\"How is the appraisal process in Accenture? How wil\",\"How does sand turn into glass?\\n\",\"What effect will increased automation of jobs and \",\"I am 25 years old Indian guy, want to settle in Ne\",\"What are some Raksha Bandhan gift suggestions for \",\"How do I write a multi-dimensional villain that is\",\"Why is there no nucleus in a red blood cell?\\n\",\"Why do Quora allow anonymous fake questions from A\",\"Is it possible to merge a foursquare venue into a \",\"How do I find out if I have Siri on my phone?\\n\",\"Why do I feel like I'm not living my life?\\n\",\"What will happen to global stock market if Donald \",\"What makes weeds grow so much faster and easier th\",\"Do people with extremely high IQ need higher sugar\",\"What should teaching assistants do?\\n\",\"Why is Perth one of the most liveable cities in th\",\"How do you get to the entrance for Resolution Cave\",\"How do I get involved in research as an undergradu\",\"If you have one option to remove anything, what wi\",\"What are the risk after angioplasty?\\n\",\"Why can't men read the signals women give off when\",\"How can a non-EU medical graduate get into residen\",\"How do I stay active?\\n\",\"I'm going to Paris. What is the equivalent \\\"neighb\",\"How do I get rid of dandruff, or at least prevent \",\"Is Medicaid going to pay for the electrologist for\",\"When Australia became a nation in 1901, Did aborig\",\"What is the difference between SSL and Sitelock?\\n\",\"What are some unsolved problems in deep machine le\",\"What's the difference between computer engineering\",\"Is it possible to get a decent job after completin\",\"What is the difference between MG & BG in railway \",\"How do I control an Arduino with a Raspberry Pi?\\n\",\"What is the best field to pursue MS after doing el\",\"What is the difference between Directx and graphic\",\"How do I wirelessly charge the electrical devices \",\"Can you upload Numbers sheets from iPad to Google \",\"What's the best movie franchise you have ever watc\",\"If light does not have mass, then how can it be ab\",\"Why is the book of Esther in the Bible?\\n\",\"What makes comic books worth reading?\\n\",\"What are the advantages of outsourcing property ma\",\"What is a Quora credit competition?\\n\",\"Are data analyst/data science jobs boring?\\n\",\"Why don't satellites crash into each other?\\n\",\"How do dermatologists remove blackheads?\\n\",\"How can I choose between my dad and my mom?\\n\",\"Can you really not change people?\\n\",\"Being a non believer of a spiritual entity, I have\",\"Is black coffee fattening? If so, what makes it fa\",\"The education system is outdated. What would you d\",\"Who are the founders of Quora?\\n\",\"What is it like to be a landlord?\\n\",\"How many stamps do I need to send a letter to germ\",\"My father just recently got married. His wife goes\",\"Which countries are best to migrate from the US?\\n\",\"Can any one tell me a basketball club in Bangalore\",\"How can Spotify download songs offline?\\n\",\"How do I make money online for free in Spain?\\n\",\"Why is Tornado Alley prone to tornadoes?\\n\",\"How does helium change the inhaler's voice?\\n\",\"What is a bedding ceremony in Game of Thrones?\\n\",\"What is it like living in former East Germany as a\",\"Did the USA or NATO commit any war crimes in Iraq?\",\"Why don't we capture terrorist and behead them?\\n\",\"What is your favorite quote (books, movies, people\",\"What mixes well with peach vodka?\\n\",\"Which Patanjali products contain cow urine?\\n\",\"Why are three phases denoted by RYB?\\n\",\"Where could I learn JavaScript online?\\n\",\"Is it appropriate to wear a sports bra simply to t\",\"What are the differences between Jenkins CI and Dr\",\"T right do you think we should be entitled to?\\n\",\"What was the public's reaction to Crystal Pepsi?\\n\",\"How can I crack MH-CET 2017 engineering by self-st\",\"What is the way to become a dental hygienist in th\",\"Why do solving math/statistics problems causes my \",\"Does your name sound as awkward to others as it so\",\"What is the proper format of writing formal-inform\",\"How does doc2vec represent feature vector of a doc\",\"Why are software development task estimations regu\",\"How can I set up molecular pathology lab?\\n\",\"How do I score a rank in CA - IPCC?\\n\",\"What are some examples of strong organic acids?\\n\",\"What can be a good hindi (indian) name for a tea b\",\"Is the Google host matching process different for \",\"Is Cuba considered part of Latin America?\\n\",\"Does the following script (\\u0256\\u2200\\u0f61\\u0632\\u2202 \\u0250\\u0167 \\u01ab\\u04bf\\u03de\\u026e\\u2609 \\u027d\\u03c6\\u0289\\u029b\\u0195), \",\"How can I increase my website's DA?\\n\",\"Is it normal to imagine having sex with other guy \",\"What is the percent purity (approx) of consumable \",\"Do soulmates just come walking into your life when\",\"If I use marijuana with my boyfriend, is there a p\",\"Can you analyze everything in soil?\\n\",\"What difference it would make if India Nuked and K\",\"What are the advantages of a dominant party system\",\"What were some things India did not do but takes c\",\"How many total women have accused Bill Clinton of \",\"Why do I wish some fictional characters existed?\\n\",\"Where can I find best hotel at Ranikhet?\\n\",\"How do I make good memes?\\n\",\"What are some of the common sayings or proverbs in\",\"What kind of writing style makes someone a \\\"dark w\",\"Are Trump and Hillary really the best America has \",\"How can I make my career in embedded system and ro\",\"Will adding a USB to VGA adapter always give an ex\",\"We will never be able to see our own faces with ou\",\"What are the ways you can stop a friend from pitch\",\"What is the average time for preparation of IAS?\\n\",\"How can I learn new things quickly?\\n\",\"What is the definition of political courage?\\n\",\"What makes death scary?\\n\",\"I'm really pretty but I don't want to be I hate th\",\"Is Assam Down Town University good?\\n\",\"How do the brain structures of bonobos change as t\",\"What's the biggest scam?\\n\",\"Does the US government have an alien flying saucer\",\"I need to gain weight, but I don't have abs. It's \",\"Why should I study Calculus?\\n\",\"Do you think your childhood contributed to your fi\",\"How does the Goods and Services Tax (GST) works?\\n\",\"Where can I download Cisco 500-285 exam dumps?\\n\",\"How do I can make a second nation in Cybernations \",\"Did Neil Armstrong really land on the moon?\\n\",\"Why is Devil any other than God head of state?\\n\",\"How do I stop being possessive over my girlfriend?\",\"How does Kongregate compute the statistics of adve\",\"Who is the best nuero physician at NIMHANS, Bangal\",\"What are nonprofit organizations?\\n\",\"I want to know the process of starting outbound ca\",\"Which are some of the best hotels to stay in Helsi\",\"What is good about Deloitte Chicago?\\n\",\"How do I recover data from a formatted hard drive?\",\"Could India and Pakistan unite again?\\n\",\"How often should I massage my face with Argan oil?\",\"How is psychodynamic therapy different from psycho\",\"What are some of Barack Obama's character traits?\\n\",\"Would it make sense to replace the B-52's 8 1960s \",\"Is it possible to bring forward my flight date of \",\"How can I learn marathons?\\n\"]]]}}},\"view\":{\"type\":\"object\",\"name\":\"CDSView\",\"id\":\"p1149\",\"attributes\":{\"filter\":{\"type\":\"object\",\"name\":\"AllIndices\",\"id\":\"p1150\"}}},\"glyph\":{\"type\":\"object\",\"name\":\"Scatter\",\"id\":\"p1145\",\"attributes\":{\"x\":{\"type\":\"field\",\"field\":\"x\"},\"y\":{\"type\":\"field\",\"field\":\"y\"},\"size\":{\"type\":\"value\",\"value\":20},\"line_color\":{\"type\":\"field\",\"field\":\"color\"},\"line_alpha\":{\"type\":\"value\",\"value\":0.25},\"fill_color\":{\"type\":\"field\",\"field\":\"color\"},\"fill_alpha\":{\"type\":\"value\",\"value\":0.25},\"hatch_color\":{\"type\":\"field\",\"field\":\"color\"},\"hatch_alpha\":{\"type\":\"value\",\"value\":0.25}}},\"nonselection_glyph\":{\"type\":\"object\",\"name\":\"Scatter\",\"id\":\"p1146\",\"attributes\":{\"x\":{\"type\":\"field\",\"field\":\"x\"},\"y\":{\"type\":\"field\",\"field\":\"y\"},\"size\":{\"type\":\"value\",\"value\":20},\"line_color\":{\"type\":\"field\",\"field\":\"color\"},\"line_alpha\":{\"type\":\"value\",\"value\":0.1},\"fill_color\":{\"type\":\"field\",\"field\":\"color\"},\"fill_alpha\":{\"type\":\"value\",\"value\":0.1},\"hatch_color\":{\"type\":\"field\",\"field\":\"color\"},\"hatch_alpha\":{\"type\":\"value\",\"value\":0.1}}},\"muted_glyph\":{\"type\":\"object\",\"name\":\"Scatter\",\"id\":\"p1147\",\"attributes\":{\"x\":{\"type\":\"field\",\"field\":\"x\"},\"y\":{\"type\":\"field\",\"field\":\"y\"},\"size\":{\"type\":\"value\",\"value\":20},\"line_color\":{\"type\":\"field\",\"field\":\"color\"},\"line_alpha\":{\"type\":\"value\",\"value\":0.2},\"fill_color\":{\"type\":\"field\",\"field\":\"color\"},\"fill_alpha\":{\"type\":\"value\",\"value\":0.2},\"hatch_color\":{\"type\":\"field\",\"field\":\"color\"},\"hatch_alpha\":{\"type\":\"value\",\"value\":0.2}}}}}],\"toolbar\":{\"type\":\"object\",\"name\":\"Toolbar\",\"id\":\"p1116\",\"attributes\":{\"tools\":[{\"type\":\"object\",\"name\":\"PanTool\",\"id\":\"p1129\"},{\"type\":\"object\",\"name\":\"WheelZoomTool\",\"id\":\"p1130\",\"attributes\":{\"renderers\":\"auto\"}},{\"type\":\"object\",\"name\":\"BoxZoomTool\",\"id\":\"p1131\",\"attributes\":{\"dimensions\":\"both\",\"overlay\":{\"type\":\"object\",\"name\":\"BoxAnnotation\",\"id\":\"p1132\",\"attributes\":{\"syncable\":false,\"line_color\":\"black\",\"line_alpha\":1.0,\"line_width\":2,\"line_dash\":[4,4],\"fill_color\":\"lightgrey\",\"fill_alpha\":0.5,\"level\":\"overlay\",\"visible\":false,\"left\":{\"type\":\"number\",\"value\":\"nan\"},\"right\":{\"type\":\"number\",\"value\":\"nan\"},\"top\":{\"type\":\"number\",\"value\":\"nan\"},\"bottom\":{\"type\":\"number\",\"value\":\"nan\"},\"left_units\":\"canvas\",\"right_units\":\"canvas\",\"top_units\":\"canvas\",\"bottom_units\":\"canvas\",\"handles\":{\"type\":\"object\",\"name\":\"BoxInteractionHandles\",\"id\":\"p1138\",\"attributes\":{\"all\":{\"type\":\"object\",\"name\":\"AreaVisuals\",\"id\":\"p1137\",\"attributes\":{\"fill_color\":\"white\",\"hover_fill_color\":\"lightgray\"}}}}}}}},{\"type\":\"object\",\"name\":\"SaveTool\",\"id\":\"p1139\"},{\"type\":\"object\",\"name\":\"ResetTool\",\"id\":\"p1140\"},{\"type\":\"object\",\"name\":\"HelpTool\",\"id\":\"p1141\"},{\"type\":\"object\",\"name\":\"HoverTool\",\"id\":\"p1151\",\"attributes\":{\"renderers\":\"auto\",\"tooltips\":[[\"phrase\",\"@phrase\"]]}}],\"active_scroll\":{\"id\":\"p1130\"}}},\"left\":[{\"type\":\"object\",\"name\":\"LinearAxis\",\"id\":\"p1124\",\"attributes\":{\"ticker\":{\"type\":\"object\",\"name\":\"BasicTicker\",\"id\":\"p1125\",\"attributes\":{\"mantissas\":[1,2,5]}},\"formatter\":{\"type\":\"object\",\"name\":\"BasicTickFormatter\",\"id\":\"p1126\"},\"major_label_policy\":{\"type\":\"object\",\"name\":\"AllLabels\",\"id\":\"p1127\"}}}],\"below\":[{\"type\":\"object\",\"name\":\"LinearAxis\",\"id\":\"p1119\",\"attributes\":{\"ticker\":{\"type\":\"object\",\"name\":\"BasicTicker\",\"id\":\"p1120\",\"attributes\":{\"mantissas\":[1,2,5]}},\"formatter\":{\"type\":\"object\",\"name\":\"BasicTickFormatter\",\"id\":\"p1121\"},\"major_label_policy\":{\"type\":\"object\",\"name\":\"AllLabels\",\"id\":\"p1122\"}}}],\"center\":[{\"type\":\"object\",\"name\":\"Grid\",\"id\":\"p1123\",\"attributes\":{\"axis\":{\"id\":\"p1119\"}}},{\"type\":\"object\",\"name\":\"Grid\",\"id\":\"p1128\",\"attributes\":{\"dimension\":1,\"axis\":{\"id\":\"p1124\"}}}]}}]}};\n",
              "  const render_items = [{\"docid\":\"ada727e5-54ea-493f-9689-8a668afafc12\",\"roots\":{\"p1108\":\"a5263ddb-3653-4192-b056-bcba1fa6e200\"},\"root_ids\":[\"p1108\"]}];\n",
              "  void root.Bokeh.embed.embed_items_notebook(docs_json, render_items);\n",
              "  }\n",
              "  if (root.Bokeh !== undefined) {\n",
              "    embed_document(root);\n",
              "  } else {\n",
              "    let attempts = 0;\n",
              "    const timer = setInterval(function(root) {\n",
              "      if (root.Bokeh !== undefined) {\n",
              "        clearInterval(timer);\n",
              "        embed_document(root);\n",
              "      } else {\n",
              "        attempts++;\n",
              "        if (attempts > 100) {\n",
              "          clearInterval(timer);\n",
              "          console.log(\"Bokeh: ERROR: Unable to run BokehJS code because BokehJS library is missing\");\n",
              "        }\n",
              "      }\n",
              "    }, 10, root)\n",
              "  }\n",
              "})(window);"
            ],
            "application/vnd.bokehjs_exec.v0+json": ""
          },
          "metadata": {
            "application/vnd.bokehjs_exec.v0+json": {
              "id": "p1108"
            }
          }
        },
        {
          "output_type": "execute_result",
          "data": {
            "text/plain": [
              "figure(id='p1108', ...)"
            ],
            "text/html": [
              "<div style=\"display: table;\"><div style=\"display: table-row;\"><div style=\"display: table-cell;\"><b title=\"bokeh.plotting._figure.figure\">figure</b>(</div><div style=\"display: table-cell;\">id&nbsp;=&nbsp;'p1108', <span id=\"p1155\" style=\"cursor: pointer;\">&hellip;)</span></div></div><div class=\"p1154\" style=\"display: none;\"><div style=\"display: table-cell;\"></div><div style=\"display: table-cell;\">above&nbsp;=&nbsp;[],</div></div><div class=\"p1154\" style=\"display: none;\"><div style=\"display: table-cell;\"></div><div style=\"display: table-cell;\">align&nbsp;=&nbsp;'auto',</div></div><div class=\"p1154\" style=\"display: none;\"><div style=\"display: table-cell;\"></div><div style=\"display: table-cell;\">aspect_ratio&nbsp;=&nbsp;None,</div></div><div class=\"p1154\" style=\"display: none;\"><div style=\"display: table-cell;\"></div><div style=\"display: table-cell;\">aspect_scale&nbsp;=&nbsp;1,</div></div><div class=\"p1154\" style=\"display: none;\"><div style=\"display: table-cell;\"></div><div style=\"display: table-cell;\">attribution&nbsp;=&nbsp;[],</div></div><div class=\"p1154\" style=\"display: none;\"><div style=\"display: table-cell;\"></div><div style=\"display: table-cell;\">background_fill_alpha&nbsp;=&nbsp;1.0,</div></div><div class=\"p1154\" style=\"display: none;\"><div style=\"display: table-cell;\"></div><div style=\"display: table-cell;\">background_fill_color&nbsp;=&nbsp;'#ffffff',</div></div><div class=\"p1154\" style=\"display: none;\"><div style=\"display: table-cell;\"></div><div style=\"display: table-cell;\">background_hatch_alpha&nbsp;=&nbsp;1.0,</div></div><div class=\"p1154\" style=\"display: none;\"><div style=\"display: table-cell;\"></div><div style=\"display: table-cell;\">background_hatch_color&nbsp;=&nbsp;'black',</div></div><div class=\"p1154\" style=\"display: none;\"><div style=\"display: table-cell;\"></div><div style=\"display: table-cell;\">background_hatch_extra&nbsp;=&nbsp;{},</div></div><div class=\"p1154\" style=\"display: none;\"><div style=\"display: table-cell;\"></div><div style=\"display: table-cell;\">background_hatch_pattern&nbsp;=&nbsp;None,</div></div><div class=\"p1154\" style=\"display: none;\"><div style=\"display: table-cell;\"></div><div style=\"display: table-cell;\">background_hatch_scale&nbsp;=&nbsp;12.0,</div></div><div class=\"p1154\" style=\"display: none;\"><div style=\"display: table-cell;\"></div><div style=\"display: table-cell;\">background_hatch_weight&nbsp;=&nbsp;1.0,</div></div><div class=\"p1154\" style=\"display: none;\"><div style=\"display: table-cell;\"></div><div style=\"display: table-cell;\">below&nbsp;=&nbsp;[LinearAxis(id='p1119', ...)],</div></div><div class=\"p1154\" style=\"display: none;\"><div style=\"display: table-cell;\"></div><div style=\"display: table-cell;\">border_fill_alpha&nbsp;=&nbsp;1.0,</div></div><div class=\"p1154\" style=\"display: none;\"><div style=\"display: table-cell;\"></div><div style=\"display: table-cell;\">border_fill_color&nbsp;=&nbsp;'#ffffff',</div></div><div class=\"p1154\" style=\"display: none;\"><div style=\"display: table-cell;\"></div><div style=\"display: table-cell;\">border_hatch_alpha&nbsp;=&nbsp;1.0,</div></div><div class=\"p1154\" style=\"display: none;\"><div style=\"display: table-cell;\"></div><div style=\"display: table-cell;\">border_hatch_color&nbsp;=&nbsp;'black',</div></div><div class=\"p1154\" style=\"display: none;\"><div style=\"display: table-cell;\"></div><div style=\"display: table-cell;\">border_hatch_extra&nbsp;=&nbsp;{},</div></div><div class=\"p1154\" style=\"display: none;\"><div style=\"display: table-cell;\"></div><div style=\"display: table-cell;\">border_hatch_pattern&nbsp;=&nbsp;None,</div></div><div class=\"p1154\" style=\"display: none;\"><div style=\"display: table-cell;\"></div><div style=\"display: table-cell;\">border_hatch_scale&nbsp;=&nbsp;12.0,</div></div><div class=\"p1154\" style=\"display: none;\"><div style=\"display: table-cell;\"></div><div style=\"display: table-cell;\">border_hatch_weight&nbsp;=&nbsp;1.0,</div></div><div class=\"p1154\" style=\"display: none;\"><div style=\"display: table-cell;\"></div><div style=\"display: table-cell;\">center&nbsp;=&nbsp;[Grid(id='p1123', ...), Grid(id='p1128', ...)],</div></div><div class=\"p1154\" style=\"display: none;\"><div style=\"display: table-cell;\"></div><div style=\"display: table-cell;\">context_menu&nbsp;=&nbsp;'auto',</div></div><div class=\"p1154\" style=\"display: none;\"><div style=\"display: table-cell;\"></div><div style=\"display: table-cell;\">css_classes&nbsp;=&nbsp;[],</div></div><div class=\"p1154\" style=\"display: none;\"><div style=\"display: table-cell;\"></div><div style=\"display: table-cell;\">css_variables&nbsp;=&nbsp;{},</div></div><div class=\"p1154\" style=\"display: none;\"><div style=\"display: table-cell;\"></div><div style=\"display: table-cell;\">disabled&nbsp;=&nbsp;False,</div></div><div class=\"p1154\" style=\"display: none;\"><div style=\"display: table-cell;\"></div><div style=\"display: table-cell;\">elements&nbsp;=&nbsp;[],</div></div><div class=\"p1154\" style=\"display: none;\"><div style=\"display: table-cell;\"></div><div style=\"display: table-cell;\">extra_x_ranges&nbsp;=&nbsp;{},</div></div><div class=\"p1154\" style=\"display: none;\"><div style=\"display: table-cell;\"></div><div style=\"display: table-cell;\">extra_x_scales&nbsp;=&nbsp;{},</div></div><div class=\"p1154\" style=\"display: none;\"><div style=\"display: table-cell;\"></div><div style=\"display: table-cell;\">extra_y_ranges&nbsp;=&nbsp;{},</div></div><div class=\"p1154\" style=\"display: none;\"><div style=\"display: table-cell;\"></div><div style=\"display: table-cell;\">extra_y_scales&nbsp;=&nbsp;{},</div></div><div class=\"p1154\" style=\"display: none;\"><div style=\"display: table-cell;\"></div><div style=\"display: table-cell;\">flow_mode&nbsp;=&nbsp;'block',</div></div><div class=\"p1154\" style=\"display: none;\"><div style=\"display: table-cell;\"></div><div style=\"display: table-cell;\">frame_align&nbsp;=&nbsp;True,</div></div><div class=\"p1154\" style=\"display: none;\"><div style=\"display: table-cell;\"></div><div style=\"display: table-cell;\">frame_height&nbsp;=&nbsp;None,</div></div><div class=\"p1154\" style=\"display: none;\"><div style=\"display: table-cell;\"></div><div style=\"display: table-cell;\">frame_width&nbsp;=&nbsp;None,</div></div><div class=\"p1154\" style=\"display: none;\"><div style=\"display: table-cell;\"></div><div style=\"display: table-cell;\">height&nbsp;=&nbsp;400,</div></div><div class=\"p1154\" style=\"display: none;\"><div style=\"display: table-cell;\"></div><div style=\"display: table-cell;\">height_policy&nbsp;=&nbsp;'auto',</div></div><div class=\"p1154\" style=\"display: none;\"><div style=\"display: table-cell;\"></div><div style=\"display: table-cell;\">hidpi&nbsp;=&nbsp;True,</div></div><div class=\"p1154\" style=\"display: none;\"><div style=\"display: table-cell;\"></div><div style=\"display: table-cell;\">hold_render&nbsp;=&nbsp;False,</div></div><div class=\"p1154\" style=\"display: none;\"><div style=\"display: table-cell;\"></div><div style=\"display: table-cell;\">html_attributes&nbsp;=&nbsp;{},</div></div><div class=\"p1154\" style=\"display: none;\"><div style=\"display: table-cell;\"></div><div style=\"display: table-cell;\">html_id&nbsp;=&nbsp;None,</div></div><div class=\"p1154\" style=\"display: none;\"><div style=\"display: table-cell;\"></div><div style=\"display: table-cell;\">js_event_callbacks&nbsp;=&nbsp;{},</div></div><div class=\"p1154\" style=\"display: none;\"><div style=\"display: table-cell;\"></div><div style=\"display: table-cell;\">js_property_callbacks&nbsp;=&nbsp;{},</div></div><div class=\"p1154\" style=\"display: none;\"><div style=\"display: table-cell;\"></div><div style=\"display: table-cell;\">left&nbsp;=&nbsp;[LinearAxis(id='p1124', ...)],</div></div><div class=\"p1154\" style=\"display: none;\"><div style=\"display: table-cell;\"></div><div style=\"display: table-cell;\">lod_factor&nbsp;=&nbsp;10,</div></div><div class=\"p1154\" style=\"display: none;\"><div style=\"display: table-cell;\"></div><div style=\"display: table-cell;\">lod_interval&nbsp;=&nbsp;300,</div></div><div class=\"p1154\" style=\"display: none;\"><div style=\"display: table-cell;\"></div><div style=\"display: table-cell;\">lod_threshold&nbsp;=&nbsp;2000,</div></div><div class=\"p1154\" style=\"display: none;\"><div style=\"display: table-cell;\"></div><div style=\"display: table-cell;\">lod_timeout&nbsp;=&nbsp;500,</div></div><div class=\"p1154\" style=\"display: none;\"><div style=\"display: table-cell;\"></div><div style=\"display: table-cell;\">margin&nbsp;=&nbsp;None,</div></div><div class=\"p1154\" style=\"display: none;\"><div style=\"display: table-cell;\"></div><div style=\"display: table-cell;\">match_aspect&nbsp;=&nbsp;False,</div></div><div class=\"p1154\" style=\"display: none;\"><div style=\"display: table-cell;\"></div><div style=\"display: table-cell;\">max_height&nbsp;=&nbsp;None,</div></div><div class=\"p1154\" style=\"display: none;\"><div style=\"display: table-cell;\"></div><div style=\"display: table-cell;\">max_width&nbsp;=&nbsp;None,</div></div><div class=\"p1154\" style=\"display: none;\"><div style=\"display: table-cell;\"></div><div style=\"display: table-cell;\">min_border&nbsp;=&nbsp;5,</div></div><div class=\"p1154\" style=\"display: none;\"><div style=\"display: table-cell;\"></div><div style=\"display: table-cell;\">min_border_bottom&nbsp;=&nbsp;None,</div></div><div class=\"p1154\" style=\"display: none;\"><div style=\"display: table-cell;\"></div><div style=\"display: table-cell;\">min_border_left&nbsp;=&nbsp;None,</div></div><div class=\"p1154\" style=\"display: none;\"><div style=\"display: table-cell;\"></div><div style=\"display: table-cell;\">min_border_right&nbsp;=&nbsp;None,</div></div><div class=\"p1154\" style=\"display: none;\"><div style=\"display: table-cell;\"></div><div style=\"display: table-cell;\">min_border_top&nbsp;=&nbsp;None,</div></div><div class=\"p1154\" style=\"display: none;\"><div style=\"display: table-cell;\"></div><div style=\"display: table-cell;\">min_height&nbsp;=&nbsp;None,</div></div><div class=\"p1154\" style=\"display: none;\"><div style=\"display: table-cell;\"></div><div style=\"display: table-cell;\">min_width&nbsp;=&nbsp;None,</div></div><div class=\"p1154\" style=\"display: none;\"><div style=\"display: table-cell;\"></div><div style=\"display: table-cell;\">name&nbsp;=&nbsp;None,</div></div><div class=\"p1154\" style=\"display: none;\"><div style=\"display: table-cell;\"></div><div style=\"display: table-cell;\">outline_line_alpha&nbsp;=&nbsp;1.0,</div></div><div class=\"p1154\" style=\"display: none;\"><div style=\"display: table-cell;\"></div><div style=\"display: table-cell;\">outline_line_cap&nbsp;=&nbsp;'butt',</div></div><div class=\"p1154\" style=\"display: none;\"><div style=\"display: table-cell;\"></div><div style=\"display: table-cell;\">outline_line_color&nbsp;=&nbsp;'#e5e5e5',</div></div><div class=\"p1154\" style=\"display: none;\"><div style=\"display: table-cell;\"></div><div style=\"display: table-cell;\">outline_line_dash&nbsp;=&nbsp;[],</div></div><div class=\"p1154\" style=\"display: none;\"><div style=\"display: table-cell;\"></div><div style=\"display: table-cell;\">outline_line_dash_offset&nbsp;=&nbsp;0,</div></div><div class=\"p1154\" style=\"display: none;\"><div style=\"display: table-cell;\"></div><div style=\"display: table-cell;\">outline_line_join&nbsp;=&nbsp;'bevel',</div></div><div class=\"p1154\" style=\"display: none;\"><div style=\"display: table-cell;\"></div><div style=\"display: table-cell;\">outline_line_width&nbsp;=&nbsp;1,</div></div><div class=\"p1154\" style=\"display: none;\"><div style=\"display: table-cell;\"></div><div style=\"display: table-cell;\">output_backend&nbsp;=&nbsp;'canvas',</div></div><div class=\"p1154\" style=\"display: none;\"><div style=\"display: table-cell;\"></div><div style=\"display: table-cell;\">renderers&nbsp;=&nbsp;[GlyphRenderer(id='p1148', ...)],</div></div><div class=\"p1154\" style=\"display: none;\"><div style=\"display: table-cell;\"></div><div style=\"display: table-cell;\">reset_policy&nbsp;=&nbsp;'standard',</div></div><div class=\"p1154\" style=\"display: none;\"><div style=\"display: table-cell;\"></div><div style=\"display: table-cell;\">resizable&nbsp;=&nbsp;False,</div></div><div class=\"p1154\" style=\"display: none;\"><div style=\"display: table-cell;\"></div><div style=\"display: table-cell;\">right&nbsp;=&nbsp;[],</div></div><div class=\"p1154\" style=\"display: none;\"><div style=\"display: table-cell;\"></div><div style=\"display: table-cell;\">sizing_mode&nbsp;=&nbsp;None,</div></div><div class=\"p1154\" style=\"display: none;\"><div style=\"display: table-cell;\"></div><div style=\"display: table-cell;\">styles&nbsp;=&nbsp;{},</div></div><div class=\"p1154\" style=\"display: none;\"><div style=\"display: table-cell;\"></div><div style=\"display: table-cell;\">stylesheets&nbsp;=&nbsp;[],</div></div><div class=\"p1154\" style=\"display: none;\"><div style=\"display: table-cell;\"></div><div style=\"display: table-cell;\">subscribed_events&nbsp;=&nbsp;PropertyValueSet(),</div></div><div class=\"p1154\" style=\"display: none;\"><div style=\"display: table-cell;\"></div><div style=\"display: table-cell;\">syncable&nbsp;=&nbsp;True,</div></div><div class=\"p1154\" style=\"display: none;\"><div style=\"display: table-cell;\"></div><div style=\"display: table-cell;\">tags&nbsp;=&nbsp;[],</div></div><div class=\"p1154\" style=\"display: none;\"><div style=\"display: table-cell;\"></div><div style=\"display: table-cell;\">title&nbsp;=&nbsp;Title(id='p1115', ...),</div></div><div class=\"p1154\" style=\"display: none;\"><div style=\"display: table-cell;\"></div><div style=\"display: table-cell;\">title_location&nbsp;=&nbsp;'above',</div></div><div class=\"p1154\" style=\"display: none;\"><div style=\"display: table-cell;\"></div><div style=\"display: table-cell;\">toolbar&nbsp;=&nbsp;Toolbar(id='p1116', ...),</div></div><div class=\"p1154\" style=\"display: none;\"><div style=\"display: table-cell;\"></div><div style=\"display: table-cell;\">toolbar_inner&nbsp;=&nbsp;False,</div></div><div class=\"p1154\" style=\"display: none;\"><div style=\"display: table-cell;\"></div><div style=\"display: table-cell;\">toolbar_location&nbsp;=&nbsp;'right',</div></div><div class=\"p1154\" style=\"display: none;\"><div style=\"display: table-cell;\"></div><div style=\"display: table-cell;\">toolbar_sticky&nbsp;=&nbsp;True,</div></div><div class=\"p1154\" style=\"display: none;\"><div style=\"display: table-cell;\"></div><div style=\"display: table-cell;\">visible&nbsp;=&nbsp;True,</div></div><div class=\"p1154\" style=\"display: none;\"><div style=\"display: table-cell;\"></div><div style=\"display: table-cell;\">width&nbsp;=&nbsp;600,</div></div><div class=\"p1154\" style=\"display: none;\"><div style=\"display: table-cell;\"></div><div style=\"display: table-cell;\">width_policy&nbsp;=&nbsp;'auto',</div></div><div class=\"p1154\" style=\"display: none;\"><div style=\"display: table-cell;\"></div><div style=\"display: table-cell;\">window_axis&nbsp;=&nbsp;'none',</div></div><div class=\"p1154\" style=\"display: none;\"><div style=\"display: table-cell;\"></div><div style=\"display: table-cell;\">x_range&nbsp;=&nbsp;DataRange1d(id='p1109', ...),</div></div><div class=\"p1154\" style=\"display: none;\"><div style=\"display: table-cell;\"></div><div style=\"display: table-cell;\">x_scale&nbsp;=&nbsp;LinearScale(id='p1117', ...),</div></div><div class=\"p1154\" style=\"display: none;\"><div style=\"display: table-cell;\"></div><div style=\"display: table-cell;\">y_range&nbsp;=&nbsp;DataRange1d(id='p1110', ...),</div></div><div class=\"p1154\" style=\"display: none;\"><div style=\"display: table-cell;\"></div><div style=\"display: table-cell;\">y_scale&nbsp;=&nbsp;LinearScale(id='p1118', ...))</div></div></div>\n",
              "<script>\n",
              "(function() {\n",
              "  let expanded = false;\n",
              "  const ellipsis = document.getElementById(\"p1155\");\n",
              "  ellipsis.addEventListener(\"click\", function() {\n",
              "    const rows = document.getElementsByClassName(\"p1154\");\n",
              "    for (let i = 0; i < rows.length; i++) {\n",
              "      const el = rows[i];\n",
              "      el.style.display = expanded ? \"none\" : \"table-row\";\n",
              "    }\n",
              "    ellipsis.innerHTML = expanded ? \"&hellip;)\" : \"&lsaquo;&lsaquo;&lsaquo;\";\n",
              "    expanded = !expanded;\n",
              "  });\n",
              "})();\n",
              "</script>\n"
            ]
          },
          "metadata": {},
          "execution_count": 28
        }
      ],
      "source": [
        "draw_vectors(phrase_vectors_2d[:, 0], phrase_vectors_2d[:, 1],\n",
        "             phrase=[phrase[:50] for phrase in chosen_phrases],\n",
        "             radius=20,)"
      ]
    },
    {
      "cell_type": "markdown",
      "metadata": {
        "id": "njeRuTEWMgZi"
      },
      "source": [
        "**There's more below! Scroll down when you're ready.**\n",
        "```\n",
        "\n",
        "```\n",
        "\n",
        "```\n",
        "\n",
        "```\n",
        "\n",
        "```\n",
        "\n",
        "```\n",
        "\n",
        "```\n",
        "\n",
        "```\n",
        "\n",
        "```\n",
        "\n",
        "```\n",
        "\n",
        "```\n",
        "\n",
        "```\n",
        "\n",
        "```\n",
        "\n",
        "```\n",
        "\n",
        "```\n",
        "\n",
        "```\n",
        "\n",
        "```\n",
        "\n",
        "```\n",
        "\n",
        "```\n",
        "\n",
        "```\n",
        "\n",
        "```\n",
        "\n",
        "```\n",
        "\n",
        "```\n",
        "\n",
        "```\n",
        "\n",
        "\n",
        "### Text Classification: Prohibited Comment Classification\n",
        "\n",
        "![img](https://github.com/yandexdataschool/nlp_course/raw/master/resources/banhammer.jpg)\n",
        "\n",
        "__In this notebook__ you will build an algorithm that classifies social media comments into normal or toxic.\n",
        "Like in many real-world cases, you only have a small (10^3) dataset of hand-labeled examples to work with. We'll tackle this problem using both classical nlp methods and embedding-based approach."
      ]
    },
    {
      "cell_type": "code",
      "execution_count": 29,
      "metadata": {
        "id": "QhayNFopMgZi"
      },
      "outputs": [],
      "source": [
        "# if you're in colab, download the data:\n",
        "!wget https://raw.githubusercontent.com/yandexdataschool/nlp_course/refs/heads/2025/week01_embeddings/comments.tsv -O ./comments.tsv -q"
      ]
    },
    {
      "cell_type": "code",
      "execution_count": 30,
      "metadata": {
        "colab": {
          "base_uri": "https://localhost:8080/",
          "height": 206
        },
        "id": "Bou9oprFMgZi",
        "outputId": "2aa6d235-12d3-4abf-eda7-9e186435ed41"
      },
      "outputs": [
        {
          "output_type": "execute_result",
          "data": {
            "text/plain": [
              "     should_ban                                       comment_text\n",
              "50            0  \"Those who're in advantageous positions are th...\n",
              "250           1          Fartsalot56 says f**k you motherclucker!!\n",
              "450           1  Are you a fool? \\n\\nI am sorry, but you seem t...\n",
              "650           1    I AM NOT A VANDAL!!!!!!!!!!!!!!!!!!!!!!!!!!!!!!\n",
              "850           0  Citing sources\\n\\nCheck out the Wikipedia:Citi..."
            ],
            "text/html": [
              "\n",
              "  <div id=\"df-b5211b42-3ada-4260-9de6-5c2239d12bbc\" class=\"colab-df-container\">\n",
              "    <div>\n",
              "<style scoped>\n",
              "    .dataframe tbody tr th:only-of-type {\n",
              "        vertical-align: middle;\n",
              "    }\n",
              "\n",
              "    .dataframe tbody tr th {\n",
              "        vertical-align: top;\n",
              "    }\n",
              "\n",
              "    .dataframe thead th {\n",
              "        text-align: right;\n",
              "    }\n",
              "</style>\n",
              "<table border=\"1\" class=\"dataframe\">\n",
              "  <thead>\n",
              "    <tr style=\"text-align: right;\">\n",
              "      <th></th>\n",
              "      <th>should_ban</th>\n",
              "      <th>comment_text</th>\n",
              "    </tr>\n",
              "  </thead>\n",
              "  <tbody>\n",
              "    <tr>\n",
              "      <th>50</th>\n",
              "      <td>0</td>\n",
              "      <td>\"Those who're in advantageous positions are th...</td>\n",
              "    </tr>\n",
              "    <tr>\n",
              "      <th>250</th>\n",
              "      <td>1</td>\n",
              "      <td>Fartsalot56 says f**k you motherclucker!!</td>\n",
              "    </tr>\n",
              "    <tr>\n",
              "      <th>450</th>\n",
              "      <td>1</td>\n",
              "      <td>Are you a fool? \\n\\nI am sorry, but you seem t...</td>\n",
              "    </tr>\n",
              "    <tr>\n",
              "      <th>650</th>\n",
              "      <td>1</td>\n",
              "      <td>I AM NOT A VANDAL!!!!!!!!!!!!!!!!!!!!!!!!!!!!!!</td>\n",
              "    </tr>\n",
              "    <tr>\n",
              "      <th>850</th>\n",
              "      <td>0</td>\n",
              "      <td>Citing sources\\n\\nCheck out the Wikipedia:Citi...</td>\n",
              "    </tr>\n",
              "  </tbody>\n",
              "</table>\n",
              "</div>\n",
              "    <div class=\"colab-df-buttons\">\n",
              "\n",
              "  <div class=\"colab-df-container\">\n",
              "    <button class=\"colab-df-convert\" onclick=\"convertToInteractive('df-b5211b42-3ada-4260-9de6-5c2239d12bbc')\"\n",
              "            title=\"Convert this dataframe to an interactive table.\"\n",
              "            style=\"display:none;\">\n",
              "\n",
              "  <svg xmlns=\"http://www.w3.org/2000/svg\" height=\"24px\" viewBox=\"0 -960 960 960\">\n",
              "    <path d=\"M120-120v-720h720v720H120Zm60-500h600v-160H180v160Zm220 220h160v-160H400v160Zm0 220h160v-160H400v160ZM180-400h160v-160H180v160Zm440 0h160v-160H620v160ZM180-180h160v-160H180v160Zm440 0h160v-160H620v160Z\"/>\n",
              "  </svg>\n",
              "    </button>\n",
              "\n",
              "  <style>\n",
              "    .colab-df-container {\n",
              "      display:flex;\n",
              "      gap: 12px;\n",
              "    }\n",
              "\n",
              "    .colab-df-convert {\n",
              "      background-color: #E8F0FE;\n",
              "      border: none;\n",
              "      border-radius: 50%;\n",
              "      cursor: pointer;\n",
              "      display: none;\n",
              "      fill: #1967D2;\n",
              "      height: 32px;\n",
              "      padding: 0 0 0 0;\n",
              "      width: 32px;\n",
              "    }\n",
              "\n",
              "    .colab-df-convert:hover {\n",
              "      background-color: #E2EBFA;\n",
              "      box-shadow: 0px 1px 2px rgba(60, 64, 67, 0.3), 0px 1px 3px 1px rgba(60, 64, 67, 0.15);\n",
              "      fill: #174EA6;\n",
              "    }\n",
              "\n",
              "    .colab-df-buttons div {\n",
              "      margin-bottom: 4px;\n",
              "    }\n",
              "\n",
              "    [theme=dark] .colab-df-convert {\n",
              "      background-color: #3B4455;\n",
              "      fill: #D2E3FC;\n",
              "    }\n",
              "\n",
              "    [theme=dark] .colab-df-convert:hover {\n",
              "      background-color: #434B5C;\n",
              "      box-shadow: 0px 1px 3px 1px rgba(0, 0, 0, 0.15);\n",
              "      filter: drop-shadow(0px 1px 2px rgba(0, 0, 0, 0.3));\n",
              "      fill: #FFFFFF;\n",
              "    }\n",
              "  </style>\n",
              "\n",
              "    <script>\n",
              "      const buttonEl =\n",
              "        document.querySelector('#df-b5211b42-3ada-4260-9de6-5c2239d12bbc button.colab-df-convert');\n",
              "      buttonEl.style.display =\n",
              "        google.colab.kernel.accessAllowed ? 'block' : 'none';\n",
              "\n",
              "      async function convertToInteractive(key) {\n",
              "        const element = document.querySelector('#df-b5211b42-3ada-4260-9de6-5c2239d12bbc');\n",
              "        const dataTable =\n",
              "          await google.colab.kernel.invokeFunction('convertToInteractive',\n",
              "                                                    [key], {});\n",
              "        if (!dataTable) return;\n",
              "\n",
              "        const docLinkHtml = 'Like what you see? Visit the ' +\n",
              "          '<a target=\"_blank\" href=https://colab.research.google.com/notebooks/data_table.ipynb>data table notebook</a>'\n",
              "          + ' to learn more about interactive tables.';\n",
              "        element.innerHTML = '';\n",
              "        dataTable['output_type'] = 'display_data';\n",
              "        await google.colab.output.renderOutput(dataTable, element);\n",
              "        const docLink = document.createElement('div');\n",
              "        docLink.innerHTML = docLinkHtml;\n",
              "        element.appendChild(docLink);\n",
              "      }\n",
              "    </script>\n",
              "  </div>\n",
              "\n",
              "\n",
              "    <div id=\"df-970c51b7-561f-446e-a6c6-f7efd449adfa\">\n",
              "      <button class=\"colab-df-quickchart\" onclick=\"quickchart('df-970c51b7-561f-446e-a6c6-f7efd449adfa')\"\n",
              "                title=\"Suggest charts\"\n",
              "                style=\"display:none;\">\n",
              "\n",
              "<svg xmlns=\"http://www.w3.org/2000/svg\" height=\"24px\"viewBox=\"0 0 24 24\"\n",
              "     width=\"24px\">\n",
              "    <g>\n",
              "        <path d=\"M19 3H5c-1.1 0-2 .9-2 2v14c0 1.1.9 2 2 2h14c1.1 0 2-.9 2-2V5c0-1.1-.9-2-2-2zM9 17H7v-7h2v7zm4 0h-2V7h2v10zm4 0h-2v-4h2v4z\"/>\n",
              "    </g>\n",
              "</svg>\n",
              "      </button>\n",
              "\n",
              "<style>\n",
              "  .colab-df-quickchart {\n",
              "      --bg-color: #E8F0FE;\n",
              "      --fill-color: #1967D2;\n",
              "      --hover-bg-color: #E2EBFA;\n",
              "      --hover-fill-color: #174EA6;\n",
              "      --disabled-fill-color: #AAA;\n",
              "      --disabled-bg-color: #DDD;\n",
              "  }\n",
              "\n",
              "  [theme=dark] .colab-df-quickchart {\n",
              "      --bg-color: #3B4455;\n",
              "      --fill-color: #D2E3FC;\n",
              "      --hover-bg-color: #434B5C;\n",
              "      --hover-fill-color: #FFFFFF;\n",
              "      --disabled-bg-color: #3B4455;\n",
              "      --disabled-fill-color: #666;\n",
              "  }\n",
              "\n",
              "  .colab-df-quickchart {\n",
              "    background-color: var(--bg-color);\n",
              "    border: none;\n",
              "    border-radius: 50%;\n",
              "    cursor: pointer;\n",
              "    display: none;\n",
              "    fill: var(--fill-color);\n",
              "    height: 32px;\n",
              "    padding: 0;\n",
              "    width: 32px;\n",
              "  }\n",
              "\n",
              "  .colab-df-quickchart:hover {\n",
              "    background-color: var(--hover-bg-color);\n",
              "    box-shadow: 0 1px 2px rgba(60, 64, 67, 0.3), 0 1px 3px 1px rgba(60, 64, 67, 0.15);\n",
              "    fill: var(--button-hover-fill-color);\n",
              "  }\n",
              "\n",
              "  .colab-df-quickchart-complete:disabled,\n",
              "  .colab-df-quickchart-complete:disabled:hover {\n",
              "    background-color: var(--disabled-bg-color);\n",
              "    fill: var(--disabled-fill-color);\n",
              "    box-shadow: none;\n",
              "  }\n",
              "\n",
              "  .colab-df-spinner {\n",
              "    border: 2px solid var(--fill-color);\n",
              "    border-color: transparent;\n",
              "    border-bottom-color: var(--fill-color);\n",
              "    animation:\n",
              "      spin 1s steps(1) infinite;\n",
              "  }\n",
              "\n",
              "  @keyframes spin {\n",
              "    0% {\n",
              "      border-color: transparent;\n",
              "      border-bottom-color: var(--fill-color);\n",
              "      border-left-color: var(--fill-color);\n",
              "    }\n",
              "    20% {\n",
              "      border-color: transparent;\n",
              "      border-left-color: var(--fill-color);\n",
              "      border-top-color: var(--fill-color);\n",
              "    }\n",
              "    30% {\n",
              "      border-color: transparent;\n",
              "      border-left-color: var(--fill-color);\n",
              "      border-top-color: var(--fill-color);\n",
              "      border-right-color: var(--fill-color);\n",
              "    }\n",
              "    40% {\n",
              "      border-color: transparent;\n",
              "      border-right-color: var(--fill-color);\n",
              "      border-top-color: var(--fill-color);\n",
              "    }\n",
              "    60% {\n",
              "      border-color: transparent;\n",
              "      border-right-color: var(--fill-color);\n",
              "    }\n",
              "    80% {\n",
              "      border-color: transparent;\n",
              "      border-right-color: var(--fill-color);\n",
              "      border-bottom-color: var(--fill-color);\n",
              "    }\n",
              "    90% {\n",
              "      border-color: transparent;\n",
              "      border-bottom-color: var(--fill-color);\n",
              "    }\n",
              "  }\n",
              "</style>\n",
              "\n",
              "      <script>\n",
              "        async function quickchart(key) {\n",
              "          const quickchartButtonEl =\n",
              "            document.querySelector('#' + key + ' button');\n",
              "          quickchartButtonEl.disabled = true;  // To prevent multiple clicks.\n",
              "          quickchartButtonEl.classList.add('colab-df-spinner');\n",
              "          try {\n",
              "            const charts = await google.colab.kernel.invokeFunction(\n",
              "                'suggestCharts', [key], {});\n",
              "          } catch (error) {\n",
              "            console.error('Error during call to suggestCharts:', error);\n",
              "          }\n",
              "          quickchartButtonEl.classList.remove('colab-df-spinner');\n",
              "          quickchartButtonEl.classList.add('colab-df-quickchart-complete');\n",
              "        }\n",
              "        (() => {\n",
              "          let quickchartButtonEl =\n",
              "            document.querySelector('#df-970c51b7-561f-446e-a6c6-f7efd449adfa button');\n",
              "          quickchartButtonEl.style.display =\n",
              "            google.colab.kernel.accessAllowed ? 'block' : 'none';\n",
              "        })();\n",
              "      </script>\n",
              "    </div>\n",
              "    </div>\n",
              "  </div>\n"
            ],
            "application/vnd.google.colaboratory.intrinsic+json": {
              "type": "dataframe",
              "summary": "{\n  \"name\": \"data[50::200]\",\n  \"rows\": 5,\n  \"fields\": [\n    {\n      \"column\": \"should_ban\",\n      \"properties\": {\n        \"dtype\": \"number\",\n        \"std\": 0,\n        \"min\": 0,\n        \"max\": 1,\n        \"num_unique_values\": 2,\n        \"samples\": [\n          1,\n          0\n        ],\n        \"semantic_type\": \"\",\n        \"description\": \"\"\n      }\n    },\n    {\n      \"column\": \"comment_text\",\n      \"properties\": {\n        \"dtype\": \"string\",\n        \"num_unique_values\": 5,\n        \"samples\": [\n          \"Fartsalot56 says f**k you motherclucker!!\",\n          \"Citing sources\\n\\nCheck out the Wikipedia:Citing sources page for help with this. 58.8.18.35\"\n        ],\n        \"semantic_type\": \"\",\n        \"description\": \"\"\n      }\n    }\n  ]\n}"
            }
          },
          "metadata": {},
          "execution_count": 30
        }
      ],
      "source": [
        "import numpy as np\n",
        "import pandas as pd\n",
        "import matplotlib.pyplot as plt\n",
        "%matplotlib inline\n",
        "data = pd.read_csv(\"comments.tsv\", sep='\\t')\n",
        "\n",
        "texts = data['comment_text'].values\n",
        "target = data['should_ban'].values\n",
        "data[50::200]"
      ]
    },
    {
      "cell_type": "code",
      "execution_count": 31,
      "metadata": {
        "id": "ZdMDslSoMgZm"
      },
      "outputs": [],
      "source": [
        "from sklearn.model_selection import train_test_split\n",
        "texts_train, texts_test, y_train, y_test = train_test_split(texts, target, test_size=0.5, random_state=42)"
      ]
    },
    {
      "cell_type": "markdown",
      "metadata": {
        "id": "oYTpx5crMgZn"
      },
      "source": [
        "__Note:__ it is generally a good idea to split data into train/test before anything is done to them.\n",
        "\n",
        "It guards you against possible data leakage in the preprocessing stage. For example, should you decide to select words present in obscene tweets as features, you should only count those words over the training set. Otherwise your algoritm can cheat evaluation."
      ]
    },
    {
      "cell_type": "markdown",
      "metadata": {
        "id": "HX1-HisvMgZn"
      },
      "source": [
        "### Preprocessing and tokenization\n",
        "\n",
        "Comments contain raw text with punctuation, upper/lowercase letters and even newline symbols.\n",
        "\n",
        "To simplify all further steps, we'll split text into space-separated tokens using one of nltk tokenizers."
      ]
    },
    {
      "cell_type": "code",
      "execution_count": 32,
      "metadata": {
        "colab": {
          "base_uri": "https://localhost:8080/"
        },
        "id": "XPNsC5HsMgZn",
        "outputId": "ca9866f1-3035-4c9d-8f10-bc163c6645d1"
      },
      "outputs": [
        {
          "output_type": "stream",
          "name": "stdout",
          "text": [
            "before: How to be a grown-up at work: replace \"fuck you\" with \"Ok, great!\".\n",
            "after: how to be a grown-up at work : replace \" fuck you \" with \" ok , great ! \" .\n"
          ]
        }
      ],
      "source": [
        "from nltk.tokenize import TweetTokenizer\n",
        "tokenizer = TweetTokenizer()\n",
        "preprocess = lambda text: ' '.join(tokenizer.tokenize(text.lower()))\n",
        "\n",
        "text = 'How to be a grown-up at work: replace \"fuck you\" with \"Ok, great!\".'\n",
        "print(\"before:\", text,)\n",
        "print(\"after:\", preprocess(text),)"
      ]
    },
    {
      "cell_type": "code",
      "execution_count": 33,
      "metadata": {
        "id": "rgwuLLU0MgZn"
      },
      "outputs": [],
      "source": [
        "# task: preprocess each comment in train and test\n",
        "\n",
        "texts_train = [preprocess(comment) for comment in texts_train]  # YOUR CODE\n",
        "texts_test = [preprocess(comment) for comment in texts_test]  # YOUR CODE"
      ]
    },
    {
      "cell_type": "code",
      "execution_count": 34,
      "metadata": {
        "id": "nuo2wh6uMgZo"
      },
      "outputs": [],
      "source": [
        "assert texts_train[5] ==  'who cares anymore . they attack with impunity .'\n",
        "assert texts_test[89] == 'hey todds ! quick q ? why are you so gay'\n",
        "assert len(texts_test) == len(y_test)"
      ]
    },
    {
      "cell_type": "markdown",
      "metadata": {
        "id": "hLyF_rC0MgZo"
      },
      "source": [
        "### Solving it: bag of words (1 point)\n",
        "\n",
        "![img](http://www.novuslight.com/uploads/n/BagofWords.jpg)\n",
        "\n",
        "One traditional approach to such problem is to use bag of words features:\n",
        "1. build a vocabulary of frequent words (use train data only)\n",
        "2. for each training sample, count the number of times a word occurs in it (for each word in vocabulary).\n",
        "3. consider this count a feature for some classifier\n",
        "\n",
        "__Note:__ in practice, you can compute such features using sklearn. Please don't do that in the current assignment, though.\n",
        "* `from sklearn.feature_extraction.text import CountVectorizer, TfidfVectorizer`"
      ]
    },
    {
      "cell_type": "code",
      "execution_count": 57,
      "metadata": {
        "colab": {
          "base_uri": "https://localhost:8080/"
        },
        "id": "nEH-pIKLMgZo",
        "outputId": "409f2766-be18-4f25-c884-3a3ef8a03a9f"
      },
      "outputs": [
        {
          "output_type": "stream",
          "name": "stdout",
          "text": [
            "example features: ['!', '12:20', '300', '_', 'adorned', 'alternative', 'archive', 'average', 'benkner', 'bout', 'came', 'chest', 'combined', 'consumers', 'cricket', 'decisions', 'dickheads', 'domestic', 'eductaion', 'essentially', 'faggot', 'firms', 'frustrated', 'goal', 'hanibal', 'hip-hop', 'identified', 'infoboxes', 'issue', 'kindergarten', 'lets', 'lot', \"mclaren's\", 'moderator', 'naturally', 'noticeable', 'opposing', 'pdf', 'plant', 'pretoria', 'punctuation', 'rebels', 'repetative', 'riadh', 'schulz', 'shes', 'slit', 'spoof', 'stupid', 't', 'theoretical', 'topic', 'uglyness', 'userspace', 'wanted', 'wikieditor', 'year', '←']\n"
          ]
        }
      ],
      "source": [
        "from collections import Counter\n",
        "\n",
        "# task: find up to k most frequent tokens in texts_train,\n",
        "# sort them by number of occurrences (highest first)\n",
        "k = 10000\n",
        "\n",
        "# YOUR CODE\n",
        "\n",
        "sent_of_tokens = list(map(str.split, texts_train))\n",
        "counter = Counter([word for sent in sent_of_tokens for word in sent])\n",
        "most_common_words = map(lambda x: x[0], counter.most_common(k))\n",
        "bow_vocabulary = {word: i for i, word in enumerate(most_common_words)}  # YOUR CODE\n",
        "\n",
        "print('example features:', sorted(bow_vocabulary)[::100])"
      ]
    },
    {
      "cell_type": "code",
      "execution_count": 75,
      "metadata": {
        "id": "YKQlQeL7MgZo"
      },
      "outputs": [],
      "source": [
        "words_in_vocab = set(bow_vocabulary.keys())\n",
        "len_vocab = len(bow_vocabulary)\n",
        "\n",
        "def text_to_bow(text):\n",
        "    \"\"\" convert text string to an array of token counts. Use bow_vocabulary. \"\"\"\n",
        "    vector = np.zeros(len_vocab, dtype='float32')\n",
        "    tokens = text.split()\n",
        "    counter = Counter(tokens)\n",
        "    token_in_vocab = set(counter.keys()).intersection(words_in_vocab)\n",
        "\n",
        "    for token in token_in_vocab:\n",
        "      vector[bow_vocabulary[token]] = counter[token]\n",
        "\n",
        "    return vector"
      ]
    },
    {
      "cell_type": "code",
      "execution_count": 77,
      "metadata": {
        "id": "vNT-Og9JMgZo"
      },
      "outputs": [],
      "source": [
        "X_train_bow = np.stack(list(map(text_to_bow, texts_train)))\n",
        "X_test_bow = np.stack(list(map(text_to_bow, texts_test)))"
      ]
    },
    {
      "cell_type": "code",
      "execution_count": 78,
      "metadata": {
        "colab": {
          "base_uri": "https://localhost:8080/",
          "height": 176
        },
        "id": "xGxuEBwfMgZp",
        "outputId": "b59fc1be-73a9-4ca3-e489-ed95c8fcb707"
      },
      "outputs": [
        {
          "output_type": "error",
          "ename": "AttributeError",
          "evalue": "'dict' object has no attribute 'index'",
          "traceback": [
            "\u001b[0;31m---------------------------------------------------------------------------\u001b[0m",
            "\u001b[0;31mAttributeError\u001b[0m                            Traceback (most recent call last)",
            "\u001b[0;32m/tmp/ipython-input-770415411.py\u001b[0m in \u001b[0;36m<cell line: 0>\u001b[0;34m()\u001b[0m\n\u001b[1;32m      4\u001b[0m \u001b[0;32massert\u001b[0m \u001b[0mnp\u001b[0m\u001b[0;34m.\u001b[0m\u001b[0mall\u001b[0m\u001b[0;34m(\u001b[0m\u001b[0mX_train_bow\u001b[0m\u001b[0;34m[\u001b[0m\u001b[0;36m5\u001b[0m\u001b[0;34m:\u001b[0m\u001b[0;36m10\u001b[0m\u001b[0;34m]\u001b[0m\u001b[0;34m.\u001b[0m\u001b[0msum\u001b[0m\u001b[0;34m(\u001b[0m\u001b[0;34m-\u001b[0m\u001b[0;36m1\u001b[0m\u001b[0;34m)\u001b[0m \u001b[0;34m==\u001b[0m \u001b[0mnp\u001b[0m\u001b[0;34m.\u001b[0m\u001b[0marray\u001b[0m\u001b[0;34m(\u001b[0m\u001b[0;34m[\u001b[0m\u001b[0mlen\u001b[0m\u001b[0;34m(\u001b[0m\u001b[0ms\u001b[0m\u001b[0;34m.\u001b[0m\u001b[0msplit\u001b[0m\u001b[0;34m(\u001b[0m\u001b[0;34m)\u001b[0m\u001b[0;34m)\u001b[0m \u001b[0;32mfor\u001b[0m \u001b[0ms\u001b[0m \u001b[0;32min\u001b[0m  \u001b[0mtexts_train\u001b[0m\u001b[0;34m[\u001b[0m\u001b[0;36m5\u001b[0m\u001b[0;34m:\u001b[0m\u001b[0;36m10\u001b[0m\u001b[0;34m]\u001b[0m\u001b[0;34m]\u001b[0m\u001b[0;34m)\u001b[0m\u001b[0;34m)\u001b[0m\u001b[0;34m\u001b[0m\u001b[0;34m\u001b[0m\u001b[0m\n\u001b[1;32m      5\u001b[0m \u001b[0;32massert\u001b[0m \u001b[0mlen\u001b[0m\u001b[0;34m(\u001b[0m\u001b[0mbow_vocabulary\u001b[0m\u001b[0;34m)\u001b[0m \u001b[0;34m<=\u001b[0m \u001b[0mmin\u001b[0m\u001b[0;34m(\u001b[0m\u001b[0mk\u001b[0m\u001b[0;34m,\u001b[0m \u001b[0mk_max\u001b[0m\u001b[0;34m)\u001b[0m\u001b[0;34m\u001b[0m\u001b[0;34m\u001b[0m\u001b[0m\n\u001b[0;32m----> 6\u001b[0;31m \u001b[0;32massert\u001b[0m \u001b[0mX_train_bow\u001b[0m\u001b[0;34m[\u001b[0m\u001b[0;36m6\u001b[0m\u001b[0;34m,\u001b[0m \u001b[0mbow_vocabulary\u001b[0m\u001b[0;34m.\u001b[0m\u001b[0mindex\u001b[0m\u001b[0;34m(\u001b[0m\u001b[0;34m'.'\u001b[0m\u001b[0;34m)\u001b[0m\u001b[0;34m]\u001b[0m \u001b[0;34m==\u001b[0m \u001b[0mtexts_train\u001b[0m\u001b[0;34m[\u001b[0m\u001b[0;36m6\u001b[0m\u001b[0;34m]\u001b[0m\u001b[0;34m.\u001b[0m\u001b[0msplit\u001b[0m\u001b[0;34m(\u001b[0m\u001b[0;34m)\u001b[0m\u001b[0;34m.\u001b[0m\u001b[0mcount\u001b[0m\u001b[0;34m(\u001b[0m\u001b[0;34m'.'\u001b[0m\u001b[0;34m)\u001b[0m\u001b[0;34m\u001b[0m\u001b[0;34m\u001b[0m\u001b[0m\n\u001b[0m",
            "\u001b[0;31mAttributeError\u001b[0m: 'dict' object has no attribute 'index'"
          ]
        }
      ],
      "source": [
        "k_max = len(set(' '.join(texts_train).split()))\n",
        "assert X_train_bow.shape == (len(texts_train), min(k, k_max))\n",
        "assert X_test_bow.shape == (len(texts_test), min(k, k_max))\n",
        "assert np.all(X_train_bow[5:10].sum(-1) == np.array([len(s.split()) for s in  texts_train[5:10]]))\n",
        "assert len(bow_vocabulary) <= min(k, k_max)\n",
        "assert X_train_bow[6, bow_vocabulary.index('.')] == texts_train[6].split().count('.')"
      ]
    },
    {
      "cell_type": "markdown",
      "metadata": {
        "id": "O6yKtu5dMgZp"
      },
      "source": [
        "We shall use a simple linear model: __Logistic Regression__.\n",
        "It might not be the fanciest one around, but the simplicity has its own advantages: a linear model is blazingly fast and needs less data to fit.\n",
        "Let's sklearn it!"
      ]
    },
    {
      "cell_type": "code",
      "execution_count": null,
      "metadata": {
        "id": "5V_ug207MgZp"
      },
      "outputs": [],
      "source": [
        "from sklearn.linear_model import LogisticRegression\n",
        "bow_model = None  # YOUR CODE HERE - train a logistic regression"
      ]
    },
    {
      "cell_type": "code",
      "execution_count": null,
      "metadata": {
        "id": "y8TJH0u3MgZp"
      },
      "outputs": [],
      "source": [
        "from sklearn.metrics import roc_auc_score, roc_curve\n",
        "\n",
        "for name, X, y, model in [\n",
        "    ('train', X_train_bow, y_train, bow_model),\n",
        "    ('test ', X_test_bow, y_test, bow_model)\n",
        "]:\n",
        "    proba = model.predict_proba(X)[:, 1]\n",
        "    auc = roc_auc_score(y, proba)\n",
        "    plt.plot(*roc_curve(y, proba)[:2], label='%s AUC=%.4f' % (name, auc))\n",
        "\n",
        "plt.plot([0, 1], [0, 1], '--', color='black',)\n",
        "plt.legend(fontsize='large')\n",
        "plt.grid()\n",
        "\n",
        "test_accuracy = np.mean(bow_model.predict(X_test_bow) == y_test)\n",
        "print(f\"Model accuracy: {test_accuracy:.3f}\")\n",
        "assert test_accuracy > 0.77, \"Hint: tune the parameter C to improve performance\"\n",
        "print(\"Well done!\")"
      ]
    },
    {
      "cell_type": "markdown",
      "metadata": {
        "id": "ZJYiILdqMgZq"
      },
      "source": [
        "### Task: implement TF-IDF features (1 point)\n",
        "\n",
        "Not all words are equally useful. One can prioritize rare words and downscale words like \"and\"/\"or\" by using __tf-idf features__. This abbreviation stands for __text frequency/inverse document frequency__ and means exactly that:\n",
        "\n",
        "$$ \\text{feature}_i = \\frac{\\text{Count}(word_i \\in x)}{\\text{Total number of words in } x} \\times \\log\\left(\\frac{N}{\\text{Count}(word_i \\in D) + \\alpha}\\right) $$\n",
        "\n",
        "\n",
        ", where x is a single text, D is your dataset (a collection of texts), N is a total number of documents and $\\alpha$ is a smoothing hyperparameter (typically 1).\n",
        "And $Count(word_i \\in D)$ is the number of documents where $word_i$ appears.\n",
        "\n",
        "It may also be a good idea to normalize each data sample after computing tf-idf features.\n",
        "\n",
        "__Your task:__ implement tf-idf features, train a model and evaluate ROC curve. Compare it with basic BagOfWords model from above.\n",
        "\n",
        "Please don't use sklearn/nltk built-in tf-idf vectorizers in your solution :) You can still use 'em for debugging though."
      ]
    },
    {
      "cell_type": "code",
      "execution_count": null,
      "metadata": {
        "id": "bsAqFeQbMgZq"
      },
      "outputs": [],
      "source": []
    },
    {
      "cell_type": "markdown",
      "metadata": {
        "id": "E5fWSkVxMgZq"
      },
      "source": [
        "Scroll down when you're done with TF-IDF!\n",
        "```\n",
        "\n",
        "```\n",
        "\n",
        "```\n",
        "\n",
        "```\n",
        "\n",
        "```\n",
        "\n",
        "```\n",
        "\n",
        "```\n",
        "\n",
        "```\n",
        "\n",
        "```\n",
        "\n",
        "```\n",
        "\n",
        "```\n",
        "\n",
        "```\n",
        "\n",
        "```\n",
        "\n",
        "```\n",
        "\n",
        "```\n",
        "\n",
        "```\n",
        "\n",
        "\n",
        "### Solving it better: word vectors (1 point)\n",
        "\n",
        "Let's try another approach: instead of counting per-word frequencies, we shall map all words to pre-trained word vectors and average over them to get text features.\n",
        "\n",
        "This should give us two key advantages: (1) we now have 10^2 features instead of 10^4 and (2) our model can generalize to word that are not in training dataset.\n",
        "\n",
        "We begin with a standard approach with pre-trained word vectors. However, you may also try\n",
        "* training embeddings from scratch on relevant (unlabeled) data\n",
        "* multiplying word vectors by inverse word frequency in dataset (like tf-idf).\n",
        "* concatenating several embeddings\n",
        "    * call `gensim.downloader.info()['models'].keys()` to get a list of available models\n",
        "* clusterizing words by their word-vectors and try bag of cluster_ids\n",
        "\n",
        "__Note:__ loading pre-trained model may take a while. It's a perfect opportunity to refill your cup of tea/coffee and grab some extra cookies. Or binge-watch some tv series if you're slow on internet connection"
      ]
    },
    {
      "cell_type": "code",
      "execution_count": null,
      "metadata": {
        "id": "tBbgYUI9MgZq"
      },
      "outputs": [],
      "source": [
        "import gensim.downloader\n",
        "embeddings = gensim.downloader.load(\"fasttext-wiki-news-subwords-300\")\n",
        "\n",
        "# If you're low on RAM or download speed, use \"glove-wiki-gigaword-100\" instead. Ignore all further asserts."
      ]
    },
    {
      "cell_type": "code",
      "execution_count": null,
      "metadata": {
        "id": "11GXuUq1MgZr"
      },
      "outputs": [],
      "source": [
        "def vectorize_sum(comment):\n",
        "    \"\"\"\n",
        "    implement a function that converts preprocessed comment to a sum of token vectors\n",
        "    \"\"\"\n",
        "    embedding_dim = embeddings.vectors.shape[1]\n",
        "    features = np.zeros([embedding_dim], dtype='float32')\n",
        "\n",
        "    # YOUR CODE\n",
        "\n",
        "    return features\n",
        "\n",
        "assert np.allclose(\n",
        "    vectorize_sum(\"who cares anymore . they attack with impunity .\")[::70],\n",
        "    np.array([ 0.0108616 ,  0.0261663 ,  0.13855131, -0.18510573, -0.46380025])\n",
        ")"
      ]
    },
    {
      "cell_type": "code",
      "execution_count": null,
      "metadata": {
        "id": "m3bCPKp2MgZr"
      },
      "outputs": [],
      "source": [
        "X_train_wv = np.stack([vectorize_sum(text) for text in texts_train])\n",
        "X_test_wv = np.stack([vectorize_sum(text) for text in texts_test])"
      ]
    },
    {
      "cell_type": "code",
      "execution_count": null,
      "metadata": {
        "id": "xlOxg4mYMgZw"
      },
      "outputs": [],
      "source": [
        "wv_model = LogisticRegression().fit(X_train_wv, y_train)\n",
        "\n",
        "for name, X, y, model in [\n",
        "    ('bow train', X_train_bow, y_train, bow_model),\n",
        "    ('bow test ', X_test_bow, y_test, bow_model),\n",
        "    ('vec train', X_train_wv, y_train, wv_model),\n",
        "    ('vec test ', X_test_wv, y_test, wv_model)\n",
        "]:\n",
        "    proba = model.predict_proba(X)[:, 1]\n",
        "    auc = roc_auc_score(y, proba)\n",
        "    plt.plot(*roc_curve(y, proba)[:2], label='%s AUC=%.4f' % (name, auc))\n",
        "\n",
        "plt.plot([0, 1], [0, 1], '--', color='black',)\n",
        "plt.legend(fontsize='large')\n",
        "plt.grid()\n",
        "\n",
        "assert roc_auc_score(y_test, wv_model.predict_proba(X_test_wv)[:, 1]) > 0.92, \"something's wrong with your features\""
      ]
    },
    {
      "cell_type": "markdown",
      "metadata": {
        "id": "rYLyVJTKMgZx"
      },
      "source": [
        "If everything went right, you've just managed to reduce misclassification rate by a factor of two.\n",
        "This trick is very useful when you're dealing with small datasets. However, if you have hundreds of thousands of samples, there's a whole different range of methods for that. We'll get there in the second part.\n",
        "\n",
        "**Would you like to know more?**\n",
        "* See what other embeddings are there in the model zoo: `gensim.downloader.info()`\n",
        "* Take a look at [FastText embeddings](https://github.com/facebookresearch/fastText)"
      ]
    }
  ],
  "metadata": {
    "kernelspec": {
      "display_name": "Python 3 (ipykernel)",
      "language": "python",
      "name": "python3"
    },
    "language_info": {
      "codemirror_mode": {
        "name": "ipython",
        "version": 3
      },
      "file_extension": ".py",
      "mimetype": "text/x-python",
      "name": "python",
      "nbconvert_exporter": "python",
      "pygments_lexer": "ipython3",
      "version": "3.11.5"
    },
    "colab": {
      "provenance": []
    }
  },
  "nbformat": 4,
  "nbformat_minor": 0
}